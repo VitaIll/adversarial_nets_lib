{
 "cells": [
  {
   "cell_type": "markdown",
   "id": "6de89c87",
   "metadata": {},
   "source": [
    "## Simulator class\n",
    "\n",
    "### class SimulatorBase:\n",
    "\n",
    "This class defines abstract properties of simulator classes, general purpose \n",
    "of the simulator is to supply data to the adversarial estimator, this class abstracts behaviour\n",
    "of two child classes:\n",
    "1) GroundTruthSimulator\n",
    "    - is instantiated from ground truth data, graph $G = \\{X,Y,A,N\\}$, where $X$ is matrix containing exogenous covariates for each node ($n \\times k$),  $Y$ is a matrix containing node level outcomes,  $A$ is symmetric adjacency matrix (non directed graph, $n \\times n$) and $N = \\{1,...,n\\}$ is a collection of node indices. The data necessary for a creation of ground truth simulator instance are supplied externally \n",
    "\n",
    "\n"
   ]
  }
 ],
 "metadata": {
  "language_info": {
   "name": "python"
  }
 },
 "nbformat": 4,
 "nbformat_minor": 5
}
