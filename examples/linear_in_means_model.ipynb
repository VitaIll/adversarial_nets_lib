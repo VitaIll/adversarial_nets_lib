{
 "cells": [
  {
   "cell_type": "markdown",
   "id": "5ee07ed7",
   "metadata": {},
   "source": [
    "# Linear in means model\n",
    "\n",
    "Following notebook runs a test of structural adversarial estimation of linear in means peer effect model of a form:\n",
    "$$ y_i = a + b \\cdot  1/|\\mathcal{N(i)}| \\sum_{j \\in \\mathcal{N(i)}} x_j + \\varepsilon_i$$\n",
    "\n",
    "Where $y_i$ is a scalar outcome of node $i$, $\\mathcal{N(i)}$ is set of $i$'s neighbours and $x_j$ is some characteristic of $j$ exogenous to the structural model.\n",
    "Ultimately, such model can be easily estimated with cross-sectional OLS but this experiment shows that our method works for trivial case, and for 2 parameter model we are able to visualize objective and optimization path. The discriminator is simple GNN with a single convolutional layer and linear classifier and we use ego sampling of depth 1 to create the training sample. Outside minimization problem of the adversarial objective is solved with surrogate optimization using GP as model of expected improvement."
   ]
  },
  {
   "cell_type": "markdown",
   "id": "fb9ffc08",
   "metadata": {},
   "source": [
    "## Imports"
   ]
  },
  {
   "cell_type": "code",
   "execution_count": 7,
   "id": "3048c351",
   "metadata": {},
   "outputs": [],
   "source": [
    "import warnings\n",
    "warnings.filterwarnings(\"ignore\", message=\"An issue occurred while importing 'torch-sparse'\")\n",
    "warnings.filterwarnings(\"ignore\", message=\"An issue occurred while importing 'torch-cluster'\")\n",
    "\n",
    "import torch\n",
    "import torch.nn as nn\n",
    "import torch.nn.functional as F\n",
    "from torch_geometric.nn import GCNConv, global_mean_pool\n",
    "import numpy as np\n",
    "import networkx as nx\n",
    "import matplotlib.pyplot as plt\n",
    "from tqdm import tqdm\n",
    "import random\n",
    "\n",
    "from adversarial_nets import (\n",
    "    AdversarialEstimator,\n",
    "    GraphDataset,\n",
    "    objective_function\n",
    ")"
   ]
  },
  {
   "cell_type": "markdown",
   "id": "1ceb1a3f",
   "metadata": {},
   "source": [
    "## Test dataset "
   ]
  },
  {
   "cell_type": "code",
   "execution_count": 8,
   "id": "520dd77a",
   "metadata": {},
   "outputs": [],
   "source": [
    "N_NODES = 2500\n",
    "N_SAMPLES = 2000\n",
    "N_EPOCHS = 6\n",
    "RESOLUTION = 10\n",
    "P = 0.01\n",
    "\n",
    "def create_test_graph_dataset(\n",
    "    num_nodes: int = 100,\n",
    "    true_a: float = 1.0,\n",
    "    true_b: float = 2.0,\n",
    "    p: float = 0.01,\n",
    "    seed: int = 42\n",
    ") -> GraphDataset:\n",
    "    \"\"\"Generate a test graph dataset for a linear-in-means model.\"\"\"\n",
    "    \n",
    "    np.random.seed(seed)\n",
    "    random.seed(seed)\n",
    "    torch.manual_seed(seed)\n",
    "\n",
    "    G = nx.erdos_renyi_graph(n=num_nodes, p=p, seed=seed)\n",
    "    A = nx.adjacency_matrix(G).todense()  \n",
    "    X = np.random.randn(num_nodes, 1)\n",
    "\n",
    "    Y = np.zeros((num_nodes, 1))\n",
    "    for i in range(num_nodes):\n",
    "        neighbors = list(G.neighbors(i))\n",
    "        if neighbors:\n",
    "            mean_neighbor_x = np.mean(X[neighbors], axis=0)\n",
    "        else:\n",
    "            mean_neighbor_x = 0.0\n",
    "        Y[i] = true_a + true_b * mean_neighbor_x + np.random.normal(0.0, 0.1)\n",
    "\n",
    "    N = list(range(num_nodes))\n",
    "\n",
    "    return GraphDataset(X=X, Y=Y, A=A, N=N)"
   ]
  },
  {
   "cell_type": "markdown",
   "id": "2fab0653",
   "metadata": {},
   "source": [
    "## Structural model mapping"
   ]
  },
  {
   "cell_type": "code",
   "execution_count": 9,
   "id": "a1b701ed",
   "metadata": {},
   "outputs": [],
   "source": [
    "from numba import njit, prange\n",
    "\n",
    "@njit(parallel=True)\n",
    "def linear_in_means_model(x, peer_operator, y0, theta):\n",
    "    \"\"\"\n",
    "    Numba-optimized linear-in-means model with automatic parallelization.\n",
    "    \n",
    "    Parameters:\n",
    "    -----------\n",
    "    x : numpy.ndarray\n",
    "        Node features (n \u00d7 k) - must be C-contiguous\n",
    "    peer_operator : numpy.ndarray\n",
    "        Peer operator with zero diagonal (n \u00d7 n) - must be C-contiguous\n",
    "    y0 : numpy.ndarray\n",
    "        Initial outcomes (ignored in this simple model)\n",
    "    theta : tuple or list\n",
    "        Parameters (a, b) - pass as tuple for better Numba performance\n",
    "    \n",
    "    Returns:\n",
    "    --------\n",
    "    numpy.ndarray\n",
    "        Generated outcomes (n \u00d7 1)\n",
    "    \"\"\"\n",
    "    a, b = theta[0], theta[1]\n",
    "    n = x.shape[0]\n",
    "    y = np.zeros((n, 1), dtype=x.dtype)\n",
    "    \n",
    "    for i in prange(n):\n",
    "        neighbor_sum = 0.0\n",
    "        neighbor_count = 0\n",
    "        \n",
    "        for j in range(n):\n",
    "            if peer_operator[i, j] > 0:\n",
    "                neighbor_sum += x[j, 0]\n",
    "                neighbor_count += 1\n",
    "        \n",
    "        if neighbor_count > 0:\n",
    "            mean_neighbor_x = neighbor_sum / neighbor_count\n",
    "        else:\n",
    "            mean_neighbor_x = 0.0\n",
    "            \n",
    "        y[i, 0] = a + b * mean_neighbor_x\n",
    "    \n",
    "    return y"
   ]
  },
  {
   "cell_type": "code",
   "execution_count": 10,
   "id": "ca52ff9b",
   "metadata": {},
   "outputs": [],
   "source": [
    "def discriminator_factory(input_dim, hidden_dim=16, num_classes=2):\n",
    "    class SimpleGNN(nn.Module):\n",
    "        def __init__(self, in_dim, hid_dim, num_cls):\n",
    "            super().__init__()\n",
    "            self.conv = GCNConv(in_dim, hid_dim)\n",
    "            self.classifier = nn.Linear(hid_dim, num_cls)\n",
    "\n",
    "        def forward(self, data):\n",
    "            x, edge_index, batch = data.x, data.edge_index, data.batch\n",
    "            x = F.relu(self.conv(x, edge_index))\n",
    "            x = F.dropout(x, p=0.2, training=self.training)\n",
    "            x = global_mean_pool(x, batch)\n",
    "            return self.classifier(x)\n",
    "\n",
    "    return SimpleGNN(input_dim, hidden_dim, num_classes)"
   ]
  },
  {
   "cell_type": "markdown",
   "id": "03b07c8d",
   "metadata": {},
   "source": [
    "## Visualization utils "
   ]
  },
  {
   "cell_type": "code",
   "execution_count": 11,
   "id": "be941878",
   "metadata": {},
   "outputs": [],
   "source": [
    "def visualize_objective_surface(estimator, m, resolution, num_epochs, verbose=False):\n",
    "    a_range = np.linspace(-3, 5, resolution)\n",
    "    b_range = np.linspace(-1, 5, resolution)\n",
    "    A, B = np.meshgrid(a_range, b_range)\n",
    "\n",
    "    Z = np.zeros_like(A)\n",
    "\n",
    "    total_evals = resolution * resolution\n",
    "    with tqdm(total=total_evals, desc=\"Evaluating objective surface\") as pbar:\n",
    "        for i in range(resolution):\n",
    "            for j in range(resolution):\n",
    "                theta = [A[i, j], B[i, j]]\n",
    "                Z[i, j] = objective_function(\n",
    "                    theta,\n",
    "                    estimator.ground_truth_generator,\n",
    "                    estimator.synthetic_generator,\n",
    "                    discriminator_factory=estimator.discriminator_factory,\n",
    "                    num_epochs=num_epochs,\n",
    "                    m=m,\n",
    "                    verbose=verbose,\n",
    "                )\n",
    "                pbar.update(1)\n",
    "\n",
    "    fig = plt.figure(figsize=(12, 5))\n",
    "\n",
    "    ax1 = fig.add_subplot(121, projection='3d')\n",
    "    surf = ax1.plot_surface(A, B, Z, cmap='viridis', alpha=0.8)\n",
    "    ax1.set_xlabel('Parameter a')\n",
    "    ax1.set_ylabel('Parameter b')\n",
    "    ax1.set_zlabel('Discriminator Accuracy')\n",
    "    ax1.set_title('Objective Function Surface')\n",
    "\n",
    "    true_a, true_b = 1.0, 2.0\n",
    "    ax1.scatter([true_a], [true_b], [Z.min()], color='red', s=100, marker='*', label='True params')\n",
    "\n",
    "    ax2 = fig.add_subplot(122)\n",
    "    contour = ax2.contour(A, B, Z, levels=20, cmap='viridis')\n",
    "    ax2.clabel(contour, inline=True, fontsize=8)\n",
    "    ax2.scatter([true_a], [true_b], color='red', s=100, marker='*', label='True params')\n",
    "\n",
    "    if hasattr(estimator, 'estimated_params') and estimator.estimated_params is not None:\n",
    "        est_a, est_b = estimator.estimated_params\n",
    "        ax1.scatter([est_a], [est_b], [Z.min()], color='orange', s=100, marker='^', label='Estimated params')\n",
    "        ax2.scatter([est_a], [est_b], color='orange', s=100, marker='^', label='Estimated params')\n",
    "\n",
    "    ax2.set_xlabel('Parameter a')\n",
    "    ax2.set_ylabel('Parameter b')\n",
    "    ax2.set_title('Objective Function Contours')\n",
    "    ax2.legend()\n",
    "\n",
    "    plt.colorbar(surf, ax=ax1, shrink=0.5)\n",
    "    plt.tight_layout()\n",
    "    plt.show()\n",
    "\n",
    "    return Z, (A, B)"
   ]
  },
  {
   "cell_type": "markdown",
   "id": "91ae2a4f",
   "metadata": {},
   "source": [
    "## Execution"
   ]
  },
  {
   "cell_type": "code",
   "execution_count": 12,
   "id": "8f4057f9",
   "metadata": {},
   "outputs": [
    {
     "name": "stdout",
     "output_type": "stream",
     "text": [
      "Testing Adversarial Estimation for Linear-in-Means Model\n",
      "============================================================\n",
      "\n",
      "1. Generating test dataset...\n",
      "\n",
      "2. Creating adversarial estimator...\n",
      "\n",
      "3. Visualizing objective function surface...\n"
     ]
    },
    {
     "name": "stderr",
     "output_type": "stream",
     "text": [
      "Evaluating objective surface:   0%|          | 0/100 [00:00<?, ?it/s]"
     ]
    },
    {
     "name": "stdout",
     "output_type": "stream",
     "text": [
      "Epoch 0, Loss: 0.5689\n",
      "Epoch 1, Loss: 0.1922\n",
      "Epoch 2, Loss: 0.0559\n",
      "Epoch 3, Loss: 0.0178\n",
      "Epoch 4, Loss: 0.0082\n",
      "Epoch 5, Loss: 0.0050\n"
     ]
    },
    {
     "name": "stderr",
     "output_type": "stream",
     "text": [
      "Evaluating objective surface:   1%|          | 1/100 [00:05<08:59,  5.45s/it]"
     ]
    },
    {
     "name": "stdout",
     "output_type": "stream",
     "text": [
      "Test objective (-CE) for theta=[-3.0, -1.0]: -0.0042\n",
      "Epoch 0, Loss: 0.4607\n",
      "Epoch 1, Loss: 0.1630\n",
      "Epoch 2, Loss: 0.0413\n",
      "Epoch 3, Loss: 0.0124\n",
      "Epoch 4, Loss: 0.0058\n",
      "Epoch 5, Loss: 0.0037\n"
     ]
    },
    {
     "name": "stderr",
     "output_type": "stream",
     "text": [
      "Evaluating objective surface:   2%|\u258f         | 2/100 [00:08<07:03,  4.32s/it]"
     ]
    },
    {
     "name": "stdout",
     "output_type": "stream",
     "text": [
      "Test objective (-CE) for theta=[-2.111111111111111, -1.0]: -0.0031\n",
      "Epoch 0, Loss: 0.5948\n",
      "Epoch 1, Loss: 0.3089\n",
      "Epoch 2, Loss: 0.1079\n",
      "Epoch 3, Loss: 0.0324\n",
      "Epoch 4, Loss: 0.0127\n",
      "Epoch 5, Loss: 0.0070\n"
     ]
    },
    {
     "name": "stderr",
     "output_type": "stream",
     "text": [
      "Evaluating objective surface:   3%|\u258e         | 3/100 [00:12<06:22,  3.94s/it]"
     ]
    },
    {
     "name": "stdout",
     "output_type": "stream",
     "text": [
      "Test objective (-CE) for theta=[-1.2222222222222223, -1.0]: -0.0054\n",
      "Epoch 0, Loss: 0.5623\n",
      "Epoch 1, Loss: 0.3170\n",
      "Epoch 2, Loss: 0.1266\n",
      "Epoch 3, Loss: 0.0420\n",
      "Epoch 4, Loss: 0.0171\n"
     ]
    },
    {
     "name": "stderr",
     "output_type": "stream",
     "text": [
      "Evaluating objective surface:   4%|\u258d         | 4/100 [00:16<06:06,  3.81s/it]"
     ]
    },
    {
     "name": "stdout",
     "output_type": "stream",
     "text": [
      "Epoch 5, Loss: 0.0094\n",
      "Test objective (-CE) for theta=[-0.3333333333333335, -1.0]: -0.0070\n",
      "Epoch 0, Loss: 0.6452\n",
      "Epoch 1, Loss: 0.5440\n",
      "Epoch 2, Loss: 0.4236\n",
      "Epoch 3, Loss: 0.2998\n",
      "Epoch 4, Loss: 0.1976\n"
     ]
    },
    {
     "name": "stderr",
     "output_type": "stream",
     "text": [
      "Evaluating objective surface:   5%|\u258c         | 5/100 [00:20<06:06,  3.85s/it]"
     ]
    },
    {
     "name": "stdout",
     "output_type": "stream",
     "text": [
      "Epoch 5, Loss: 0.1280\n",
      "Test objective (-CE) for theta=[0.5555555555555554, -1.0]: -0.1011\n",
      "Epoch 0, Loss: 0.6847\n",
      "Epoch 1, Loss: 0.6601\n",
      "Epoch 2, Loss: 0.6214\n",
      "Epoch 3, Loss: 0.5646\n",
      "Epoch 4, Loss: 0.4980\n"
     ]
    },
    {
     "name": "stderr",
     "output_type": "stream",
     "text": [
      "Evaluating objective surface:   6%|\u258c         | 6/100 [00:25<06:38,  4.24s/it]"
     ]
    },
    {
     "name": "stdout",
     "output_type": "stream",
     "text": [
      "Epoch 5, Loss: 0.4257\n",
      "Test objective (-CE) for theta=[1.4444444444444446, -1.0]: -0.3898\n",
      "Epoch 0, Loss: 0.6772\n",
      "Epoch 1, Loss: 0.5585\n",
      "Epoch 2, Loss: 0.4128\n",
      "Epoch 3, Loss: 0.2572\n",
      "Epoch 4, Loss: 0.1407\n"
     ]
    },
    {
     "name": "stderr",
     "output_type": "stream",
     "text": [
      "Evaluating objective surface:   7%|\u258b         | 7/100 [00:30<07:24,  4.78s/it]"
     ]
    },
    {
     "name": "stdout",
     "output_type": "stream",
     "text": [
      "Epoch 5, Loss: 0.0736\n",
      "Test objective (-CE) for theta=[2.333333333333333, -1.0]: -0.0502\n",
      "Epoch 0, Loss: 0.6203\n",
      "Epoch 1, Loss: 0.4824\n",
      "Epoch 2, Loss: 0.3252\n",
      "Epoch 3, Loss: 0.1666\n",
      "Epoch 4, Loss: 0.0684\n"
     ]
    },
    {
     "name": "stderr",
     "output_type": "stream",
     "text": [
      "Evaluating objective surface:   8%|\u258a         | 8/100 [00:37<08:00,  5.22s/it]"
     ]
    },
    {
     "name": "stdout",
     "output_type": "stream",
     "text": [
      "Epoch 5, Loss: 0.0288\n",
      "Test objective (-CE) for theta=[3.2222222222222214, -1.0]: -0.0181\n",
      "Epoch 0, Loss: 0.6402\n",
      "Epoch 1, Loss: 0.4588\n",
      "Epoch 2, Loss: 0.2588\n",
      "Epoch 3, Loss: 0.1141\n",
      "Epoch 4, Loss: 0.0471\n"
     ]
    },
    {
     "name": "stderr",
     "output_type": "stream",
     "text": [
      "Evaluating objective surface:   9%|\u2589         | 9/100 [00:43<08:17,  5.46s/it]"
     ]
    },
    {
     "name": "stdout",
     "output_type": "stream",
     "text": [
      "Epoch 5, Loss: 0.0221\n",
      "Test objective (-CE) for theta=[4.111111111111111, -1.0]: -0.0155\n",
      "Epoch 0, Loss: 0.5060\n",
      "Epoch 1, Loss: 0.3272\n",
      "Epoch 2, Loss: 0.1693\n",
      "Epoch 3, Loss: 0.0727\n",
      "Epoch 4, Loss: 0.0314\n",
      "Epoch 5, Loss: 0.0162\n"
     ]
    },
    {
     "name": "stderr",
     "output_type": "stream",
     "text": [
      "Evaluating objective surface:  10%|\u2588         | 10/100 [00:49<08:26,  5.63s/it]"
     ]
    },
    {
     "name": "stdout",
     "output_type": "stream",
     "text": [
      "Test objective (-CE) for theta=[5.0, -1.0]: -0.0120\n",
      "Epoch 0, Loss: 0.4020\n",
      "Epoch 1, Loss: 0.1415\n",
      "Epoch 2, Loss: 0.0368\n",
      "Epoch 3, Loss: 0.0109\n",
      "Epoch 4, Loss: 0.0051\n"
     ]
    },
    {
     "name": "stderr",
     "output_type": "stream",
     "text": [
      "Evaluating objective surface:  11%|\u2588         | 11/100 [00:54<08:23,  5.66s/it]"
     ]
    },
    {
     "name": "stdout",
     "output_type": "stream",
     "text": [
      "Epoch 5, Loss: 0.0032\n",
      "Test objective (-CE) for theta=[-3.0, -0.33333333333333337]: -0.0026\n",
      "Epoch 0, Loss: 0.4873\n",
      "Epoch 1, Loss: 0.1660\n",
      "Epoch 2, Loss: 0.0430\n",
      "Epoch 3, Loss: 0.0136\n",
      "Epoch 4, Loss: 0.0064\n"
     ]
    },
    {
     "name": "stderr",
     "output_type": "stream",
     "text": [
      "Evaluating objective surface:  12%|\u2588\u258f        | 12/100 [01:01<08:39,  5.90s/it]"
     ]
    },
    {
     "name": "stdout",
     "output_type": "stream",
     "text": [
      "Epoch 5, Loss: 0.0041\n",
      "Test objective (-CE) for theta=[-2.111111111111111, -0.33333333333333337]: -0.0033\n",
      "Epoch 0, Loss: 0.6520\n",
      "Epoch 1, Loss: 0.3765\n",
      "Epoch 2, Loss: 0.1546\n",
      "Epoch 3, Loss: 0.0498\n",
      "Epoch 4, Loss: 0.0179\n"
     ]
    },
    {
     "name": "stderr",
     "output_type": "stream",
     "text": [
      "Evaluating objective surface:  13%|\u2588\u258e        | 13/100 [01:07<08:35,  5.92s/it]"
     ]
    },
    {
     "name": "stdout",
     "output_type": "stream",
     "text": [
      "Epoch 5, Loss: 0.0089\n",
      "Test objective (-CE) for theta=[-1.2222222222222223, -0.33333333333333337]: -0.0067\n",
      "Epoch 0, Loss: 0.6066\n",
      "Epoch 1, Loss: 0.3727\n",
      "Epoch 2, Loss: 0.1681\n",
      "Epoch 3, Loss: 0.0600\n",
      "Epoch 4, Loss: 0.0237\n"
     ]
    },
    {
     "name": "stderr",
     "output_type": "stream",
     "text": [
      "Evaluating objective surface:  14%|\u2588\u258d        | 14/100 [01:13<08:31,  5.95s/it]"
     ]
    },
    {
     "name": "stdout",
     "output_type": "stream",
     "text": [
      "Epoch 5, Loss: 0.0123\n",
      "Test objective (-CE) for theta=[-0.3333333333333335, -0.33333333333333337]: -0.0092\n",
      "Epoch 0, Loss: 0.6767\n",
      "Epoch 1, Loss: 0.5952\n",
      "Epoch 2, Loss: 0.4821\n",
      "Epoch 3, Loss: 0.3441\n",
      "Epoch 4, Loss: 0.2174\n"
     ]
    },
    {
     "name": "stderr",
     "output_type": "stream",
     "text": [
      "Evaluating objective surface:  15%|\u2588\u258c        | 15/100 [01:19<08:28,  5.98s/it]"
     ]
    },
    {
     "name": "stdout",
     "output_type": "stream",
     "text": [
      "Epoch 5, Loss: 0.1294\n",
      "Test objective (-CE) for theta=[0.5555555555555554, -0.33333333333333337]: -0.0945\n",
      "Epoch 0, Loss: 0.6862\n",
      "Epoch 1, Loss: 0.6520\n",
      "Epoch 2, Loss: 0.5944\n",
      "Epoch 3, Loss: 0.5135\n",
      "Epoch 4, Loss: 0.4163\n"
     ]
    },
    {
     "name": "stderr",
     "output_type": "stream",
     "text": [
      "Evaluating objective surface:  16%|\u2588\u258c        | 16/100 [01:25<08:24,  6.00s/it]"
     ]
    },
    {
     "name": "stdout",
     "output_type": "stream",
     "text": [
      "Epoch 5, Loss: 0.3251\n",
      "Test objective (-CE) for theta=[1.4444444444444446, -0.33333333333333337]: -0.2701\n",
      "Epoch 0, Loss: 0.5937\n",
      "Epoch 1, Loss: 0.4775\n",
      "Epoch 2, Loss: 0.3339\n",
      "Epoch 3, Loss: 0.1881\n",
      "Epoch 4, Loss: 0.0910\n"
     ]
    },
    {
     "name": "stderr",
     "output_type": "stream",
     "text": [
      "Evaluating objective surface:  17%|\u2588\u258b        | 17/100 [01:31<08:24,  6.08s/it]"
     ]
    },
    {
     "name": "stdout",
     "output_type": "stream",
     "text": [
      "Epoch 5, Loss: 0.0440\n",
      "Test objective (-CE) for theta=[2.333333333333333, -0.33333333333333337]: -0.0298\n",
      "Epoch 0, Loss: 0.6063\n",
      "Epoch 1, Loss: 0.4653\n",
      "Epoch 2, Loss: 0.3161\n",
      "Epoch 3, Loss: 0.1802\n",
      "Epoch 4, Loss: 0.0918\n"
     ]
    },
    {
     "name": "stderr",
     "output_type": "stream",
     "text": [
      "Evaluating objective surface:  18%|\u2588\u258a        | 18/100 [01:38<08:27,  6.19s/it]"
     ]
    },
    {
     "name": "stdout",
     "output_type": "stream",
     "text": [
      "Epoch 5, Loss: 0.0472\n",
      "Test objective (-CE) for theta=[3.2222222222222214, -0.33333333333333337]: -0.0328\n",
      "Epoch 0, Loss: 0.5520\n",
      "Epoch 1, Loss: 0.3714\n",
      "Epoch 2, Loss: 0.1910\n",
      "Epoch 3, Loss: 0.0767\n",
      "Epoch 4, Loss: 0.0324\n"
     ]
    },
    {
     "name": "stderr",
     "output_type": "stream",
     "text": [
      "Evaluating objective surface:  19%|\u2588\u2589        | 19/100 [01:44<08:19,  6.17s/it]"
     ]
    },
    {
     "name": "stdout",
     "output_type": "stream",
     "text": [
      "Epoch 5, Loss: 0.0161\n",
      "Test objective (-CE) for theta=[4.111111111111111, -0.33333333333333337]: -0.0115\n",
      "Epoch 0, Loss: 0.6917\n",
      "Epoch 1, Loss: 0.4351\n",
      "Epoch 2, Loss: 0.2290\n",
      "Epoch 3, Loss: 0.0879\n",
      "Epoch 4, Loss: 0.0328\n"
     ]
    },
    {
     "name": "stderr",
     "output_type": "stream",
     "text": [
      "Evaluating objective surface:  20%|\u2588\u2588        | 20/100 [01:50<08:07,  6.09s/it]"
     ]
    },
    {
     "name": "stdout",
     "output_type": "stream",
     "text": [
      "Epoch 5, Loss: 0.0148\n",
      "Test objective (-CE) for theta=[5.0, -0.33333333333333337]: -0.0104\n",
      "Epoch 0, Loss: 0.4722\n",
      "Epoch 1, Loss: 0.1764\n",
      "Epoch 2, Loss: 0.0430\n",
      "Epoch 3, Loss: 0.0116\n",
      "Epoch 4, Loss: 0.0051\n"
     ]
    },
    {
     "name": "stderr",
     "output_type": "stream",
     "text": [
      "Evaluating objective surface:  21%|\u2588\u2588        | 21/100 [01:56<08:08,  6.18s/it]"
     ]
    },
    {
     "name": "stdout",
     "output_type": "stream",
     "text": [
      "Epoch 5, Loss: 0.0032\n",
      "Test objective (-CE) for theta=[-3.0, 0.33333333333333326]: -0.0025\n",
      "Epoch 0, Loss: 0.6364\n",
      "Epoch 1, Loss: 0.4001\n",
      "Epoch 2, Loss: 0.2382\n",
      "Epoch 3, Loss: 0.1379\n",
      "Epoch 4, Loss: 0.0719\n"
     ]
    },
    {
     "name": "stderr",
     "output_type": "stream",
     "text": [
      "Evaluating objective surface:  22%|\u2588\u2588\u258f       | 22/100 [02:02<08:03,  6.20s/it]"
     ]
    },
    {
     "name": "stdout",
     "output_type": "stream",
     "text": [
      "Epoch 5, Loss: 0.0349\n",
      "Test objective (-CE) for theta=[-2.111111111111111, 0.33333333333333326]: -0.0221\n",
      "Epoch 0, Loss: 0.7670\n",
      "Epoch 1, Loss: 0.4407\n",
      "Epoch 2, Loss: 0.2023\n",
      "Epoch 3, Loss: 0.0696\n",
      "Epoch 4, Loss: 0.0246\n"
     ]
    },
    {
     "name": "stderr",
     "output_type": "stream",
     "text": [
      "Evaluating objective surface:  23%|\u2588\u2588\u258e       | 23/100 [02:08<07:53,  6.15s/it]"
     ]
    },
    {
     "name": "stdout",
     "output_type": "stream",
     "text": [
      "Epoch 5, Loss: 0.0118\n",
      "Test objective (-CE) for theta=[-1.2222222222222223, 0.33333333333333326]: -0.0083\n",
      "Epoch 0, Loss: 0.5490\n",
      "Epoch 1, Loss: 0.3165\n",
      "Epoch 2, Loss: 0.1285\n",
      "Epoch 3, Loss: 0.0441\n",
      "Epoch 4, Loss: 0.0180\n"
     ]
    },
    {
     "name": "stderr",
     "output_type": "stream",
     "text": [
      "Evaluating objective surface:  24%|\u2588\u2588\u258d       | 24/100 [02:15<07:52,  6.21s/it]"
     ]
    },
    {
     "name": "stdout",
     "output_type": "stream",
     "text": [
      "Epoch 5, Loss: 0.0097\n",
      "Test objective (-CE) for theta=[-0.3333333333333335, 0.33333333333333326]: -0.0072\n",
      "Epoch 0, Loss: 0.6916\n",
      "Epoch 1, Loss: 0.6326\n",
      "Epoch 2, Loss: 0.5438\n",
      "Epoch 3, Loss: 0.4199\n",
      "Epoch 4, Loss: 0.2882\n"
     ]
    },
    {
     "name": "stderr",
     "output_type": "stream",
     "text": [
      "Evaluating objective surface:  25%|\u2588\u2588\u258c       | 25/100 [02:21<07:51,  6.29s/it]"
     ]
    },
    {
     "name": "stdout",
     "output_type": "stream",
     "text": [
      "Epoch 5, Loss: 0.1834\n",
      "Test objective (-CE) for theta=[0.5555555555555554, 0.33333333333333326]: -0.1336\n",
      "Epoch 0, Loss: 0.6866\n",
      "Epoch 1, Loss: 0.6513\n",
      "Epoch 2, Loss: 0.6023\n",
      "Epoch 3, Loss: 0.5337\n",
      "Epoch 4, Loss: 0.4595\n"
     ]
    },
    {
     "name": "stderr",
     "output_type": "stream",
     "text": [
      "Evaluating objective surface:  26%|\u2588\u2588\u258c       | 26/100 [02:27<07:43,  6.26s/it]"
     ]
    },
    {
     "name": "stdout",
     "output_type": "stream",
     "text": [
      "Epoch 5, Loss: 0.3784\n",
      "Test objective (-CE) for theta=[1.4444444444444446, 0.33333333333333326]: -0.3317\n",
      "Epoch 0, Loss: 0.6587\n",
      "Epoch 1, Loss: 0.5420\n",
      "Epoch 2, Loss: 0.3906\n",
      "Epoch 3, Loss: 0.2374\n",
      "Epoch 4, Loss: 0.1237\n"
     ]
    },
    {
     "name": "stderr",
     "output_type": "stream",
     "text": [
      "Evaluating objective surface:  27%|\u2588\u2588\u258b       | 27/100 [02:33<07:34,  6.22s/it]"
     ]
    },
    {
     "name": "stdout",
     "output_type": "stream",
     "text": [
      "Epoch 5, Loss: 0.0620\n",
      "Test objective (-CE) for theta=[2.333333333333333, 0.33333333333333326]: -0.0414\n",
      "Epoch 0, Loss: 0.5087\n",
      "Epoch 1, Loss: 0.3721\n",
      "Epoch 2, Loss: 0.2326\n",
      "Epoch 3, Loss: 0.1141\n",
      "Epoch 4, Loss: 0.0498\n"
     ]
    },
    {
     "name": "stderr",
     "output_type": "stream",
     "text": [
      "Evaluating objective surface:  28%|\u2588\u2588\u258a       | 28/100 [02:40<07:30,  6.25s/it]"
     ]
    },
    {
     "name": "stdout",
     "output_type": "stream",
     "text": [
      "Epoch 5, Loss: 0.0228\n",
      "Test objective (-CE) for theta=[3.2222222222222214, 0.33333333333333326]: -0.0150\n",
      "Epoch 0, Loss: 0.6198\n",
      "Epoch 1, Loss: 0.4256\n",
      "Epoch 2, Loss: 0.2574\n",
      "Epoch 3, Loss: 0.1235\n",
      "Epoch 4, Loss: 0.0511\n"
     ]
    },
    {
     "name": "stderr",
     "output_type": "stream",
     "text": [
      "Evaluating objective surface:  29%|\u2588\u2588\u2589       | 29/100 [02:46<07:22,  6.24s/it]"
     ]
    },
    {
     "name": "stdout",
     "output_type": "stream",
     "text": [
      "Epoch 5, Loss: 0.0235\n",
      "Test objective (-CE) for theta=[4.111111111111111, 0.33333333333333326]: -0.0163\n",
      "Epoch 0, Loss: 0.4614\n",
      "Epoch 1, Loss: 0.3112\n",
      "Epoch 2, Loss: 0.1816\n",
      "Epoch 3, Loss: 0.0787\n",
      "Epoch 4, Loss: 0.0311\n"
     ]
    },
    {
     "name": "stderr",
     "output_type": "stream",
     "text": [
      "Evaluating objective surface:  30%|\u2588\u2588\u2588       | 30/100 [02:52<07:12,  6.18s/it]"
     ]
    },
    {
     "name": "stdout",
     "output_type": "stream",
     "text": [
      "Epoch 5, Loss: 0.0147\n",
      "Test objective (-CE) for theta=[5.0, 0.33333333333333326]: -0.0102\n",
      "Epoch 0, Loss: 0.6466\n",
      "Epoch 1, Loss: 0.2501\n",
      "Epoch 2, Loss: 0.0645\n",
      "Epoch 3, Loss: 0.0173\n",
      "Epoch 4, Loss: 0.0073\n"
     ]
    },
    {
     "name": "stderr",
     "output_type": "stream",
     "text": [
      "Evaluating objective surface:  31%|\u2588\u2588\u2588       | 31/100 [02:58<07:04,  6.15s/it]"
     ]
    },
    {
     "name": "stdout",
     "output_type": "stream",
     "text": [
      "Epoch 5, Loss: 0.0044\n",
      "Test objective (-CE) for theta=[-3.0, 1.0]: -0.0035\n",
      "Epoch 0, Loss: 0.4538\n",
      "Epoch 1, Loss: 0.1608\n",
      "Epoch 2, Loss: 0.0423\n",
      "Epoch 3, Loss: 0.0134\n",
      "Epoch 4, Loss: 0.0063\n"
     ]
    },
    {
     "name": "stderr",
     "output_type": "stream",
     "text": [
      "Evaluating objective surface:  32%|\u2588\u2588\u2588\u258f      | 32/100 [03:03<06:42,  5.92s/it]"
     ]
    },
    {
     "name": "stdout",
     "output_type": "stream",
     "text": [
      "Epoch 5, Loss: 0.0040\n",
      "Test objective (-CE) for theta=[-2.111111111111111, 1.0]: -0.0033\n",
      "Epoch 0, Loss: 0.5307\n",
      "Epoch 1, Loss: 0.2595\n",
      "Epoch 2, Loss: 0.0813\n",
      "Epoch 3, Loss: 0.0229\n",
      "Epoch 4, Loss: 0.0090\n"
     ]
    },
    {
     "name": "stderr",
     "output_type": "stream",
     "text": [
      "Evaluating objective surface:  33%|\u2588\u2588\u2588\u258e      | 33/100 [03:10<06:49,  6.11s/it]"
     ]
    },
    {
     "name": "stdout",
     "output_type": "stream",
     "text": [
      "Epoch 5, Loss: 0.0050\n",
      "Test objective (-CE) for theta=[-1.2222222222222223, 1.0]: -0.0040\n",
      "Epoch 0, Loss: 0.5780\n",
      "Epoch 1, Loss: 0.3889\n",
      "Epoch 2, Loss: 0.2098\n",
      "Epoch 3, Loss: 0.0892\n",
      "Epoch 4, Loss: 0.0360\n"
     ]
    },
    {
     "name": "stderr",
     "output_type": "stream",
     "text": [
      "Evaluating objective surface:  34%|\u2588\u2588\u2588\u258d      | 34/100 [03:16<06:43,  6.12s/it]"
     ]
    },
    {
     "name": "stdout",
     "output_type": "stream",
     "text": [
      "Epoch 5, Loss: 0.0171\n",
      "Test objective (-CE) for theta=[-0.3333333333333335, 1.0]: -0.0118\n",
      "Epoch 0, Loss: 0.6543\n",
      "Epoch 1, Loss: 0.5616\n",
      "Epoch 2, Loss: 0.4399\n",
      "Epoch 3, Loss: 0.3124\n",
      "Epoch 4, Loss: 0.2004\n"
     ]
    },
    {
     "name": "stderr",
     "output_type": "stream",
     "text": [
      "Evaluating objective surface:  35%|\u2588\u2588\u2588\u258c      | 35/100 [03:22<06:41,  6.18s/it]"
     ]
    },
    {
     "name": "stdout",
     "output_type": "stream",
     "text": [
      "Epoch 5, Loss: 0.1265\n",
      "Test objective (-CE) for theta=[0.5555555555555554, 1.0]: -0.0913\n",
      "Epoch 0, Loss: 0.6786\n",
      "Epoch 1, Loss: 0.6375\n",
      "Epoch 2, Loss: 0.5814\n",
      "Epoch 3, Loss: 0.5073\n",
      "Epoch 4, Loss: 0.4134\n"
     ]
    },
    {
     "name": "stderr",
     "output_type": "stream",
     "text": [
      "Evaluating objective surface:  36%|\u2588\u2588\u2588\u258c      | 36/100 [03:28<06:31,  6.12s/it]"
     ]
    },
    {
     "name": "stdout",
     "output_type": "stream",
     "text": [
      "Epoch 5, Loss: 0.3109\n",
      "Test objective (-CE) for theta=[1.4444444444444446, 1.0]: -0.2470\n",
      "Epoch 0, Loss: 0.6561\n",
      "Epoch 1, Loss: 0.5331\n",
      "Epoch 2, Loss: 0.3580\n",
      "Epoch 3, Loss: 0.1988\n",
      "Epoch 4, Loss: 0.0948\n"
     ]
    },
    {
     "name": "stderr",
     "output_type": "stream",
     "text": [
      "Evaluating objective surface:  37%|\u2588\u2588\u2588\u258b      | 37/100 [03:35<06:25,  6.12s/it]"
     ]
    },
    {
     "name": "stdout",
     "output_type": "stream",
     "text": [
      "Epoch 5, Loss: 0.0461\n",
      "Test objective (-CE) for theta=[2.333333333333333, 1.0]: -0.0298\n",
      "Epoch 0, Loss: 0.6302\n",
      "Epoch 1, Loss: 0.4511\n",
      "Epoch 2, Loss: 0.2628\n",
      "Epoch 3, Loss: 0.1206\n",
      "Epoch 4, Loss: 0.0521\n"
     ]
    },
    {
     "name": "stderr",
     "output_type": "stream",
     "text": [
      "Evaluating objective surface:  38%|\u2588\u2588\u2588\u258a      | 38/100 [03:41<06:26,  6.24s/it]"
     ]
    },
    {
     "name": "stdout",
     "output_type": "stream",
     "text": [
      "Epoch 5, Loss: 0.0258\n",
      "Test objective (-CE) for theta=[3.2222222222222214, 1.0]: -0.0184\n",
      "Epoch 0, Loss: 0.5257\n",
      "Epoch 1, Loss: 0.3654\n",
      "Epoch 2, Loss: 0.1836\n",
      "Epoch 3, Loss: 0.0620\n",
      "Epoch 4, Loss: 0.0205\n"
     ]
    },
    {
     "name": "stderr",
     "output_type": "stream",
     "text": [
      "Evaluating objective surface:  39%|\u2588\u2588\u2588\u2589      | 39/100 [03:47<06:11,  6.09s/it]"
     ]
    },
    {
     "name": "stdout",
     "output_type": "stream",
     "text": [
      "Epoch 5, Loss: 0.0093\n",
      "Test objective (-CE) for theta=[4.111111111111111, 1.0]: -0.0066\n",
      "Epoch 0, Loss: 0.5613\n",
      "Epoch 1, Loss: 0.3417\n",
      "Epoch 2, Loss: 0.1723\n",
      "Epoch 3, Loss: 0.0649\n",
      "Epoch 4, Loss: 0.0241\n"
     ]
    },
    {
     "name": "stderr",
     "output_type": "stream",
     "text": [
      "Evaluating objective surface:  40%|\u2588\u2588\u2588\u2588      | 40/100 [03:53<06:06,  6.10s/it]"
     ]
    },
    {
     "name": "stdout",
     "output_type": "stream",
     "text": [
      "Epoch 5, Loss: 0.0108\n",
      "Test objective (-CE) for theta=[5.0, 1.0]: -0.0074\n",
      "Epoch 0, Loss: 0.4757\n",
      "Epoch 1, Loss: 0.1851\n",
      "Epoch 2, Loss: 0.0491\n",
      "Epoch 3, Loss: 0.0140\n",
      "Epoch 4, Loss: 0.0061\n"
     ]
    },
    {
     "name": "stderr",
     "output_type": "stream",
     "text": [
      "Evaluating objective surface:  41%|\u2588\u2588\u2588\u2588      | 41/100 [04:00<06:08,  6.25s/it]"
     ]
    },
    {
     "name": "stdout",
     "output_type": "stream",
     "text": [
      "Epoch 5, Loss: 0.0038\n",
      "Test objective (-CE) for theta=[-3.0, 1.6666666666666665]: -0.0029\n",
      "Epoch 0, Loss: 0.3617\n",
      "Epoch 1, Loss: 0.1046\n",
      "Epoch 2, Loss: 0.0245\n",
      "Epoch 3, Loss: 0.0080\n",
      "Epoch 4, Loss: 0.0041\n"
     ]
    },
    {
     "name": "stderr",
     "output_type": "stream",
     "text": [
      "Evaluating objective surface:  42%|\u2588\u2588\u2588\u2588\u258f     | 42/100 [04:06<06:01,  6.23s/it]"
     ]
    },
    {
     "name": "stdout",
     "output_type": "stream",
     "text": [
      "Epoch 5, Loss: 0.0028\n",
      "Test objective (-CE) for theta=[-2.111111111111111, 1.6666666666666665]: -0.0024\n",
      "Epoch 0, Loss: 0.5809\n",
      "Epoch 1, Loss: 0.2942\n",
      "Epoch 2, Loss: 0.1110\n",
      "Epoch 3, Loss: 0.0375\n",
      "Epoch 4, Loss: 0.0158\n"
     ]
    },
    {
     "name": "stderr",
     "output_type": "stream",
     "text": [
      "Evaluating objective surface:  43%|\u2588\u2588\u2588\u2588\u258e     | 43/100 [04:12<05:50,  6.14s/it]"
     ]
    },
    {
     "name": "stdout",
     "output_type": "stream",
     "text": [
      "Epoch 5, Loss: 0.0088\n",
      "Test objective (-CE) for theta=[-1.2222222222222223, 1.6666666666666665]: -0.0067\n",
      "Epoch 0, Loss: 0.6023\n",
      "Epoch 1, Loss: 0.3832\n",
      "Epoch 2, Loss: 0.1924\n",
      "Epoch 3, Loss: 0.0770\n",
      "Epoch 4, Loss: 0.0314\n"
     ]
    },
    {
     "name": "stderr",
     "output_type": "stream",
     "text": [
      "Evaluating objective surface:  44%|\u2588\u2588\u2588\u2588\u258d     | 44/100 [04:17<05:34,  5.98s/it]"
     ]
    },
    {
     "name": "stdout",
     "output_type": "stream",
     "text": [
      "Epoch 5, Loss: 0.0157\n",
      "Test objective (-CE) for theta=[-0.3333333333333335, 1.6666666666666665]: -0.0112\n",
      "Epoch 0, Loss: 0.6650\n",
      "Epoch 1, Loss: 0.6042\n",
      "Epoch 2, Loss: 0.5102\n",
      "Epoch 3, Loss: 0.3897\n",
      "Epoch 4, Loss: 0.2731\n"
     ]
    },
    {
     "name": "stderr",
     "output_type": "stream",
     "text": [
      "Evaluating objective surface:  45%|\u2588\u2588\u2588\u2588\u258c     | 45/100 [04:24<05:42,  6.22s/it]"
     ]
    },
    {
     "name": "stdout",
     "output_type": "stream",
     "text": [
      "Epoch 5, Loss: 0.1798\n",
      "Test objective (-CE) for theta=[0.5555555555555554, 1.6666666666666665]: -0.1396\n",
      "Epoch 0, Loss: 0.6742\n",
      "Epoch 1, Loss: 0.6290\n",
      "Epoch 2, Loss: 0.5586\n",
      "Epoch 3, Loss: 0.4684\n",
      "Epoch 4, Loss: 0.3678\n"
     ]
    },
    {
     "name": "stderr",
     "output_type": "stream",
     "text": [
      "Evaluating objective surface:  46%|\u2588\u2588\u2588\u2588\u258c     | 46/100 [04:30<05:39,  6.29s/it]"
     ]
    },
    {
     "name": "stdout",
     "output_type": "stream",
     "text": [
      "Epoch 5, Loss: 0.2758\n",
      "Test objective (-CE) for theta=[1.4444444444444446, 1.6666666666666665]: -0.2325\n",
      "Epoch 0, Loss: 0.6963\n",
      "Epoch 1, Loss: 0.5691\n",
      "Epoch 2, Loss: 0.4259\n",
      "Epoch 3, Loss: 0.2673\n",
      "Epoch 4, Loss: 0.1394\n"
     ]
    },
    {
     "name": "stderr",
     "output_type": "stream",
     "text": [
      "Evaluating objective surface:  47%|\u2588\u2588\u2588\u2588\u258b     | 47/100 [04:37<05:29,  6.21s/it]"
     ]
    },
    {
     "name": "stdout",
     "output_type": "stream",
     "text": [
      "Epoch 5, Loss: 0.0677\n",
      "Test objective (-CE) for theta=[2.333333333333333, 1.6666666666666665]: -0.0465\n",
      "Epoch 0, Loss: 0.6322\n",
      "Epoch 1, Loss: 0.5008\n",
      "Epoch 2, Loss: 0.3202\n",
      "Epoch 3, Loss: 0.1461\n",
      "Epoch 4, Loss: 0.0533\n"
     ]
    },
    {
     "name": "stderr",
     "output_type": "stream",
     "text": [
      "Evaluating objective surface:  48%|\u2588\u2588\u2588\u2588\u258a     | 48/100 [04:43<05:22,  6.21s/it]"
     ]
    },
    {
     "name": "stdout",
     "output_type": "stream",
     "text": [
      "Epoch 5, Loss: 0.0221\n",
      "Test objective (-CE) for theta=[3.2222222222222214, 1.6666666666666665]: -0.0142\n",
      "Epoch 0, Loss: 0.5751\n",
      "Epoch 1, Loss: 0.4208\n",
      "Epoch 2, Loss: 0.2939\n",
      "Epoch 3, Loss: 0.1740\n",
      "Epoch 4, Loss: 0.0881\n"
     ]
    },
    {
     "name": "stderr",
     "output_type": "stream",
     "text": [
      "Evaluating objective surface:  49%|\u2588\u2588\u2588\u2588\u2589     | 49/100 [04:49<05:15,  6.19s/it]"
     ]
    },
    {
     "name": "stdout",
     "output_type": "stream",
     "text": [
      "Epoch 5, Loss: 0.0426\n",
      "Test objective (-CE) for theta=[4.111111111111111, 1.6666666666666665]: -0.0290\n",
      "Epoch 0, Loss: 0.5201\n",
      "Epoch 1, Loss: 0.3607\n",
      "Epoch 2, Loss: 0.1791\n",
      "Epoch 3, Loss: 0.0598\n",
      "Epoch 4, Loss: 0.0214\n"
     ]
    },
    {
     "name": "stderr",
     "output_type": "stream",
     "text": [
      "Evaluating objective surface:  50%|\u2588\u2588\u2588\u2588\u2588     | 50/100 [04:55<05:08,  6.18s/it]"
     ]
    },
    {
     "name": "stdout",
     "output_type": "stream",
     "text": [
      "Epoch 5, Loss: 0.0099\n",
      "Test objective (-CE) for theta=[5.0, 1.6666666666666665]: -0.0070\n",
      "Epoch 0, Loss: 0.5930\n",
      "Epoch 1, Loss: 0.2710\n",
      "Epoch 2, Loss: 0.0843\n",
      "Epoch 3, Loss: 0.0237\n",
      "Epoch 4, Loss: 0.0094\n"
     ]
    },
    {
     "name": "stderr",
     "output_type": "stream",
     "text": [
      "Evaluating objective surface:  51%|\u2588\u2588\u2588\u2588\u2588     | 51/100 [05:01<05:00,  6.14s/it]"
     ]
    },
    {
     "name": "stdout",
     "output_type": "stream",
     "text": [
      "Epoch 5, Loss: 0.0054\n",
      "Test objective (-CE) for theta=[-3.0, 2.333333333333333]: -0.0042\n",
      "Epoch 0, Loss: 0.4153\n",
      "Epoch 1, Loss: 0.1349\n",
      "Epoch 2, Loss: 0.0318\n",
      "Epoch 3, Loss: 0.0093\n",
      "Epoch 4, Loss: 0.0042\n"
     ]
    },
    {
     "name": "stderr",
     "output_type": "stream",
     "text": [
      "Evaluating objective surface:  52%|\u2588\u2588\u2588\u2588\u2588\u258f    | 52/100 [05:07<04:54,  6.15s/it]"
     ]
    },
    {
     "name": "stdout",
     "output_type": "stream",
     "text": [
      "Epoch 5, Loss: 0.0026\n",
      "Test objective (-CE) for theta=[-2.111111111111111, 2.333333333333333]: -0.0020\n",
      "Epoch 0, Loss: 0.6179\n",
      "Epoch 1, Loss: 0.3241\n",
      "Epoch 2, Loss: 0.1252\n",
      "Epoch 3, Loss: 0.0417\n",
      "Epoch 4, Loss: 0.0171\n"
     ]
    },
    {
     "name": "stderr",
     "output_type": "stream",
     "text": [
      "Evaluating objective surface:  53%|\u2588\u2588\u2588\u2588\u2588\u258e    | 53/100 [05:13<04:49,  6.15s/it]"
     ]
    },
    {
     "name": "stdout",
     "output_type": "stream",
     "text": [
      "Epoch 5, Loss: 0.0094\n",
      "Test objective (-CE) for theta=[-1.2222222222222223, 2.333333333333333]: -0.0071\n",
      "Epoch 0, Loss: 0.5289\n",
      "Epoch 1, Loss: 0.2922\n",
      "Epoch 2, Loss: 0.1221\n",
      "Epoch 3, Loss: 0.0461\n",
      "Epoch 4, Loss: 0.0206\n"
     ]
    },
    {
     "name": "stderr",
     "output_type": "stream",
     "text": [
      "Evaluating objective surface:  54%|\u2588\u2588\u2588\u2588\u2588\u258d    | 54/100 [5:40:03<77:03:58, 6031.28s/it]"
     ]
    },
    {
     "name": "stdout",
     "output_type": "stream",
     "text": [
      "Epoch 5, Loss: 0.0115\n",
      "Test objective (-CE) for theta=[-0.3333333333333335, 2.333333333333333]: -0.0088\n",
      "Epoch 0, Loss: 0.6868\n",
      "Epoch 1, Loss: 0.6230\n",
      "Epoch 2, Loss: 0.5365\n",
      "Epoch 3, Loss: 0.4282\n",
      "Epoch 4, Loss: 0.3182\n",
      "Epoch 5, Loss: 0.2265\n",
      "Test objective (-CE) for theta=[0.5555555555555554, 2.333333333333333]: -0.1852\n"
     ]
    },
    {
     "name": "stderr",
     "output_type": "stream",
     "text": [
      "Evaluating objective surface:  55%|\u2588\u2588\u2588\u2588\u2588\u258c    | 55/100 [11:10:27<127:06:44, 10168.99s/it]"
     ]
    },
    {
     "name": "stdout",
     "output_type": "stream",
     "text": [
      "Epoch 0, Loss: 0.6965\n",
      "Epoch 1, Loss: 0.6549\n",
      "Epoch 2, Loss: 0.6098\n",
      "Epoch 3, Loss: 0.5461\n",
      "Epoch 4, Loss: 0.4632\n"
     ]
    },
    {
     "name": "stderr",
     "output_type": "stream",
     "text": [
      "Evaluating objective surface:  56%|\u2588\u2588\u2588\u2588\u2588\u258c    | 56/100 [11:23:12<89:48:29, 7347.95s/it]  "
     ]
    },
    {
     "name": "stdout",
     "output_type": "stream",
     "text": [
      "Epoch 5, Loss: 0.3664\n",
      "Test objective (-CE) for theta=[1.4444444444444446, 2.333333333333333]: -0.3052\n",
      "Epoch 0, Loss: 0.6992\n",
      "Epoch 1, Loss: 0.5572\n",
      "Epoch 2, Loss: 0.4083\n",
      "Epoch 3, Loss: 0.2401\n",
      "Epoch 4, Loss: 0.1237\n"
     ]
    },
    {
     "name": "stderr",
     "output_type": "stream",
     "text": [
      "Evaluating objective surface:  57%|\u2588\u2588\u2588\u2588\u2588\u258b    | 57/100 [11:23:17<61:27:11, 5144.92s/it]"
     ]
    },
    {
     "name": "stdout",
     "output_type": "stream",
     "text": [
      "Epoch 5, Loss: 0.0611\n",
      "Test objective (-CE) for theta=[2.333333333333333, 2.333333333333333]: -0.0412\n",
      "Epoch 0, Loss: 0.5982\n",
      "Epoch 1, Loss: 0.4316\n",
      "Epoch 2, Loss: 0.2306\n",
      "Epoch 3, Loss: 0.0904\n",
      "Epoch 4, Loss: 0.0328\n"
     ]
    },
    {
     "name": "stderr",
     "output_type": "stream",
     "text": [
      "Evaluating objective surface:  58%|\u2588\u2588\u2588\u2588\u2588\u258a    | 58/100 [11:23:21<42:01:53, 3602.70s/it]"
     ]
    },
    {
     "name": "stdout",
     "output_type": "stream",
     "text": [
      "Epoch 5, Loss: 0.0141\n",
      "Test objective (-CE) for theta=[3.2222222222222214, 2.333333333333333]: -0.0093\n",
      "Epoch 0, Loss: 0.5253\n",
      "Epoch 1, Loss: 0.3664\n",
      "Epoch 2, Loss: 0.1795\n",
      "Epoch 3, Loss: 0.0650\n",
      "Epoch 4, Loss: 0.0247\n"
     ]
    },
    {
     "name": "stderr",
     "output_type": "stream",
     "text": [
      "Evaluating objective surface:  59%|\u2588\u2588\u2588\u2588\u2588\u2589    | 59/100 [11:23:25<28:44:06, 2523.07s/it]"
     ]
    },
    {
     "name": "stdout",
     "output_type": "stream",
     "text": [
      "Epoch 5, Loss: 0.0118\n",
      "Test objective (-CE) for theta=[4.111111111111111, 2.333333333333333]: -0.0086\n",
      "Epoch 0, Loss: 0.5770\n",
      "Epoch 1, Loss: 0.3674\n",
      "Epoch 2, Loss: 0.1877\n",
      "Epoch 3, Loss: 0.0699\n",
      "Epoch 4, Loss: 0.0252\n"
     ]
    },
    {
     "name": "stderr",
     "output_type": "stream",
     "text": [
      "Evaluating objective surface:  60%|\u2588\u2588\u2588\u2588\u2588\u2588    | 60/100 [11:23:29<19:38:15, 1767.38s/it]"
     ]
    },
    {
     "name": "stdout",
     "output_type": "stream",
     "text": [
      "Epoch 5, Loss: 0.0114\n",
      "Test objective (-CE) for theta=[5.0, 2.333333333333333]: -0.0080\n",
      "Epoch 0, Loss: 0.5838\n",
      "Epoch 1, Loss: 0.2660\n",
      "Epoch 2, Loss: 0.1030\n",
      "Epoch 3, Loss: 0.0361\n",
      "Epoch 4, Loss: 0.0151\n"
     ]
    },
    {
     "name": "stderr",
     "output_type": "stream",
     "text": [
      "Evaluating objective surface:  61%|\u2588\u2588\u2588\u2588\u2588\u2588    | 61/100 [11:23:33<13:24:57, 1238.40s/it]"
     ]
    },
    {
     "name": "stdout",
     "output_type": "stream",
     "text": [
      "Epoch 5, Loss: 0.0082\n",
      "Test objective (-CE) for theta=[-3.0, 3.0]: -0.0066\n",
      "Epoch 0, Loss: 0.5951\n",
      "Epoch 1, Loss: 0.2941\n",
      "Epoch 2, Loss: 0.1066\n",
      "Epoch 3, Loss: 0.0340\n",
      "Epoch 4, Loss: 0.0133\n"
     ]
    },
    {
     "name": "stderr",
     "output_type": "stream",
     "text": [
      "Evaluating objective surface:  62%|\u2588\u2588\u2588\u2588\u2588\u2588\u258f   | 62/100 [11:23:37<9:09:47, 868.10s/it]  "
     ]
    },
    {
     "name": "stdout",
     "output_type": "stream",
     "text": [
      "Epoch 5, Loss: 0.0073\n",
      "Test objective (-CE) for theta=[-2.111111111111111, 3.0]: -0.0056\n",
      "Epoch 0, Loss: 0.5743\n",
      "Epoch 1, Loss: 0.2960\n",
      "Epoch 2, Loss: 0.1034\n",
      "Epoch 3, Loss: 0.0315\n",
      "Epoch 4, Loss: 0.0125\n"
     ]
    },
    {
     "name": "stderr",
     "output_type": "stream",
     "text": [
      "Evaluating objective surface:  63%|\u2588\u2588\u2588\u2588\u2588\u2588\u258e   | 63/100 [23:46:20<143:38:53, 13976.58s/it]"
     ]
    },
    {
     "name": "stdout",
     "output_type": "stream",
     "text": [
      "Epoch 5, Loss: 0.0071\n",
      "Test objective (-CE) for theta=[-1.2222222222222223, 3.0]: -0.0053\n",
      "Epoch 0, Loss: 0.6438\n",
      "Epoch 1, Loss: 0.4698\n",
      "Epoch 2, Loss: 0.2727\n",
      "Epoch 3, Loss: 0.1192\n",
      "Epoch 4, Loss: 0.0482\n"
     ]
    },
    {
     "name": "stderr",
     "output_type": "stream",
     "text": [
      "Evaluating objective surface:  64%|\u2588\u2588\u2588\u2588\u2588\u2588\u258d   | 64/100 [23:46:26<97:51:14, 9785.41s/it]  "
     ]
    },
    {
     "name": "stdout",
     "output_type": "stream",
     "text": [
      "Epoch 5, Loss: 0.0224\n",
      "Test objective (-CE) for theta=[-0.3333333333333335, 3.0]: -0.0161\n",
      "Epoch 0, Loss: 0.6684\n",
      "Epoch 1, Loss: 0.6127\n",
      "Epoch 2, Loss: 0.5292\n",
      "Epoch 3, Loss: 0.4313\n",
      "Epoch 4, Loss: 0.3323\n"
     ]
    },
    {
     "name": "stderr",
     "output_type": "stream",
     "text": [
      "Evaluating objective surface:  65%|\u2588\u2588\u2588\u2588\u2588\u2588\u258c   | 65/100 [23:46:32<66:36:42, 6851.50s/it]"
     ]
    },
    {
     "name": "stdout",
     "output_type": "stream",
     "text": [
      "Epoch 5, Loss: 0.2507\n",
      "Test objective (-CE) for theta=[0.5555555555555554, 3.0]: -0.2015\n",
      "Epoch 0, Loss: 0.6734\n",
      "Epoch 1, Loss: 0.6329\n",
      "Epoch 2, Loss: 0.5870\n",
      "Epoch 3, Loss: 0.5194\n",
      "Epoch 4, Loss: 0.4313\n"
     ]
    },
    {
     "name": "stderr",
     "output_type": "stream",
     "text": [
      "Evaluating objective surface:  66%|\u2588\u2588\u2588\u2588\u2588\u2588\u258c   | 66/100 [23:46:38<45:18:44, 4797.78s/it]"
     ]
    },
    {
     "name": "stdout",
     "output_type": "stream",
     "text": [
      "Epoch 5, Loss: 0.3399\n",
      "Test objective (-CE) for theta=[1.4444444444444446, 3.0]: -0.2893\n",
      "Epoch 0, Loss: 0.6548\n",
      "Epoch 1, Loss: 0.5535\n",
      "Epoch 2, Loss: 0.4064\n",
      "Epoch 3, Loss: 0.2533\n",
      "Epoch 4, Loss: 0.1384\n"
     ]
    },
    {
     "name": "stderr",
     "output_type": "stream",
     "text": [
      "Evaluating objective surface:  67%|\u2588\u2588\u2588\u2588\u2588\u2588\u258b   | 67/100 [23:46:43<30:47:54, 3359.85s/it]"
     ]
    },
    {
     "name": "stdout",
     "output_type": "stream",
     "text": [
      "Epoch 5, Loss: 0.0736\n",
      "Test objective (-CE) for theta=[2.333333333333333, 3.0]: -0.0531\n",
      "Epoch 0, Loss: 0.6465\n",
      "Epoch 1, Loss: 0.4900\n",
      "Epoch 2, Loss: 0.3005\n",
      "Epoch 3, Loss: 0.1366\n",
      "Epoch 4, Loss: 0.0542\n"
     ]
    },
    {
     "name": "stderr",
     "output_type": "stream",
     "text": [
      "Evaluating objective surface:  68%|\u2588\u2588\u2588\u2588\u2588\u2588\u258a   | 68/100 [23:46:48<20:55:13, 2353.54s/it]"
     ]
    },
    {
     "name": "stdout",
     "output_type": "stream",
     "text": [
      "Epoch 5, Loss: 0.0241\n",
      "Test objective (-CE) for theta=[3.2222222222222214, 3.0]: -0.0158\n",
      "Epoch 0, Loss: 0.5838\n",
      "Epoch 1, Loss: 0.4270\n",
      "Epoch 2, Loss: 0.2990\n",
      "Epoch 3, Loss: 0.1666\n",
      "Epoch 4, Loss: 0.0697\n"
     ]
    },
    {
     "name": "stderr",
     "output_type": "stream",
     "text": [
      "Evaluating objective surface:  69%|\u2588\u2588\u2588\u2588\u2588\u2588\u2589   | 69/100 [23:46:53<14:11:53, 1648.82s/it]"
     ]
    },
    {
     "name": "stdout",
     "output_type": "stream",
     "text": [
      "Epoch 5, Loss: 0.0277\n",
      "Test objective (-CE) for theta=[4.111111111111111, 3.0]: -0.0168\n",
      "Epoch 0, Loss: 0.4290\n",
      "Epoch 1, Loss: 0.2845\n",
      "Epoch 2, Loss: 0.1453\n",
      "Epoch 3, Loss: 0.0501\n",
      "Epoch 4, Loss: 0.0171\n"
     ]
    },
    {
     "name": "stderr",
     "output_type": "stream",
     "text": [
      "Evaluating objective surface:  70%|\u2588\u2588\u2588\u2588\u2588\u2588\u2588   | 70/100 [23:46:57<9:37:48, 1155.62s/it] "
     ]
    },
    {
     "name": "stdout",
     "output_type": "stream",
     "text": [
      "Epoch 5, Loss: 0.0070\n",
      "Test objective (-CE) for theta=[5.0, 3.0]: -0.0044\n",
      "Epoch 0, Loss: 0.5970\n",
      "Epoch 1, Loss: 0.2544\n",
      "Epoch 2, Loss: 0.0789\n",
      "Epoch 3, Loss: 0.0233\n",
      "Epoch 4, Loss: 0.0093\n"
     ]
    },
    {
     "name": "stderr",
     "output_type": "stream",
     "text": [
      "Evaluating objective surface:  71%|\u2588\u2588\u2588\u2588\u2588\u2588\u2588   | 71/100 [23:47:02<6:31:37, 810.27s/it] "
     ]
    },
    {
     "name": "stdout",
     "output_type": "stream",
     "text": [
      "Epoch 5, Loss: 0.0050\n",
      "Test objective (-CE) for theta=[-3.0, 3.666666666666666]: -0.0039\n",
      "Epoch 0, Loss: 0.4698\n",
      "Epoch 1, Loss: 0.1935\n",
      "Epoch 2, Loss: 0.0537\n",
      "Epoch 3, Loss: 0.0153\n",
      "Epoch 4, Loss: 0.0063\n"
     ]
    },
    {
     "name": "stderr",
     "output_type": "stream",
     "text": [
      "Evaluating objective surface:  72%|\u2588\u2588\u2588\u2588\u2588\u2588\u2588\u258f  | 72/100 [23:47:06<4:25:13, 568.35s/it]"
     ]
    },
    {
     "name": "stdout",
     "output_type": "stream",
     "text": [
      "Epoch 5, Loss: 0.0037\n",
      "Test objective (-CE) for theta=[-2.111111111111111, 3.666666666666666]: -0.0029\n",
      "Epoch 0, Loss: 0.6061\n",
      "Epoch 1, Loss: 0.3372\n",
      "Epoch 2, Loss: 0.1238\n",
      "Epoch 3, Loss: 0.0374\n",
      "Epoch 4, Loss: 0.0143\n"
     ]
    },
    {
     "name": "stderr",
     "output_type": "stream",
     "text": [
      "Evaluating objective surface:  73%|\u2588\u2588\u2588\u2588\u2588\u2588\u2588\u258e  | 73/100 [23:47:10<2:59:35, 399.10s/it]"
     ]
    },
    {
     "name": "stdout",
     "output_type": "stream",
     "text": [
      "Epoch 5, Loss: 0.0078\n",
      "Test objective (-CE) for theta=[-1.2222222222222223, 3.666666666666666]: -0.0058\n",
      "Epoch 0, Loss: 0.5153\n",
      "Epoch 1, Loss: 0.3095\n",
      "Epoch 2, Loss: 0.1523\n",
      "Epoch 3, Loss: 0.0687\n",
      "Epoch 4, Loss: 0.0335\n"
     ]
    },
    {
     "name": "stderr",
     "output_type": "stream",
     "text": [
      "Evaluating objective surface:  74%|\u2588\u2588\u2588\u2588\u2588\u2588\u2588\u258d  | 74/100 [23:47:14<2:01:36, 280.65s/it]"
     ]
    },
    {
     "name": "stdout",
     "output_type": "stream",
     "text": [
      "Epoch 5, Loss: 0.0196\n",
      "Test objective (-CE) for theta=[-0.3333333333333335, 3.666666666666666]: -0.0147\n",
      "Epoch 0, Loss: 0.6782\n",
      "Epoch 1, Loss: 0.6360\n",
      "Epoch 2, Loss: 0.5700\n",
      "Epoch 3, Loss: 0.4755\n",
      "Epoch 4, Loss: 0.3748\n"
     ]
    },
    {
     "name": "stderr",
     "output_type": "stream",
     "text": [
      "Evaluating objective surface:  75%|\u2588\u2588\u2588\u2588\u2588\u2588\u2588\u258c  | 75/100 [23:47:18<1:22:20, 197.62s/it]"
     ]
    },
    {
     "name": "stdout",
     "output_type": "stream",
     "text": [
      "Epoch 5, Loss: 0.2846\n",
      "Test objective (-CE) for theta=[0.5555555555555554, 3.666666666666666]: -0.2431\n",
      "Epoch 0, Loss: 0.6846\n",
      "Epoch 1, Loss: 0.6395\n",
      "Epoch 2, Loss: 0.5873\n",
      "Epoch 3, Loss: 0.5093\n",
      "Epoch 4, Loss: 0.4121\n"
     ]
    },
    {
     "name": "stderr",
     "output_type": "stream",
     "text": [
      "Evaluating objective surface:  76%|\u2588\u2588\u2588\u2588\u2588\u2588\u2588\u258c  | 76/100 [23:47:22<55:51, 139.64s/it]  "
     ]
    },
    {
     "name": "stdout",
     "output_type": "stream",
     "text": [
      "Epoch 5, Loss: 0.3153\n",
      "Test objective (-CE) for theta=[1.4444444444444446, 3.666666666666666]: -0.2688\n",
      "Epoch 0, Loss: 0.6174\n",
      "Epoch 1, Loss: 0.4766\n",
      "Epoch 2, Loss: 0.3124\n",
      "Epoch 3, Loss: 0.1723\n",
      "Epoch 4, Loss: 0.0858\n"
     ]
    },
    {
     "name": "stderr",
     "output_type": "stream",
     "text": [
      "Evaluating objective surface:  77%|\u2588\u2588\u2588\u2588\u2588\u2588\u2588\u258b  | 77/100 [23:47:26<37:55, 98.94s/it] "
     ]
    },
    {
     "name": "stdout",
     "output_type": "stream",
     "text": [
      "Epoch 5, Loss: 0.0447\n",
      "Test objective (-CE) for theta=[2.333333333333333, 3.666666666666666]: -0.0314\n",
      "Epoch 0, Loss: 0.5743\n",
      "Epoch 1, Loss: 0.4156\n",
      "Epoch 2, Loss: 0.2398\n",
      "Epoch 3, Loss: 0.1107\n",
      "Epoch 4, Loss: 0.0486\n"
     ]
    },
    {
     "name": "stderr",
     "output_type": "stream",
     "text": [
      "Evaluating objective surface:  78%|\u2588\u2588\u2588\u2588\u2588\u2588\u2588\u258a  | 78/100 [23:47:31<25:51, 70.53s/it]"
     ]
    },
    {
     "name": "stdout",
     "output_type": "stream",
     "text": [
      "Epoch 5, Loss: 0.0245\n",
      "Test objective (-CE) for theta=[3.2222222222222214, 3.666666666666666]: -0.0171\n",
      "Epoch 0, Loss: 0.7457\n",
      "Epoch 1, Loss: 0.4700\n",
      "Epoch 2, Loss: 0.2707\n",
      "Epoch 3, Loss: 0.1185\n",
      "Epoch 4, Loss: 0.0490\n",
      "Epoch 5, Loss: 0.0231\n",
      "Test objective (-CE) for theta=[4.111111111111111, 3.666666666666666]: -0.0161\n",
      "Epoch 0, Loss: 0.6257\n",
      "Epoch 1, Loss: 0.4069\n",
      "Epoch 2, Loss: 0.1829\n",
      "Epoch 3, Loss: 0.0606\n",
      "Epoch 4, Loss: 0.0224\n",
      "Epoch 5, Loss: 0.0109\n",
      "Test objective (-CE) for theta=[5.0, 3.666666666666666]: -0.0078\n",
      "Epoch 0, Loss: 0.7437\n",
      "Epoch 1, Loss: 0.3428\n",
      "Epoch 2, Loss: 0.1129\n",
      "Epoch 3, Loss: 0.0321\n",
      "Epoch 4, Loss: 0.0122\n",
      "Epoch 5, Loss: 0.0067\n",
      "Test objective (-CE) for theta=[-3.0, 4.333333333333333]: -0.0050\n",
      "Epoch 0, Loss: 0.4347\n",
      "Epoch 1, Loss: 0.1396\n",
      "Epoch 2, Loss: 0.0331\n",
      "Epoch 3, Loss: 0.0106\n",
      "Epoch 4, Loss: 0.0053\n",
      "Epoch 5, Loss: 0.0035\n",
      "Test objective (-CE) for theta=[-2.111111111111111, 4.333333333333333]: -0.0029\n",
      "Epoch 0, Loss: 0.6122\n",
      "Epoch 1, Loss: 0.3490\n",
      "Epoch 2, Loss: 0.1416\n",
      "Epoch 3, Loss: 0.0465\n",
      "Epoch 4, Loss: 0.0180\n"
     ]
    },
    {
     "name": "stderr",
     "output_type": "stream",
     "text": [
      "Evaluating objective surface:  83%|\u2588\u2588\u2588\u2588\u2588\u2588\u2588\u2588\u258e | 83/100 [23:47:35<06:31, 23.04s/it]"
     ]
    },
    {
     "name": "stdout",
     "output_type": "stream",
     "text": [
      "Epoch 5, Loss: 0.0093\n",
      "Test objective (-CE) for theta=[-1.2222222222222223, 4.333333333333333]: -0.0067\n",
      "Epoch 0, Loss: 0.6274\n",
      "Epoch 1, Loss: 0.4586\n",
      "Epoch 2, Loss: 0.2630\n",
      "Epoch 3, Loss: 0.1196\n",
      "Epoch 4, Loss: 0.0509\n"
     ]
    },
    {
     "name": "stderr",
     "output_type": "stream",
     "text": [
      "Evaluating objective surface:  84%|\u2588\u2588\u2588\u2588\u2588\u2588\u2588\u2588\u258d | 84/100 [23:47:41<05:23, 20.22s/it]"
     ]
    },
    {
     "name": "stdout",
     "output_type": "stream",
     "text": [
      "Epoch 5, Loss: 0.0246\n",
      "Test objective (-CE) for theta=[-0.3333333333333335, 4.333333333333333]: -0.0167\n",
      "Epoch 0, Loss: 0.6864\n",
      "Epoch 1, Loss: 0.6499\n",
      "Epoch 2, Loss: 0.6041\n",
      "Epoch 3, Loss: 0.5457\n",
      "Epoch 4, Loss: 0.4803\n"
     ]
    },
    {
     "name": "stderr",
     "output_type": "stream",
     "text": [
      "Evaluating objective surface:  85%|\u2588\u2588\u2588\u2588\u2588\u2588\u2588\u2588\u258c | 85/100 [23:47:47<04:24, 17.61s/it]"
     ]
    },
    {
     "name": "stdout",
     "output_type": "stream",
     "text": [
      "Epoch 5, Loss: 0.4117\n",
      "Test objective (-CE) for theta=[0.5555555555555554, 4.333333333333333]: -0.3703\n",
      "Epoch 0, Loss: 0.6628\n",
      "Epoch 1, Loss: 0.6105\n",
      "Epoch 2, Loss: 0.5328\n",
      "Epoch 3, Loss: 0.4247\n",
      "Epoch 4, Loss: 0.3094\n"
     ]
    },
    {
     "name": "stderr",
     "output_type": "stream",
     "text": [
      "Evaluating objective surface:  86%|\u2588\u2588\u2588\u2588\u2588\u2588\u2588\u2588\u258c | 86/100 [23:47:53<03:32, 15.15s/it]"
     ]
    },
    {
     "name": "stdout",
     "output_type": "stream",
     "text": [
      "Epoch 5, Loss: 0.2155\n",
      "Test objective (-CE) for theta=[1.4444444444444446, 4.333333333333333]: -0.1793\n",
      "Epoch 0, Loss: 0.6011\n",
      "Epoch 1, Loss: 0.4729\n",
      "Epoch 2, Loss: 0.3124\n",
      "Epoch 3, Loss: 0.1724\n",
      "Epoch 4, Loss: 0.0863\n"
     ]
    },
    {
     "name": "stderr",
     "output_type": "stream",
     "text": [
      "Evaluating objective surface:  87%|\u2588\u2588\u2588\u2588\u2588\u2588\u2588\u2588\u258b | 87/100 [23:47:59<02:50, 13.10s/it]"
     ]
    },
    {
     "name": "stdout",
     "output_type": "stream",
     "text": [
      "Epoch 5, Loss: 0.0448\n",
      "Test objective (-CE) for theta=[2.333333333333333, 4.333333333333333]: -0.0336\n",
      "Epoch 0, Loss: 0.5920\n",
      "Epoch 1, Loss: 0.4265\n",
      "Epoch 2, Loss: 0.2501\n",
      "Epoch 3, Loss: 0.1144\n",
      "Epoch 4, Loss: 0.0493\n"
     ]
    },
    {
     "name": "stderr",
     "output_type": "stream",
     "text": [
      "Evaluating objective surface:  88%|\u2588\u2588\u2588\u2588\u2588\u2588\u2588\u2588\u258a | 88/100 [23:48:06<02:16, 11.38s/it]"
     ]
    },
    {
     "name": "stdout",
     "output_type": "stream",
     "text": [
      "Epoch 5, Loss: 0.0238\n",
      "Test objective (-CE) for theta=[3.2222222222222214, 4.333333333333333]: -0.0165\n",
      "Epoch 0, Loss: 0.6698\n",
      "Epoch 1, Loss: 0.4503\n",
      "Epoch 2, Loss: 0.2818\n",
      "Epoch 3, Loss: 0.1432\n",
      "Epoch 4, Loss: 0.0651\n"
     ]
    },
    {
     "name": "stderr",
     "output_type": "stream",
     "text": [
      "Evaluating objective surface:  89%|\u2588\u2588\u2588\u2588\u2588\u2588\u2588\u2588\u2589 | 89/100 [23:48:12<01:50, 10.02s/it]"
     ]
    },
    {
     "name": "stdout",
     "output_type": "stream",
     "text": [
      "Epoch 5, Loss: 0.0293\n",
      "Test objective (-CE) for theta=[4.111111111111111, 4.333333333333333]: -0.0183\n",
      "Epoch 0, Loss: 0.5402\n",
      "Epoch 1, Loss: 0.3619\n",
      "Epoch 2, Loss: 0.1948\n",
      "Epoch 3, Loss: 0.0776\n",
      "Epoch 4, Loss: 0.0280\n"
     ]
    },
    {
     "name": "stderr",
     "output_type": "stream",
     "text": [
      "Evaluating objective surface:  90%|\u2588\u2588\u2588\u2588\u2588\u2588\u2588\u2588\u2588 | 90/100 [23:48:18<01:29,  8.97s/it]"
     ]
    },
    {
     "name": "stdout",
     "output_type": "stream",
     "text": [
      "Epoch 5, Loss: 0.0116\n",
      "Test objective (-CE) for theta=[5.0, 4.333333333333333]: -0.0074\n",
      "Epoch 0, Loss: 0.3461\n",
      "Epoch 1, Loss: 0.0973\n",
      "Epoch 2, Loss: 0.0222\n",
      "Epoch 3, Loss: 0.0076\n",
      "Epoch 4, Loss: 0.0040\n"
     ]
    },
    {
     "name": "stderr",
     "output_type": "stream",
     "text": [
      "Evaluating objective surface:  91%|\u2588\u2588\u2588\u2588\u2588\u2588\u2588\u2588\u2588 | 91/100 [23:48:24<01:13,  8.19s/it]"
     ]
    },
    {
     "name": "stdout",
     "output_type": "stream",
     "text": [
      "Epoch 5, Loss: 0.0027\n",
      "Test objective (-CE) for theta=[-3.0, 5.0]: -0.0022\n",
      "Epoch 0, Loss: 0.5934\n",
      "Epoch 1, Loss: 0.2580\n",
      "Epoch 2, Loss: 0.0896\n",
      "Epoch 3, Loss: 0.0313\n",
      "Epoch 4, Loss: 0.0143\n"
     ]
    },
    {
     "name": "stderr",
     "output_type": "stream",
     "text": [
      "Evaluating objective surface:  92%|\u2588\u2588\u2588\u2588\u2588\u2588\u2588\u2588\u2588\u258f| 92/100 [23:48:31<01:01,  7.64s/it]"
     ]
    },
    {
     "name": "stdout",
     "output_type": "stream",
     "text": [
      "Epoch 5, Loss: 0.0085\n",
      "Test objective (-CE) for theta=[-2.111111111111111, 5.0]: -0.0065\n",
      "Epoch 0, Loss: 0.6272\n",
      "Epoch 1, Loss: 0.3554\n",
      "Epoch 2, Loss: 0.1521\n",
      "Epoch 3, Loss: 0.0553\n",
      "Epoch 4, Loss: 0.0234\n"
     ]
    },
    {
     "name": "stderr",
     "output_type": "stream",
     "text": [
      "Evaluating objective surface:  93%|\u2588\u2588\u2588\u2588\u2588\u2588\u2588\u2588\u2588\u258e| 93/100 [23:48:37<00:50,  7.25s/it]"
     ]
    },
    {
     "name": "stdout",
     "output_type": "stream",
     "text": [
      "Epoch 5, Loss: 0.0127\n",
      "Test objective (-CE) for theta=[-1.2222222222222223, 5.0]: -0.0097\n",
      "Epoch 0, Loss: 0.6218\n",
      "Epoch 1, Loss: 0.4505\n",
      "Epoch 2, Loss: 0.2844\n",
      "Epoch 3, Loss: 0.1517\n",
      "Epoch 4, Loss: 0.0773\n"
     ]
    },
    {
     "name": "stderr",
     "output_type": "stream",
     "text": [
      "Evaluating objective surface:  94%|\u2588\u2588\u2588\u2588\u2588\u2588\u2588\u2588\u2588\u258d| 94/100 [23:48:43<00:42,  7.04s/it]"
     ]
    },
    {
     "name": "stdout",
     "output_type": "stream",
     "text": [
      "Epoch 5, Loss: 0.0414\n",
      "Test objective (-CE) for theta=[-0.3333333333333335, 5.0]: -0.0305\n",
      "Epoch 0, Loss: 0.6758\n",
      "Epoch 1, Loss: 0.6233\n",
      "Epoch 2, Loss: 0.5439\n",
      "Epoch 3, Loss: 0.4491\n",
      "Epoch 4, Loss: 0.3563\n"
     ]
    },
    {
     "name": "stderr",
     "output_type": "stream",
     "text": [
      "Evaluating objective surface:  95%|\u2588\u2588\u2588\u2588\u2588\u2588\u2588\u2588\u2588\u258c| 95/100 [23:48:49<00:33,  6.76s/it]"
     ]
    },
    {
     "name": "stdout",
     "output_type": "stream",
     "text": [
      "Epoch 5, Loss: 0.2824\n",
      "Test objective (-CE) for theta=[0.5555555555555554, 5.0]: -0.2523\n",
      "Epoch 0, Loss: 0.6912\n",
      "Epoch 1, Loss: 0.6232\n",
      "Epoch 2, Loss: 0.5210\n",
      "Epoch 3, Loss: 0.3989\n",
      "Epoch 4, Loss: 0.2882\n"
     ]
    },
    {
     "name": "stderr",
     "output_type": "stream",
     "text": [
      "Evaluating objective surface:  96%|\u2588\u2588\u2588\u2588\u2588\u2588\u2588\u2588\u2588\u258c| 96/100 [23:48:56<00:26,  6.66s/it]"
     ]
    },
    {
     "name": "stdout",
     "output_type": "stream",
     "text": [
      "Epoch 5, Loss: 0.2059\n",
      "Test objective (-CE) for theta=[1.4444444444444446, 5.0]: -0.1676\n",
      "Epoch 0, Loss: 0.6187\n",
      "Epoch 1, Loss: 0.4816\n",
      "Epoch 2, Loss: 0.3151\n",
      "Epoch 3, Loss: 0.1742\n",
      "Epoch 4, Loss: 0.0871\n"
     ]
    },
    {
     "name": "stderr",
     "output_type": "stream",
     "text": [
      "Evaluating objective surface:  97%|\u2588\u2588\u2588\u2588\u2588\u2588\u2588\u2588\u2588\u258b| 97/100 [23:49:02<00:19,  6.50s/it]"
     ]
    },
    {
     "name": "stdout",
     "output_type": "stream",
     "text": [
      "Epoch 5, Loss: 0.0443\n",
      "Test objective (-CE) for theta=[2.333333333333333, 5.0]: -0.0300\n",
      "Epoch 0, Loss: 0.5985\n",
      "Epoch 1, Loss: 0.4306\n",
      "Epoch 2, Loss: 0.2448\n",
      "Epoch 3, Loss: 0.1072\n",
      "Epoch 4, Loss: 0.0417\n"
     ]
    },
    {
     "name": "stderr",
     "output_type": "stream",
     "text": [
      "Evaluating objective surface:  98%|\u2588\u2588\u2588\u2588\u2588\u2588\u2588\u2588\u2588\u258a| 98/100 [23:49:08<00:12,  6.48s/it]"
     ]
    },
    {
     "name": "stdout",
     "output_type": "stream",
     "text": [
      "Epoch 5, Loss: 0.0189\n",
      "Test objective (-CE) for theta=[3.2222222222222214, 5.0]: -0.0122\n",
      "Epoch 0, Loss: 0.5048\n",
      "Epoch 1, Loss: 0.3545\n",
      "Epoch 2, Loss: 0.2246\n",
      "Epoch 3, Loss: 0.1194\n",
      "Epoch 4, Loss: 0.0552\n"
     ]
    },
    {
     "name": "stderr",
     "output_type": "stream",
     "text": [
      "Evaluating objective surface:  99%|\u2588\u2588\u2588\u2588\u2588\u2588\u2588\u2588\u2588\u2589| 99/100 [23:49:15<00:06,  6.42s/it]"
     ]
    },
    {
     "name": "stdout",
     "output_type": "stream",
     "text": [
      "Epoch 5, Loss: 0.0260\n",
      "Test objective (-CE) for theta=[4.111111111111111, 5.0]: -0.0168\n",
      "Epoch 0, Loss: 0.5659\n",
      "Epoch 1, Loss: 0.3609\n",
      "Epoch 2, Loss: 0.1830\n",
      "Epoch 3, Loss: 0.0689\n",
      "Epoch 4, Loss: 0.0275\n"
     ]
    },
    {
     "name": "stderr",
     "output_type": "stream",
     "text": [
      "Evaluating objective surface: 100%|\u2588\u2588\u2588\u2588\u2588\u2588\u2588\u2588\u2588\u2588| 100/100 [23:49:21<00:00, 857.62s/it]"
     ]
    },
    {
     "name": "stdout",
     "output_type": "stream",
     "text": [
      "Epoch 5, Loss: 0.0136\n",
      "Test objective (-CE) for theta=[5.0, 5.0]: -0.0102\n"
     ]
    },
    {
     "name": "stderr",
     "output_type": "stream",
     "text": [
      "\n"
     ]
    },
    {
     "data": {
      "image/png": "[encoded data removed]",
      "text/plain": [
       "<Figure size 1200x500 with 3 Axes>"
      ]
     },
     "metadata": {},
     "output_type": "display_data"
    },
    {
     "name": "stdout",
     "output_type": "stream",
     "text": [
      "\n",
      "4. Running adversarial estimation...\n",
      "Iteration No: 1 started. Evaluating function at random point.\n",
      "Epoch 0, Loss: 0.5403\n",
      "Epoch 1, Loss: 0.3631\n",
      "Epoch 2, Loss: 0.2003\n",
      "Epoch 3, Loss: 0.0815\n",
      "Epoch 4, Loss: 0.0327\n",
      "Epoch 5, Loss: 0.0150\n",
      "Test objective (-CE) for theta=[6, -6]: -0.0106\n",
      "Iteration No: 1 ended. Evaluation done at random point.\n",
      "Time taken: 9.5442\n",
      "Function value obtained: -0.0106\n",
      "Current minimum: -0.0106\n",
      "Iteration No: 2 started. Evaluating function at random point.\n",
      "Epoch 0, Loss: 0.5197\n",
      "Epoch 1, Loss: 0.3235\n",
      "Epoch 2, Loss: 0.1851\n",
      "Epoch 3, Loss: 0.0786\n",
      "Epoch 4, Loss: 0.0309\n",
      "Epoch 5, Loss: 0.0140\n",
      "Test objective (-CE) for theta=[6, 2]: -0.0098\n",
      "Iteration No: 2 ended. Evaluation done at random point.\n",
      "Time taken: 6.4750\n",
      "Function value obtained: -0.0098\n",
      "Current minimum: -0.0106\n",
      "Iteration No: 3 started. Evaluating function at random point.\n",
      "Epoch 0, Loss: 0.5932\n",
      "Epoch 1, Loss: 0.2831\n",
      "Epoch 2, Loss: 0.1017\n",
      "Epoch 3, Loss: 0.0375\n",
      "Epoch 4, Loss: 0.0190\n",
      "Epoch 5, Loss: 0.0121\n",
      "Test objective (-CE) for theta=[-1, -8]: -0.0094\n",
      "Iteration No: 3 ended. Evaluation done at random point.\n",
      "Time taken: 6.2426\n",
      "Function value obtained: -0.0094\n",
      "Current minimum: -0.0106\n",
      "Iteration No: 4 started. Evaluating function at random point.\n",
      "Epoch 0, Loss: 0.5998\n",
      "Epoch 1, Loss: 0.2840\n",
      "Epoch 2, Loss: 0.0958\n",
      "Epoch 3, Loss: 0.0306\n",
      "Epoch 4, Loss: 0.0133\n",
      "Epoch 5, Loss: 0.0079\n",
      "Test objective (-CE) for theta=[-1, -3]: -0.0061\n",
      "Iteration No: 4 ended. Evaluation done at random point.\n",
      "Time taken: 6.3201\n",
      "Function value obtained: -0.0061\n",
      "Current minimum: -0.0106\n",
      "Iteration No: 5 started. Evaluating function at random point.\n",
      "Epoch 0, Loss: 0.4568\n",
      "Epoch 1, Loss: 0.1580\n",
      "Epoch 2, Loss: 0.0627\n",
      "Epoch 3, Loss: 0.0240\n",
      "Epoch 4, Loss: 0.0111\n",
      "Epoch 5, Loss: 0.0066\n",
      "Test objective (-CE) for theta=[-7, 3]: -0.0054\n",
      "Iteration No: 5 ended. Evaluation done at random point.\n",
      "Time taken: 6.0911\n",
      "Function value obtained: -0.0054\n",
      "Current minimum: -0.0106\n",
      "Iteration No: 6 started. Evaluating function at random point.\n",
      "Epoch 0, Loss: 0.2897\n",
      "Epoch 1, Loss: 0.1143\n",
      "Epoch 2, Loss: 0.0321\n",
      "Epoch 3, Loss: 0.0089\n",
      "Epoch 4, Loss: 0.0038\n",
      "Epoch 5, Loss: 0.0022\n",
      "Test objective (-CE) for theta=[-9, 4]: -0.0019\n",
      "Iteration No: 6 ended. Evaluation done at random point.\n",
      "Time taken: 6.1166\n",
      "Function value obtained: -0.0019\n",
      "Current minimum: -0.0106\n",
      "Iteration No: 7 started. Evaluating function at random point.\n",
      "Epoch 0, Loss: 0.5587\n",
      "Epoch 1, Loss: 0.3197\n",
      "Epoch 2, Loss: 0.1339\n",
      "Epoch 3, Loss: 0.0375\n",
      "Epoch 4, Loss: 0.0122\n",
      "Epoch 5, Loss: 0.0058\n",
      "Test objective (-CE) for theta=[9, -10]: -0.0043\n",
      "Iteration No: 7 ended. Evaluation done at random point.\n",
      "Time taken: 6.9575\n",
      "Function value obtained: -0.0043\n",
      "Current minimum: -0.0106\n",
      "Iteration No: 8 started. Evaluating function at random point.\n",
      "Epoch 0, Loss: 0.4095\n",
      "Epoch 1, Loss: 0.2595\n",
      "Epoch 2, Loss: 0.1228\n",
      "Epoch 3, Loss: 0.0397\n",
      "Epoch 4, Loss: 0.0141\n",
      "Epoch 5, Loss: 0.0065\n",
      "Test objective (-CE) for theta=[10, 2]: -0.0048\n",
      "Iteration No: 8 ended. Evaluation done at random point.\n",
      "Time taken: 7.7230\n",
      "Function value obtained: -0.0048\n",
      "Current minimum: -0.0106\n",
      "Iteration No: 9 started. Evaluating function at random point.\n",
      "Epoch 0, Loss: 0.6817\n",
      "Epoch 1, Loss: 0.6268\n",
      "Epoch 2, Loss: 0.5546\n",
      "Epoch 3, Loss: 0.4580\n",
      "Epoch 4, Loss: 0.3564\n",
      "Epoch 5, Loss: 0.2646\n",
      "Test objective (-CE) for theta=[2, -10]: -0.2179\n",
      "Iteration No: 9 ended. Evaluation done at random point.\n",
      "Time taken: 6.6060\n",
      "Function value obtained: -0.2179\n",
      "Current minimum: -0.2179\n",
      "Iteration No: 10 started. Evaluating function at random point.\n",
      "Epoch 0, Loss: 0.3429\n",
      "Epoch 1, Loss: 0.0957\n",
      "Epoch 2, Loss: 0.0226\n",
      "Epoch 3, Loss: 0.0063\n",
      "Epoch 4, Loss: 0.0029\n",
      "Epoch 5, Loss: 0.0019\n",
      "Test objective (-CE) for theta=[-10, 0]: -0.0017\n",
      "Iteration No: 10 ended. Evaluation done at random point.\n",
      "Time taken: 6.6280\n",
      "Function value obtained: -0.0017\n",
      "Current minimum: -0.2179\n",
      "Iteration No: 11 started. Evaluating function at random point.\n",
      "Epoch 0, Loss: 0.5158\n",
      "Epoch 1, Loss: 0.2159\n",
      "Epoch 2, Loss: 0.0682\n",
      "Epoch 3, Loss: 0.0236\n",
      "Epoch 4, Loss: 0.0113\n",
      "Epoch 5, Loss: 0.0072\n",
      "Test objective (-CE) for theta=[-2, -9]: -0.0062\n",
      "Iteration No: 11 ended. Evaluation done at random point.\n",
      "Time taken: 6.3405\n",
      "Function value obtained: -0.0062\n",
      "Current minimum: -0.2179\n",
      "Iteration No: 12 started. Evaluating function at random point.\n",
      "Epoch 0, Loss: 0.7742\n",
      "Epoch 1, Loss: 0.4021\n",
      "Epoch 2, Loss: 0.1843\n",
      "Epoch 3, Loss: 0.0658\n",
      "Epoch 4, Loss: 0.0242\n",
      "Epoch 5, Loss: 0.0101\n",
      "Test objective (-CE) for theta=[9, -5]: -0.0066\n",
      "Iteration No: 12 ended. Evaluation done at random point.\n",
      "Time taken: 6.8317\n",
      "Function value obtained: -0.0066\n",
      "Current minimum: -0.2179\n",
      "Iteration No: 13 started. Evaluating function at random point.\n",
      "Epoch 0, Loss: 0.3637\n",
      "Epoch 1, Loss: 0.1629\n",
      "Epoch 2, Loss: 0.0583\n",
      "Epoch 3, Loss: 0.0190\n",
      "Epoch 4, Loss: 0.0079\n",
      "Epoch 5, Loss: 0.0045\n",
      "Test objective (-CE) for theta=[-8, 2]: -0.0037\n",
      "Iteration No: 13 ended. Evaluation done at random point.\n",
      "Time taken: 6.0086\n",
      "Function value obtained: -0.0037\n",
      "Current minimum: -0.2179\n",
      "Iteration No: 14 started. Evaluating function at random point.\n",
      "Epoch 0, Loss: 0.4708\n",
      "Epoch 1, Loss: 0.1871\n",
      "Epoch 2, Loss: 0.0525\n",
      "Epoch 3, Loss: 0.0185\n",
      "Epoch 4, Loss: 0.0094\n",
      "Epoch 5, Loss: 0.0062\n",
      "Test objective (-CE) for theta=[-2, 10]: -0.0046\n",
      "Iteration No: 14 ended. Evaluation done at random point.\n",
      "Time taken: 6.4729\n",
      "Function value obtained: -0.0046\n",
      "Current minimum: -0.2179\n",
      "Iteration No: 15 started. Evaluating function at random point.\n",
      "Epoch 0, Loss: 0.5781\n",
      "Epoch 1, Loss: 0.3311\n",
      "Epoch 2, Loss: 0.1357\n",
      "Epoch 3, Loss: 0.0506\n",
      "Epoch 4, Loss: 0.0233\n",
      "Epoch 5, Loss: 0.0136\n",
      "Test objective (-CE) for theta=[-1, 7]: -0.0111\n",
      "Iteration No: 15 ended. Evaluation done at random point.\n",
      "Time taken: 6.5005\n",
      "Function value obtained: -0.0111\n",
      "Current minimum: -0.2179\n",
      "Iteration No: 16 started. Evaluating function at random point.\n",
      "Epoch 0, Loss: 0.6256\n",
      "Epoch 1, Loss: 0.4672\n",
      "Epoch 2, Loss: 0.3218\n",
      "Epoch 3, Loss: 0.1674\n",
      "Epoch 4, Loss: 0.0687\n",
      "Epoch 5, Loss: 0.0293\n",
      "Test objective (-CE) for theta=[4, -1]: -0.0189\n",
      "Iteration No: 16 ended. Evaluation done at random point.\n",
      "Time taken: 5.8923\n",
      "Function value obtained: -0.0189\n",
      "Current minimum: -0.2179\n",
      "Iteration No: 17 started. Evaluating function at random point.\n",
      "Epoch 0, Loss: 0.6876\n",
      "Epoch 1, Loss: 0.1667\n",
      "Epoch 2, Loss: 0.0496\n",
      "Epoch 3, Loss: 0.0154\n",
      "Epoch 4, Loss: 0.0069\n",
      "Epoch 5, Loss: 0.0043\n",
      "Test objective (-CE) for theta=[-10, 9]: -0.0036\n",
      "Iteration No: 17 ended. Evaluation done at random point.\n",
      "Time taken: 6.5012\n",
      "Function value obtained: -0.0036\n",
      "Current minimum: -0.2179\n",
      "Iteration No: 18 started. Evaluating function at random point.\n",
      "Epoch 0, Loss: 0.6983\n",
      "Epoch 1, Loss: 0.6868\n",
      "Epoch 2, Loss: 0.6784\n",
      "Epoch 3, Loss: 0.6695\n",
      "Epoch 4, Loss: 0.6574\n",
      "Epoch 5, Loss: 0.6402\n",
      "Test objective (-CE) for theta=[1, -2]: -0.6256\n",
      "Iteration No: 18 ended. Evaluation done at random point.\n",
      "Time taken: 6.1854\n",
      "Function value obtained: -0.6256\n",
      "Current minimum: -0.6256\n",
      "Iteration No: 19 started. Evaluating function at random point.\n",
      "Epoch 0, Loss: 0.3191\n",
      "Epoch 1, Loss: 0.0805\n",
      "Epoch 2, Loss: 0.0174\n",
      "Epoch 3, Loss: 0.0053\n",
      "Epoch 4, Loss: 0.0026\n",
      "Epoch 5, Loss: 0.0018\n",
      "Test objective (-CE) for theta=[-10, -5]: -0.0016\n",
      "Iteration No: 19 ended. Evaluation done at random point.\n",
      "Time taken: 6.3023\n",
      "Function value obtained: -0.0016\n",
      "Current minimum: -0.6256\n",
      "Iteration No: 20 started. Evaluating function at random point.\n",
      "Epoch 0, Loss: 0.3173\n",
      "Epoch 1, Loss: 0.0733\n",
      "Epoch 2, Loss: 0.0160\n",
      "Epoch 3, Loss: 0.0051\n",
      "Epoch 4, Loss: 0.0027\n",
      "Epoch 5, Loss: 0.0018\n",
      "Test objective (-CE) for theta=[-5, 4]: -0.0016\n",
      "Iteration No: 20 ended. Evaluation done at random point.\n",
      "Time taken: 6.6667\n",
      "Function value obtained: -0.0016\n",
      "Current minimum: -0.6256\n",
      "Iteration No: 21 started. Evaluating function at random point.\n",
      "Epoch 0, Loss: 0.6125\n",
      "Epoch 1, Loss: 0.5012\n",
      "Epoch 2, Loss: 0.3631\n",
      "Epoch 3, Loss: 0.2305\n",
      "Epoch 4, Loss: 0.1329\n",
      "Epoch 5, Loss: 0.0801\n",
      "Test objective (-CE) for theta=[2, 7]: -0.0594\n",
      "Iteration No: 21 ended. Evaluation done at random point.\n",
      "Time taken: 6.3403\n",
      "Function value obtained: -0.0594\n",
      "Current minimum: -0.6256\n",
      "Iteration No: 22 started. Evaluating function at random point.\n",
      "Epoch 0, Loss: 0.5626\n",
      "Epoch 1, Loss: 0.1635\n",
      "Epoch 2, Loss: 0.0350\n",
      "Epoch 3, Loss: 0.0098\n",
      "Epoch 4, Loss: 0.0046\n",
      "Epoch 5, Loss: 0.0031\n",
      "Test objective (-CE) for theta=[-7, -2]: -0.0025\n",
      "Iteration No: 22 ended. Evaluation done at random point.\n",
      "Time taken: 6.5442\n",
      "Function value obtained: -0.0025\n",
      "Current minimum: -0.6256\n",
      "Iteration No: 23 started. Evaluating function at random point.\n",
      "Epoch 0, Loss: 0.4832\n",
      "Epoch 1, Loss: 0.1373\n",
      "Epoch 2, Loss: 0.0387\n",
      "Epoch 3, Loss: 0.0127\n",
      "Epoch 4, Loss: 0.0060\n",
      "Epoch 5, Loss: 0.0036\n",
      "Test objective (-CE) for theta=[-6, 5]: -0.0028\n",
      "Iteration No: 23 ended. Evaluation done at random point.\n",
      "Time taken: 6.1517\n",
      "Function value obtained: -0.0028\n",
      "Current minimum: -0.6256\n",
      "Iteration No: 24 started. Evaluating function at random point.\n",
      "Epoch 0, Loss: 0.5009\n",
      "Epoch 1, Loss: 0.2133\n",
      "Epoch 2, Loss: 0.0638\n",
      "Epoch 3, Loss: 0.0215\n",
      "Epoch 4, Loss: 0.0102\n",
      "Epoch 5, Loss: 0.0066\n",
      "Test objective (-CE) for theta=[-1, -6]: -0.0053\n",
      "Iteration No: 24 ended. Evaluation done at random point.\n",
      "Time taken: 6.8865\n",
      "Function value obtained: -0.0053\n",
      "Current minimum: -0.6256\n",
      "Iteration No: 25 started. Evaluating function at random point.\n",
      "Epoch 0, Loss: 0.6715\n",
      "Epoch 1, Loss: 0.6198\n",
      "Epoch 2, Loss: 0.5525\n",
      "Epoch 3, Loss: 0.4631\n",
      "Epoch 4, Loss: 0.3689\n",
      "Epoch 5, Loss: 0.2825\n",
      "Test objective (-CE) for theta=[1, -9]: -0.2297\n",
      "Iteration No: 25 ended. Evaluation done at random point.\n",
      "Time taken: 6.7605\n",
      "Function value obtained: -0.2297\n",
      "Current minimum: -0.6256\n",
      "Iteration No: 26 started. Evaluating function at random point.\n",
      "Epoch 0, Loss: 0.4946\n",
      "Epoch 1, Loss: 0.3199\n",
      "Epoch 2, Loss: 0.1778\n",
      "Epoch 3, Loss: 0.0665\n",
      "Epoch 4, Loss: 0.0241\n",
      "Epoch 5, Loss: 0.0102\n",
      "Test objective (-CE) for theta=[7, -1]: -0.0072\n",
      "Iteration No: 26 ended. Evaluation done at random point.\n",
      "Time taken: 5.8524\n",
      "Function value obtained: -0.0072\n",
      "Current minimum: -0.6256\n",
      "Iteration No: 27 started. Evaluating function at random point.\n",
      "Epoch 0, Loss: 0.4892\n",
      "Epoch 1, Loss: 0.2192\n",
      "Epoch 2, Loss: 0.0686\n",
      "Epoch 3, Loss: 0.0224\n",
      "Epoch 4, Loss: 0.0103\n",
      "Epoch 5, Loss: 0.0064\n",
      "Test objective (-CE) for theta=[-2, 9]: -0.0050\n",
      "Iteration No: 27 ended. Evaluation done at random point.\n",
      "Time taken: 6.1380\n",
      "Function value obtained: -0.0050\n",
      "Current minimum: -0.6256\n",
      "Iteration No: 28 started. Evaluating function at random point.\n",
      "Epoch 0, Loss: 0.5562\n",
      "Epoch 1, Loss: 0.3877\n",
      "Epoch 2, Loss: 0.2483\n",
      "Epoch 3, Loss: 0.1282\n",
      "Epoch 4, Loss: 0.0582\n",
      "Epoch 5, Loss: 0.0273\n",
      "Test objective (-CE) for theta=[5, -3]: -0.0183\n",
      "Iteration No: 28 ended. Evaluation done at random point.\n",
      "Time taken: 5.9673\n",
      "Function value obtained: -0.0183\n",
      "Current minimum: -0.6256\n",
      "Iteration No: 29 started. Evaluating function at random point.\n",
      "Epoch 0, Loss: 0.6932\n",
      "Epoch 1, Loss: 0.6896\n",
      "Epoch 2, Loss: 0.6854\n",
      "Epoch 3, Loss: 0.6786\n",
      "Epoch 4, Loss: 0.6701\n",
      "Epoch 5, Loss: 0.6572\n",
      "Test objective (-CE) for theta=[1, 0]: -0.6432\n",
      "Iteration No: 29 ended. Evaluation done at random point.\n",
      "Time taken: 5.9813\n",
      "Function value obtained: -0.6432\n",
      "Current minimum: -0.6432\n",
      "Iteration No: 30 started. Evaluating function at random point.\n",
      "Epoch 0, Loss: 0.5176\n",
      "Epoch 1, Loss: 0.2969\n",
      "Epoch 2, Loss: 0.1263\n",
      "Epoch 3, Loss: 0.0391\n",
      "Epoch 4, Loss: 0.0143\n",
      "Epoch 5, Loss: 0.0070\n",
      "Test objective (-CE) for theta=[9, 7]: -0.0052\n",
      "Iteration No: 30 ended. Evaluation done at random point.\n",
      "Time taken: 6.0921\n",
      "Function value obtained: -0.0052\n",
      "Current minimum: -0.6432\n",
      "Iteration No: 31 started. Evaluating function at random point.\n",
      "Epoch 0, Loss: 0.5339\n",
      "Epoch 1, Loss: 0.3543\n",
      "Epoch 2, Loss: 0.1727\n",
      "Epoch 3, Loss: 0.0652\n",
      "Epoch 4, Loss: 0.0250\n",
      "Epoch 5, Loss: 0.0122\n",
      "Test objective (-CE) for theta=[5, 1]: -0.0091\n",
      "Iteration No: 31 ended. Evaluation done at random point.\n",
      "Time taken: 5.9070\n",
      "Function value obtained: -0.0091\n",
      "Current minimum: -0.6432\n",
      "Iteration No: 32 started. Evaluating function at random point.\n",
      "Epoch 0, Loss: 0.6418\n",
      "Epoch 1, Loss: 0.5068\n",
      "Epoch 2, Loss: 0.3342\n",
      "Epoch 3, Loss: 0.1908\n",
      "Epoch 4, Loss: 0.1052\n",
      "Epoch 5, Loss: 0.0627\n",
      "Test objective (-CE) for theta=[2, 9]: -0.0470\n",
      "Iteration No: 32 ended. Evaluation done at random point.\n",
      "Time taken: 5.5858\n",
      "Function value obtained: -0.0470\n",
      "Current minimum: -0.6432\n",
      "Iteration No: 33 started. Evaluating function at random point.\n",
      "Epoch 0, Loss: 0.6483\n",
      "Epoch 1, Loss: 0.5793\n",
      "Epoch 2, Loss: 0.4887\n",
      "Epoch 3, Loss: 0.3859\n",
      "Epoch 4, Loss: 0.2854\n",
      "Epoch 5, Loss: 0.2069\n",
      "Test objective (-CE) for theta=[2, -4]: -0.1692\n",
      "Iteration No: 33 ended. Evaluation done at random point.\n",
      "Time taken: 6.2870\n",
      "Function value obtained: -0.1692\n",
      "Current minimum: -0.6432\n",
      "Iteration No: 34 started. Evaluating function at random point.\n",
      "Epoch 0, Loss: 0.3746\n",
      "Epoch 1, Loss: 0.1258\n",
      "Epoch 2, Loss: 0.0428\n",
      "Epoch 3, Loss: 0.0157\n",
      "Epoch 4, Loss: 0.0078\n",
      "Epoch 5, Loss: 0.0048\n",
      "Test objective (-CE) for theta=[-4, -7]: -0.0042\n",
      "Iteration No: 34 ended. Evaluation done at random point.\n",
      "Time taken: 6.5029\n",
      "Function value obtained: -0.0042\n",
      "Current minimum: -0.6432\n",
      "Iteration No: 35 started. Evaluating function at random point.\n",
      "Epoch 0, Loss: 0.4557\n",
      "Epoch 1, Loss: 0.1947\n",
      "Epoch 2, Loss: 0.0779\n",
      "Epoch 3, Loss: 0.0268\n",
      "Epoch 4, Loss: 0.0110\n",
      "Epoch 5, Loss: 0.0058\n",
      "Test objective (-CE) for theta=[-10, -2]: -0.0047\n",
      "Iteration No: 35 ended. Evaluation done at random point.\n",
      "Time taken: 5.7839\n",
      "Function value obtained: -0.0047\n",
      "Current minimum: -0.6432\n",
      "Iteration No: 36 started. Evaluating function at random point.\n",
      "Epoch 0, Loss: 0.6402\n",
      "Epoch 1, Loss: 0.3742\n",
      "Epoch 2, Loss: 0.1601\n",
      "Epoch 3, Loss: 0.0504\n",
      "Epoch 4, Loss: 0.0178\n",
      "Epoch 5, Loss: 0.0087\n",
      "Test objective (-CE) for theta=[-2, -4]: -0.0063\n",
      "Iteration No: 36 ended. Evaluation done at random point.\n",
      "Time taken: 6.5226\n",
      "Function value obtained: -0.0063\n",
      "Current minimum: -0.6432\n",
      "Iteration No: 37 started. Evaluating function at random point.\n",
      "Epoch 0, Loss: 0.5556\n",
      "Epoch 1, Loss: 0.1484\n",
      "Epoch 2, Loss: 0.0523\n",
      "Epoch 3, Loss: 0.0146\n",
      "Epoch 4, Loss: 0.0052\n",
      "Epoch 5, Loss: 0.0026\n",
      "Test objective (-CE) for theta=[-10, -6]: -0.0020\n",
      "Iteration No: 37 ended. Evaluation done at random point.\n",
      "Time taken: 6.0213\n",
      "Function value obtained: -0.0020\n",
      "Current minimum: -0.6432\n",
      "Iteration No: 38 started. Evaluating function at random point.\n",
      "Epoch 0, Loss: 0.5667\n",
      "Epoch 1, Loss: 0.4193\n",
      "Epoch 2, Loss: 0.2978\n",
      "Epoch 3, Loss: 0.1848\n",
      "Epoch 4, Loss: 0.1016\n",
      "Epoch 5, Loss: 0.0528\n",
      "Test objective (-CE) for theta=[4, 6]: -0.0352\n",
      "Iteration No: 38 ended. Evaluation done at random point.\n",
      "Time taken: 6.0187\n",
      "Function value obtained: -0.0352\n",
      "Current minimum: -0.6432\n",
      "Iteration No: 39 started. Evaluating function at random point.\n",
      "Epoch 0, Loss: 0.6175\n",
      "Epoch 1, Loss: 0.5044\n",
      "Epoch 2, Loss: 0.3690\n",
      "Epoch 3, Loss: 0.2347\n",
      "Epoch 4, Loss: 0.1412\n",
      "Epoch 5, Loss: 0.0865\n",
      "Test objective (-CE) for theta=[2, 9]: -0.0633\n",
      "Iteration No: 39 ended. Evaluation done at random point.\n",
      "Time taken: 6.1792\n",
      "Function value obtained: -0.0633\n",
      "Current minimum: -0.6432\n",
      "Iteration No: 40 started. Evaluating function at random point.\n",
      "Epoch 0, Loss: 0.5928\n",
      "Epoch 1, Loss: 0.4397\n",
      "Epoch 2, Loss: 0.2537\n",
      "Epoch 3, Loss: 0.1102\n",
      "Epoch 4, Loss: 0.0453\n",
      "Epoch 5, Loss: 0.0225\n",
      "Test objective (-CE) for theta=[3, 8]: -0.0151\n",
      "Iteration No: 40 ended. Evaluation done at random point.\n",
      "Time taken: 5.6947\n",
      "Function value obtained: -0.0151\n",
      "Current minimum: -0.6432\n",
      "Iteration No: 41 started. Evaluating function at random point.\n",
      "Epoch 0, Loss: 0.5145\n",
      "Epoch 1, Loss: 0.3235\n",
      "Epoch 2, Loss: 0.1796\n",
      "Epoch 3, Loss: 0.0731\n",
      "Epoch 4, Loss: 0.0291\n",
      "Epoch 5, Loss: 0.0140\n",
      "Test objective (-CE) for theta=[7, -1]: -0.0101\n",
      "Iteration No: 41 ended. Evaluation done at random point.\n",
      "Time taken: 5.5991\n",
      "Function value obtained: -0.0101\n",
      "Current minimum: -0.6432\n",
      "Iteration No: 42 started. Evaluating function at random point.\n",
      "Epoch 0, Loss: 0.3681\n",
      "Epoch 1, Loss: 0.1571\n",
      "Epoch 2, Loss: 0.0542\n",
      "Epoch 3, Loss: 0.0167\n",
      "Epoch 4, Loss: 0.0067\n",
      "Epoch 5, Loss: 0.0038\n",
      "Test objective (-CE) for theta=[-8, -3]: -0.0031\n",
      "Iteration No: 42 ended. Evaluation done at random point.\n",
      "Time taken: 5.6456\n",
      "Function value obtained: -0.0031\n",
      "Current minimum: -0.6432\n",
      "Iteration No: 43 started. Evaluating function at random point.\n",
      "Epoch 0, Loss: 0.6133\n",
      "Epoch 1, Loss: 0.4881\n",
      "Epoch 2, Loss: 0.3482\n",
      "Epoch 3, Loss: 0.2088\n",
      "Epoch 4, Loss: 0.1080\n",
      "Epoch 5, Loss: 0.0520\n",
      "Test objective (-CE) for theta=[3, 3]: -0.0335\n",
      "Iteration No: 43 ended. Evaluation done at random point.\n",
      "Time taken: 5.6315\n",
      "Function value obtained: -0.0335\n",
      "Current minimum: -0.6432\n",
      "Iteration No: 44 started. Evaluating function at random point.\n",
      "Epoch 0, Loss: 0.6566\n",
      "Epoch 1, Loss: 0.5926\n",
      "Epoch 2, Loss: 0.4995\n",
      "Epoch 3, Loss: 0.3840\n",
      "Epoch 4, Loss: 0.2779\n",
      "Epoch 5, Loss: 0.2011\n",
      "Test objective (-CE) for theta=[2, -5]: -0.1563\n",
      "Iteration No: 44 ended. Evaluation done at random point.\n",
      "Time taken: 6.1408\n",
      "Function value obtained: -0.1563\n",
      "Current minimum: -0.6432\n",
      "Iteration No: 45 started. Evaluating function at random point.\n",
      "Epoch 0, Loss: 0.6881\n",
      "Epoch 1, Loss: 0.6772\n",
      "Epoch 2, Loss: 0.6587\n",
      "Epoch 3, Loss: 0.6342\n",
      "Epoch 4, Loss: 0.6134\n",
      "Epoch 5, Loss: 0.5880\n",
      "Test objective (-CE) for theta=[1, -2]: -0.5754\n",
      "Iteration No: 45 ended. Evaluation done at random point.\n",
      "Time taken: 6.2875\n",
      "Function value obtained: -0.5754\n",
      "Current minimum: -0.6432\n",
      "Iteration No: 46 started. Evaluating function at random point.\n",
      "Epoch 0, Loss: 0.6598\n",
      "Epoch 1, Loss: 0.2916\n",
      "Epoch 2, Loss: 0.1091\n",
      "Epoch 3, Loss: 0.0338\n",
      "Epoch 4, Loss: 0.0144\n",
      "Epoch 5, Loss: 0.0077\n",
      "Test objective (-CE) for theta=[9, 7]: -0.0060\n",
      "Iteration No: 46 ended. Evaluation done at random point.\n",
      "Time taken: 5.7553\n",
      "Function value obtained: -0.0060\n",
      "Current minimum: -0.6432\n",
      "Iteration No: 47 started. Evaluating function at random point.\n",
      "Epoch 0, Loss: 0.4756\n",
      "Epoch 1, Loss: 0.3356\n",
      "Epoch 2, Loss: 0.2017\n",
      "Epoch 3, Loss: 0.0946\n",
      "Epoch 4, Loss: 0.0408\n",
      "Epoch 5, Loss: 0.0197\n",
      "Test objective (-CE) for theta=[4, -5]: -0.0135\n",
      "Iteration No: 47 ended. Evaluation done at random point.\n",
      "Time taken: 5.9053\n",
      "Function value obtained: -0.0135\n",
      "Current minimum: -0.6432\n",
      "Iteration No: 48 started. Evaluating function at random point.\n",
      "Epoch 0, Loss: 0.5222\n",
      "Epoch 1, Loss: 0.1644\n",
      "Epoch 2, Loss: 0.0346\n",
      "Epoch 3, Loss: 0.0089\n",
      "Epoch 4, Loss: 0.0038\n",
      "Epoch 5, Loss: 0.0023\n",
      "Test objective (-CE) for theta=[-5, -9]: -0.0019\n",
      "Iteration No: 48 ended. Evaluation done at random point.\n",
      "Time taken: 5.8913\n",
      "Function value obtained: -0.0019\n",
      "Current minimum: -0.6432\n",
      "Iteration No: 49 started. Evaluating function at random point.\n",
      "Epoch 0, Loss: 0.8246\n",
      "Epoch 1, Loss: 0.6460\n",
      "Epoch 2, Loss: 0.5319\n",
      "Epoch 3, Loss: 0.3929\n",
      "Epoch 4, Loss: 0.2527\n",
      "Epoch 5, Loss: 0.1452\n",
      "Test objective (-CE) for theta=[4, -8]: -0.1047\n",
      "Iteration No: 49 ended. Evaluation done at random point.\n",
      "Time taken: 5.8046\n",
      "Function value obtained: -0.1047\n",
      "Current minimum: -0.6432\n",
      "Iteration No: 50 started. Evaluating function at random point.\n",
      "Epoch 0, Loss: 0.4763\n",
      "Epoch 1, Loss: 0.2142\n",
      "Epoch 2, Loss: 0.0808\n",
      "Epoch 3, Loss: 0.0320\n",
      "Epoch 4, Loss: 0.0160\n",
      "Epoch 5, Loss: 0.0101\n",
      "Test objective (-CE) for theta=[-1, -6]: -0.0080\n",
      "Iteration No: 50 ended. Evaluation done at random point.\n",
      "Time taken: 5.8624\n",
      "Function value obtained: -0.0080\n",
      "Current minimum: -0.6432\n",
      "Iteration No: 51 started. Evaluating function at random point.\n",
      "Epoch 0, Loss: 0.4305\n",
      "Epoch 1, Loss: 0.2662\n",
      "Epoch 2, Loss: 0.1228\n",
      "Epoch 3, Loss: 0.0463\n",
      "Epoch 4, Loss: 0.0167\n",
      "Epoch 5, Loss: 0.0075\n",
      "Test objective (-CE) for theta=[8, 0]: -0.0050\n",
      "Iteration No: 51 ended. Evaluation done at random point.\n",
      "Time taken: 5.9445\n",
      "Function value obtained: -0.0050\n",
      "Current minimum: -0.6432\n",
      "Iteration No: 52 started. Evaluating function at random point.\n",
      "Epoch 0, Loss: 0.6959\n",
      "Epoch 1, Loss: 0.6888\n",
      "Epoch 2, Loss: 0.6777\n",
      "Epoch 3, Loss: 0.6597\n",
      "Epoch 4, Loss: 0.6319\n",
      "Epoch 5, Loss: 0.5991\n",
      "Test objective (-CE) for theta=[1, 4]: -0.5773\n",
      "Iteration No: 52 ended. Evaluation done at random point.\n",
      "Time taken: 5.8384\n",
      "Function value obtained: -0.5773\n",
      "Current minimum: -0.6432\n",
      "Iteration No: 53 started. Evaluating function at random point.\n",
      "Epoch 0, Loss: 0.3196\n",
      "Epoch 1, Loss: 0.1388\n",
      "Epoch 2, Loss: 0.0667\n",
      "Epoch 3, Loss: 0.0298\n",
      "Epoch 4, Loss: 0.0141\n",
      "Epoch 5, Loss: 0.0075\n",
      "Test objective (-CE) for theta=[-7, 2]: -0.0058\n",
      "Iteration No: 53 ended. Evaluation done at random point.\n",
      "Time taken: 5.7893\n",
      "Function value obtained: -0.0058\n",
      "Current minimum: -0.6432\n",
      "Iteration No: 54 started. Evaluating function at random point.\n",
      "Epoch 0, Loss: 0.6933\n",
      "Epoch 1, Loss: 0.6302\n",
      "Epoch 2, Loss: 0.5585\n",
      "Epoch 3, Loss: 0.4664\n",
      "Epoch 4, Loss: 0.3793\n",
      "Epoch 5, Loss: 0.3112\n",
      "Test objective (-CE) for theta=[1, -6]: -0.2978\n",
      "Iteration No: 54 ended. Evaluation done at random point.\n",
      "Time taken: 5.5585\n",
      "Function value obtained: -0.2978\n",
      "Current minimum: -0.6432\n",
      "Iteration No: 55 started. Evaluating function at random point.\n",
      "Epoch 0, Loss: 0.5541\n",
      "Epoch 1, Loss: 0.3474\n",
      "Epoch 2, Loss: 0.2015\n",
      "Epoch 3, Loss: 0.0902\n",
      "Epoch 4, Loss: 0.0354\n",
      "Epoch 5, Loss: 0.0133\n",
      "Test objective (-CE) for theta=[9, 2]: -0.0081\n",
      "Iteration No: 55 ended. Evaluation done at random point.\n",
      "Time taken: 5.9759\n",
      "Function value obtained: -0.0081\n",
      "Current minimum: -0.6432\n",
      "Iteration No: 56 started. Evaluating function at random point.\n",
      "Epoch 0, Loss: 0.5718\n",
      "Epoch 1, Loss: 0.4443\n",
      "Epoch 2, Loss: 0.3101\n",
      "Epoch 3, Loss: 0.1689\n",
      "Epoch 4, Loss: 0.0798\n",
      "Epoch 5, Loss: 0.0375\n",
      "Test objective (-CE) for theta=[4, 8]: -0.0261\n",
      "Iteration No: 56 ended. Evaluation done at random point.\n",
      "Time taken: 5.8127\n",
      "Function value obtained: -0.0261\n",
      "Current minimum: -0.6432\n",
      "Iteration No: 57 started. Evaluating function at random point.\n",
      "Epoch 0, Loss: 0.6734\n",
      "Epoch 1, Loss: 0.5892\n",
      "Epoch 2, Loss: 0.4823\n",
      "Epoch 3, Loss: 0.3525\n",
      "Epoch 4, Loss: 0.2393\n",
      "Epoch 5, Loss: 0.1683\n",
      "Test objective (-CE) for theta=[2, -4]: -0.1349\n",
      "Iteration No: 57 ended. Evaluation done at random point.\n",
      "Time taken: 5.6369\n",
      "Function value obtained: -0.1349\n",
      "Current minimum: -0.6432\n",
      "Iteration No: 58 started. Evaluating function at random point.\n",
      "Epoch 0, Loss: 0.3407\n",
      "Epoch 1, Loss: 0.1282\n",
      "Epoch 2, Loss: 0.0388\n",
      "Epoch 3, Loss: 0.0122\n",
      "Epoch 4, Loss: 0.0053\n",
      "Epoch 5, Loss: 0.0032\n",
      "Test objective (-CE) for theta=[-8, -1]: -0.0026\n",
      "Iteration No: 58 ended. Evaluation done at random point.\n",
      "Time taken: 5.8251\n",
      "Function value obtained: -0.0026\n",
      "Current minimum: -0.6432\n",
      "Iteration No: 59 started. Evaluating function at random point.\n",
      "Epoch 0, Loss: 0.3355\n",
      "Epoch 1, Loss: 0.1285\n",
      "Epoch 2, Loss: 0.0430\n",
      "Epoch 3, Loss: 0.0145\n",
      "Epoch 4, Loss: 0.0064\n",
      "Epoch 5, Loss: 0.0037\n",
      "Test objective (-CE) for theta=[-6, -2]: -0.0030\n",
      "Iteration No: 59 ended. Evaluation done at random point.\n",
      "Time taken: 5.6241\n",
      "Function value obtained: -0.0030\n",
      "Current minimum: -0.6432\n",
      "Iteration No: 60 started. Evaluating function at random point.\n",
      "Epoch 0, Loss: 0.4632\n",
      "Epoch 1, Loss: 0.3007\n",
      "Epoch 2, Loss: 0.1423\n",
      "Epoch 3, Loss: 0.0458\n",
      "Epoch 4, Loss: 0.0162\n",
      "Epoch 5, Loss: 0.0077\n",
      "Test objective (-CE) for theta=[8, -4]: -0.0057\n",
      "Iteration No: 60 ended. Evaluation done at random point.\n",
      "Time taken: 5.7128\n",
      "Function value obtained: -0.0057\n",
      "Current minimum: -0.6432\n",
      "Iteration No: 61 started. Evaluating function at random point.\n",
      "Epoch 0, Loss: 0.3049\n",
      "Epoch 1, Loss: 0.0961\n",
      "Epoch 2, Loss: 0.0268\n",
      "Epoch 3, Loss: 0.0090\n",
      "Epoch 4, Loss: 0.0044\n",
      "Epoch 5, Loss: 0.0028\n",
      "Test objective (-CE) for theta=[-8, -3]: -0.0024\n",
      "Iteration No: 61 ended. Evaluation done at random point.\n",
      "Time taken: 5.6754\n",
      "Function value obtained: -0.0024\n",
      "Current minimum: -0.6432\n",
      "Iteration No: 62 started. Evaluating function at random point.\n",
      "Epoch 0, Loss: 0.5295\n",
      "Epoch 1, Loss: 0.3134\n",
      "Epoch 2, Loss: 0.1587\n",
      "Epoch 3, Loss: 0.0685\n",
      "Epoch 4, Loss: 0.0300\n",
      "Epoch 5, Loss: 0.0151\n",
      "Test objective (-CE) for theta=[8, -5]: -0.0110\n",
      "Iteration No: 62 ended. Evaluation done at random point.\n",
      "Time taken: 5.7224\n",
      "Function value obtained: -0.0110\n",
      "Current minimum: -0.6432\n",
      "Iteration No: 63 started. Evaluating function at random point.\n",
      "Epoch 0, Loss: 0.6428\n",
      "Epoch 1, Loss: 0.5125\n",
      "Epoch 2, Loss: 0.3703\n",
      "Epoch 3, Loss: 0.2323\n",
      "Epoch 4, Loss: 0.1359\n",
      "Epoch 5, Loss: 0.0824\n",
      "Test objective (-CE) for theta=[3, -10]: -0.0652\n",
      "Iteration No: 63 ended. Evaluation done at random point.\n",
      "Time taken: 5.7214\n",
      "Function value obtained: -0.0652\n",
      "Current minimum: -0.6432\n",
      "Iteration No: 64 started. Evaluating function at random point.\n",
      "Epoch 0, Loss: 0.5684\n",
      "Epoch 1, Loss: 0.2115\n",
      "Epoch 2, Loss: 0.0621\n",
      "Epoch 3, Loss: 0.0206\n",
      "Epoch 4, Loss: 0.0097\n",
      "Epoch 5, Loss: 0.0061\n",
      "Test objective (-CE) for theta=[-3, -4]: -0.0047\n",
      "Iteration No: 64 ended. Evaluation done at random point.\n",
      "Time taken: 5.5988\n",
      "Function value obtained: -0.0047\n",
      "Current minimum: -0.6432\n",
      "Iteration No: 65 started. Evaluating function at random point.\n",
      "Epoch 0, Loss: 0.3883\n",
      "Epoch 1, Loss: 0.1274\n",
      "Epoch 2, Loss: 0.0323\n",
      "Epoch 3, Loss: 0.0094\n",
      "Epoch 4, Loss: 0.0042\n",
      "Epoch 5, Loss: 0.0027\n",
      "Test objective (-CE) for theta=[-7, 1]: -0.0022\n",
      "Iteration No: 65 ended. Evaluation done at random point.\n",
      "Time taken: 5.6288\n",
      "Function value obtained: -0.0022\n",
      "Current minimum: -0.6432\n",
      "Iteration No: 66 started. Evaluating function at random point.\n",
      "Epoch 0, Loss: 0.6774\n",
      "Epoch 1, Loss: 0.5533\n",
      "Epoch 2, Loss: 0.3823\n",
      "Epoch 3, Loss: 0.2114\n",
      "Epoch 4, Loss: 0.1035\n",
      "Epoch 5, Loss: 0.0525\n",
      "Test objective (-CE) for theta=[0, 4]: -0.0357\n",
      "Iteration No: 66 ended. Evaluation done at random point.\n",
      "Time taken: 6.2771\n",
      "Function value obtained: -0.0357\n",
      "Current minimum: -0.6432\n",
      "Iteration No: 67 started. Evaluating function at random point.\n",
      "Epoch 0, Loss: 0.5771\n",
      "Epoch 1, Loss: 0.2520\n",
      "Epoch 2, Loss: 0.1156\n",
      "Epoch 3, Loss: 0.0444\n",
      "Epoch 4, Loss: 0.0183\n",
      "Epoch 5, Loss: 0.0097\n",
      "Test objective (-CE) for theta=[-5, -5]: -0.0075\n",
      "Iteration No: 67 ended. Evaluation done at random point.\n",
      "Time taken: 5.8319\n",
      "Function value obtained: -0.0075\n",
      "Current minimum: -0.6432\n",
      "Iteration No: 68 started. Evaluating function at random point.\n",
      "Epoch 0, Loss: 0.5215\n",
      "Epoch 1, Loss: 0.1414\n",
      "Epoch 2, Loss: 0.0358\n",
      "Epoch 3, Loss: 0.0104\n",
      "Epoch 4, Loss: 0.0047\n",
      "Epoch 5, Loss: 0.0031\n",
      "Test objective (-CE) for theta=[-7, -6]: -0.0025\n",
      "Iteration No: 68 ended. Evaluation done at random point.\n",
      "Time taken: 5.7852\n",
      "Function value obtained: -0.0025\n",
      "Current minimum: -0.6432\n",
      "Iteration No: 69 started. Evaluating function at random point.\n",
      "Epoch 0, Loss: 0.6912\n",
      "Epoch 1, Loss: 0.6771\n",
      "Epoch 2, Loss: 0.6569\n",
      "Epoch 3, Loss: 0.6340\n",
      "Epoch 4, Loss: 0.6026\n",
      "Epoch 5, Loss: 0.5720\n",
      "Test objective (-CE) for theta=[1, -2]: -0.5620\n",
      "Iteration No: 69 ended. Evaluation done at random point.\n",
      "Time taken: 5.8849\n",
      "Function value obtained: -0.5620\n",
      "Current minimum: -0.6432\n",
      "Iteration No: 70 started. Evaluating function at random point.\n",
      "Epoch 0, Loss: 0.2869\n",
      "Epoch 1, Loss: 0.0579\n",
      "Epoch 2, Loss: 0.0126\n",
      "Epoch 3, Loss: 0.0043\n",
      "Epoch 4, Loss: 0.0023\n",
      "Epoch 5, Loss: 0.0016\n",
      "Test objective (-CE) for theta=[-9, -5]: -0.0014\n",
      "Iteration No: 70 ended. Evaluation done at random point.\n",
      "Time taken: 14.0011\n",
      "Function value obtained: -0.0014\n",
      "Current minimum: -0.6432\n",
      "Iteration No: 71 started. Searching for the next optimal point.\n",
      "Epoch 0, Loss: 0.6995\n",
      "Epoch 1, Loss: 0.6958\n",
      "Epoch 2, Loss: 0.6942\n",
      "Epoch 3, Loss: 0.6942\n",
      "Epoch 4, Loss: 0.6937\n",
      "Epoch 5, Loss: 0.6935\n",
      "Test objective (-CE) for theta=[1, 2]: -0.6945\n",
      "Iteration No: 71 ended. Search finished for the next optimal point.\n",
      "Time taken: 7.7512\n",
      "Function value obtained: -0.6945\n",
      "Current minimum: -0.6945\n",
      "Iteration No: 72 started. Searching for the next optimal point.\n",
      "Epoch 0, Loss: 0.6919\n",
      "Epoch 1, Loss: 0.6893\n",
      "Epoch 2, Loss: 0.6873\n",
      "Epoch 3, Loss: 0.6830\n",
      "Epoch 4, Loss: 0.6767\n",
      "Epoch 5, Loss: 0.6685\n",
      "Test objective (-CE) for theta=[1, 3]: -0.6658\n",
      "Iteration No: 72 ended. Search finished for the next optimal point.\n",
      "Time taken: 7.8001\n",
      "Function value obtained: -0.6658\n",
      "Current minimum: -0.6945\n",
      "Iteration No: 73 started. Searching for the next optimal point.\n"
     ]
    },
    {
     "name": "stderr",
     "output_type": "stream",
     "text": [
      "c:\\Users\\vitil\\AppData\\Local\\Programs\\Python\\Python310\\lib\\site-packages\\skopt\\optimizer\\optimizer.py:517: UserWarning: The objective has been evaluated at point [1, 3] before, using random point [2, 1]\n",
      "  warnings.warn(\n"
     ]
    },
    {
     "name": "stdout",
     "output_type": "stream",
     "text": [
      "Epoch 0, Loss: 0.6555\n",
      "Epoch 1, Loss: 0.5735\n",
      "Epoch 2, Loss: 0.4496\n",
      "Epoch 3, Loss: 0.2958\n",
      "Epoch 4, Loss: 0.1686\n",
      "Epoch 5, Loss: 0.0880\n",
      "Test objective (-CE) for theta=[2, 1]: -0.0591\n",
      "Iteration No: 73 ended. Search finished for the next optimal point.\n",
      "Time taken: 7.4247\n",
      "Function value obtained: -0.0591\n",
      "Current minimum: -0.6945\n",
      "Iteration No: 74 started. Searching for the next optimal point.\n"
     ]
    },
    {
     "name": "stderr",
     "output_type": "stream",
     "text": [
      "c:\\Users\\vitil\\AppData\\Local\\Programs\\Python\\Python310\\lib\\site-packages\\skopt\\optimizer\\optimizer.py:517: UserWarning: The objective has been evaluated at point [1, 3] before, using random point [1, 9]\n",
      "  warnings.warn(\n"
     ]
    },
    {
     "name": "stdout",
     "output_type": "stream",
     "text": [
      "Epoch 0, Loss: 0.7183\n",
      "Epoch 1, Loss: 0.6591\n",
      "Epoch 2, Loss: 0.6101\n",
      "Epoch 3, Loss: 0.5440\n",
      "Epoch 4, Loss: 0.4611\n",
      "Epoch 5, Loss: 0.3715\n",
      "Test objective (-CE) for theta=[1, 9]: -0.3225\n",
      "Iteration No: 74 ended. Search finished for the next optimal point.\n",
      "Time taken: 6.1016\n",
      "Function value obtained: -0.3225\n",
      "Current minimum: -0.6945\n",
      "Iteration No: 75 started. Searching for the next optimal point.\n",
      "Epoch 0, Loss: 0.6935\n",
      "Epoch 1, Loss: 0.6916\n",
      "Epoch 2, Loss: 0.6901\n",
      "Epoch 3, Loss: 0.6864\n",
      "Epoch 4, Loss: 0.6800\n",
      "Epoch 5, Loss: 0.6721\n",
      "Test objective (-CE) for theta=[1, 1]: -0.6668\n",
      "Iteration No: 75 ended. Search finished for the next optimal point.\n",
      "Time taken: 6.3844\n",
      "Function value obtained: -0.6668\n",
      "Current minimum: -0.6945\n",
      "Iteration No: 76 started. Searching for the next optimal point.\n"
     ]
    },
    {
     "name": "stderr",
     "output_type": "stream",
     "text": [
      "c:\\Users\\vitil\\AppData\\Local\\Programs\\Python\\Python310\\lib\\site-packages\\skopt\\optimizer\\optimizer.py:517: UserWarning: The objective has been evaluated at point [1, 1] before, using random point [-7, 8]\n",
      "  warnings.warn(\n"
     ]
    },
    {
     "name": "stdout",
     "output_type": "stream",
     "text": [
      "Epoch 0, Loss: 0.4877\n",
      "Epoch 1, Loss: 0.1318\n",
      "Epoch 2, Loss: 0.0263\n",
      "Epoch 3, Loss: 0.0078\n",
      "Epoch 4, Loss: 0.0038\n",
      "Epoch 5, Loss: 0.0026\n",
      "Test objective (-CE) for theta=[-7, 8]: -0.0021\n",
      "Iteration No: 76 ended. Search finished for the next optimal point.\n",
      "Time taken: 6.0114\n",
      "Function value obtained: -0.0021\n",
      "Current minimum: -0.6945\n",
      "Iteration No: 77 started. Searching for the next optimal point.\n"
     ]
    },
    {
     "name": "stderr",
     "output_type": "stream",
     "text": [
      "c:\\Users\\vitil\\AppData\\Local\\Programs\\Python\\Python310\\lib\\site-packages\\skopt\\optimizer\\optimizer.py:517: UserWarning: The objective has been evaluated at point [1, 1] before, using random point [-9, 5]\n",
      "  warnings.warn(\n"
     ]
    },
    {
     "name": "stdout",
     "output_type": "stream",
     "text": [
      "Epoch 0, Loss: 0.5372\n",
      "Epoch 1, Loss: 0.1510\n",
      "Epoch 2, Loss: 0.0340\n",
      "Epoch 3, Loss: 0.0088\n",
      "Epoch 4, Loss: 0.0039\n",
      "Epoch 5, Loss: 0.0026\n",
      "Test objective (-CE) for theta=[-9, 5]: -0.0021\n",
      "Iteration No: 77 ended. Search finished for the next optimal point.\n",
      "Time taken: 6.2009\n",
      "Function value obtained: -0.0021\n",
      "Current minimum: -0.6945\n",
      "Iteration No: 78 started. Searching for the next optimal point.\n"
     ]
    },
    {
     "name": "stderr",
     "output_type": "stream",
     "text": [
      "c:\\Users\\vitil\\AppData\\Local\\Programs\\Python\\Python310\\lib\\site-packages\\skopt\\optimizer\\optimizer.py:517: UserWarning: The objective has been evaluated at point [1, 1] before, using random point [3, 0]\n",
      "  warnings.warn(\n"
     ]
    },
    {
     "name": "stdout",
     "output_type": "stream",
     "text": [
      "Epoch 0, Loss: 0.6934\n",
      "Epoch 1, Loss: 0.5322\n",
      "Epoch 2, Loss: 0.3348\n",
      "Epoch 3, Loss: 0.1698\n",
      "Epoch 4, Loss: 0.0751\n",
      "Epoch 5, Loss: 0.0344\n",
      "Test objective (-CE) for theta=[3, 0]: -0.0232\n",
      "Iteration No: 78 ended. Search finished for the next optimal point.\n",
      "Time taken: 6.1870\n",
      "Function value obtained: -0.0232\n",
      "Current minimum: -0.6945\n",
      "Iteration No: 79 started. Searching for the next optimal point.\n"
     ]
    },
    {
     "name": "stderr",
     "output_type": "stream",
     "text": [
      "c:\\Users\\vitil\\AppData\\Local\\Programs\\Python\\Python310\\lib\\site-packages\\skopt\\optimizer\\optimizer.py:517: UserWarning: The objective has been evaluated at point [1, 1] before, using random point [-9, 1]\n",
      "  warnings.warn(\n"
     ]
    },
    {
     "name": "stdout",
     "output_type": "stream",
     "text": [
      "Epoch 0, Loss: 0.4077\n",
      "Epoch 1, Loss: 0.1568\n",
      "Epoch 2, Loss: 0.0610\n",
      "Epoch 3, Loss: 0.0207\n",
      "Epoch 4, Loss: 0.0086\n",
      "Epoch 5, Loss: 0.0048\n",
      "Test objective (-CE) for theta=[-9, 1]: -0.0038\n",
      "Iteration No: 79 ended. Search finished for the next optimal point.\n",
      "Time taken: 6.3131\n",
      "Function value obtained: -0.0038\n",
      "Current minimum: -0.6945\n",
      "Iteration No: 80 started. Searching for the next optimal point.\n"
     ]
    },
    {
     "name": "stderr",
     "output_type": "stream",
     "text": [
      "c:\\Users\\vitil\\AppData\\Local\\Programs\\Python\\Python310\\lib\\site-packages\\skopt\\optimizer\\optimizer.py:517: UserWarning: The objective has been evaluated at point [1, 1] before, using random point [-3, -8]\n",
      "  warnings.warn(\n"
     ]
    },
    {
     "name": "stdout",
     "output_type": "stream",
     "text": [
      "Epoch 0, Loss: 0.4484\n",
      "Epoch 1, Loss: 0.1285\n",
      "Epoch 2, Loss: 0.0348\n",
      "Epoch 3, Loss: 0.0126\n",
      "Epoch 4, Loss: 0.0066\n",
      "Epoch 5, Loss: 0.0044\n",
      "Test objective (-CE) for theta=[-3, -8]: -0.0036\n",
      "Iteration No: 80 ended. Search finished for the next optimal point.\n",
      "Time taken: 6.8440\n",
      "Function value obtained: -0.0036\n",
      "Current minimum: -0.6945\n",
      "Iteration No: 81 started. Searching for the next optimal point.\n"
     ]
    },
    {
     "name": "stderr",
     "output_type": "stream",
     "text": [
      "c:\\Users\\vitil\\AppData\\Local\\Programs\\Python\\Python310\\lib\\site-packages\\skopt\\optimizer\\optimizer.py:517: UserWarning: The objective has been evaluated at point [1, 1] before, using random point [-5, -2]\n",
      "  warnings.warn(\n"
     ]
    },
    {
     "name": "stdout",
     "output_type": "stream",
     "text": [
      "Epoch 0, Loss: 0.6284\n",
      "Epoch 1, Loss: 0.2885\n",
      "Epoch 2, Loss: 0.1382\n",
      "Epoch 3, Loss: 0.0511\n",
      "Epoch 4, Loss: 0.0186\n",
      "Epoch 5, Loss: 0.0085\n",
      "Test objective (-CE) for theta=[-5, -2]: -0.0063\n",
      "Iteration No: 81 ended. Search finished for the next optimal point.\n",
      "Time taken: 6.0908\n",
      "Function value obtained: -0.0063\n",
      "Current minimum: -0.6945\n",
      "Iteration No: 82 started. Searching for the next optimal point.\n"
     ]
    },
    {
     "name": "stderr",
     "output_type": "stream",
     "text": [
      "c:\\Users\\vitil\\AppData\\Local\\Programs\\Python\\Python310\\lib\\site-packages\\skopt\\optimizer\\optimizer.py:517: UserWarning: The objective has been evaluated at point [1, 1] before, using random point [-1, -7]\n",
      "  warnings.warn(\n"
     ]
    },
    {
     "name": "stdout",
     "output_type": "stream",
     "text": [
      "Epoch 0, Loss: 0.5431\n",
      "Epoch 1, Loss: 0.2874\n",
      "Epoch 2, Loss: 0.1162\n",
      "Epoch 3, Loss: 0.0428\n",
      "Epoch 4, Loss: 0.0195\n",
      "Epoch 5, Loss: 0.0111\n",
      "Test objective (-CE) for theta=[-1, -7]: -0.0090\n",
      "Iteration No: 82 ended. Search finished for the next optimal point.\n",
      "Time taken: 6.1195\n",
      "Function value obtained: -0.0090\n",
      "Current minimum: -0.6945\n",
      "Iteration No: 83 started. Searching for the next optimal point.\n"
     ]
    },
    {
     "name": "stderr",
     "output_type": "stream",
     "text": [
      "c:\\Users\\vitil\\AppData\\Local\\Programs\\Python\\Python310\\lib\\site-packages\\skopt\\optimizer\\optimizer.py:517: UserWarning: The objective has been evaluated at point [1, 1] before, using random point [4, 4]\n",
      "  warnings.warn(\n"
     ]
    },
    {
     "name": "stdout",
     "output_type": "stream",
     "text": [
      "Epoch 0, Loss: 0.5466\n",
      "Epoch 1, Loss: 0.3940\n",
      "Epoch 2, Loss: 0.2130\n",
      "Epoch 3, Loss: 0.0862\n",
      "Epoch 4, Loss: 0.0340\n",
      "Epoch 5, Loss: 0.0157\n",
      "Test objective (-CE) for theta=[4, 4]: -0.0111\n",
      "Iteration No: 83 ended. Search finished for the next optimal point.\n",
      "Time taken: 6.0991\n",
      "Function value obtained: -0.0111\n",
      "Current minimum: -0.6945\n",
      "Iteration No: 84 started. Searching for the next optimal point.\n"
     ]
    },
    {
     "name": "stderr",
     "output_type": "stream",
     "text": [
      "c:\\Users\\vitil\\AppData\\Local\\Programs\\Python\\Python310\\lib\\site-packages\\skopt\\optimizer\\optimizer.py:517: UserWarning: The objective has been evaluated at point [1, 1] before, using random point [2, 5]\n",
      "  warnings.warn(\n"
     ]
    },
    {
     "name": "stdout",
     "output_type": "stream",
     "text": [
      "Epoch 0, Loss: 0.6561\n",
      "Epoch 1, Loss: 0.5760\n",
      "Epoch 2, Loss: 0.4757\n",
      "Epoch 3, Loss: 0.3520\n",
      "Epoch 4, Loss: 0.2363\n",
      "Epoch 5, Loss: 0.1502\n",
      "Test objective (-CE) for theta=[2, 5]: -0.1118\n",
      "Iteration No: 84 ended. Search finished for the next optimal point.\n",
      "Time taken: 6.3975\n",
      "Function value obtained: -0.1118\n",
      "Current minimum: -0.6945\n",
      "Iteration No: 85 started. Searching for the next optimal point.\n"
     ]
    },
    {
     "name": "stderr",
     "output_type": "stream",
     "text": [
      "c:\\Users\\vitil\\AppData\\Local\\Programs\\Python\\Python310\\lib\\site-packages\\skopt\\optimizer\\optimizer.py:517: UserWarning: The objective has been evaluated at point [1, 1] before, using random point [-9, 3]\n",
      "  warnings.warn(\n"
     ]
    },
    {
     "name": "stdout",
     "output_type": "stream",
     "text": [
      "Epoch 0, Loss: 0.3970\n",
      "Epoch 1, Loss: 0.1088\n",
      "Epoch 2, Loss: 0.0303\n",
      "Epoch 3, Loss: 0.0097\n",
      "Epoch 4, Loss: 0.0046\n",
      "Epoch 5, Loss: 0.0030\n",
      "Test objective (-CE) for theta=[-9, 3]: -0.0026\n",
      "Iteration No: 85 ended. Search finished for the next optimal point.\n",
      "Time taken: 5.9997\n",
      "Function value obtained: -0.0026\n",
      "Current minimum: -0.6945\n",
      "Iteration No: 86 started. Searching for the next optimal point.\n"
     ]
    },
    {
     "name": "stderr",
     "output_type": "stream",
     "text": [
      "c:\\Users\\vitil\\AppData\\Local\\Programs\\Python\\Python310\\lib\\site-packages\\skopt\\optimizer\\optimizer.py:517: UserWarning: The objective has been evaluated at point [1, 1] before, using random point [7, -6]\n",
      "  warnings.warn(\n"
     ]
    },
    {
     "name": "stdout",
     "output_type": "stream",
     "text": [
      "Epoch 0, Loss: 0.4713\n",
      "Epoch 1, Loss: 0.3275\n",
      "Epoch 2, Loss: 0.2010\n",
      "Epoch 3, Loss: 0.0995\n",
      "Epoch 4, Loss: 0.0428\n",
      "Epoch 5, Loss: 0.0175\n",
      "Test objective (-CE) for theta=[7, -6]: -0.0111\n",
      "Iteration No: 86 ended. Search finished for the next optimal point.\n",
      "Time taken: 6.0809\n",
      "Function value obtained: -0.0111\n",
      "Current minimum: -0.6945\n",
      "Iteration No: 87 started. Searching for the next optimal point.\n"
     ]
    },
    {
     "name": "stderr",
     "output_type": "stream",
     "text": [
      "c:\\Users\\vitil\\AppData\\Local\\Programs\\Python\\Python310\\lib\\site-packages\\skopt\\optimizer\\optimizer.py:517: UserWarning: The objective has been evaluated at point [1, 1] before, using random point [-3, -9]\n",
      "  warnings.warn(\n"
     ]
    },
    {
     "name": "stdout",
     "output_type": "stream",
     "text": [
      "Epoch 0, Loss: 0.4526\n",
      "Epoch 1, Loss: 0.1498\n",
      "Epoch 2, Loss: 0.0383\n",
      "Epoch 3, Loss: 0.0126\n",
      "Epoch 4, Loss: 0.0061\n",
      "Epoch 5, Loss: 0.0040\n",
      "Test objective (-CE) for theta=[-3, -9]: -0.0031\n",
      "Iteration No: 87 ended. Search finished for the next optimal point.\n",
      "Time taken: 6.1800\n",
      "Function value obtained: -0.0031\n",
      "Current minimum: -0.6945\n",
      "Iteration No: 88 started. Searching for the next optimal point.\n"
     ]
    },
    {
     "name": "stderr",
     "output_type": "stream",
     "text": [
      "c:\\Users\\vitil\\AppData\\Local\\Programs\\Python\\Python310\\lib\\site-packages\\skopt\\optimizer\\optimizer.py:517: UserWarning: The objective has been evaluated at point [1, 1] before, using random point [-4, 10]\n",
      "  warnings.warn(\n"
     ]
    },
    {
     "name": "stdout",
     "output_type": "stream",
     "text": [
      "Epoch 0, Loss: 0.5312\n",
      "Epoch 1, Loss: 0.1913\n",
      "Epoch 2, Loss: 0.0518\n",
      "Epoch 3, Loss: 0.0160\n",
      "Epoch 4, Loss: 0.0073\n",
      "Epoch 5, Loss: 0.0046\n",
      "Test objective (-CE) for theta=[-4, 10]: -0.0034\n",
      "Iteration No: 88 ended. Search finished for the next optimal point.\n",
      "Time taken: 6.0401\n",
      "Function value obtained: -0.0034\n",
      "Current minimum: -0.6945\n",
      "Iteration No: 89 started. Searching for the next optimal point.\n"
     ]
    },
    {
     "name": "stderr",
     "output_type": "stream",
     "text": [
      "c:\\Users\\vitil\\AppData\\Local\\Programs\\Python\\Python310\\lib\\site-packages\\skopt\\optimizer\\optimizer.py:517: UserWarning: The objective has been evaluated at point [1, 1] before, using random point [-8, 4]\n",
      "  warnings.warn(\n"
     ]
    },
    {
     "name": "stdout",
     "output_type": "stream",
     "text": [
      "Epoch 0, Loss: 0.5087\n",
      "Epoch 1, Loss: 0.1614\n",
      "Epoch 2, Loss: 0.0495\n",
      "Epoch 3, Loss: 0.0158\n",
      "Epoch 4, Loss: 0.0069\n",
      "Epoch 5, Loss: 0.0042\n",
      "Test objective (-CE) for theta=[-8, 4]: -0.0034\n",
      "Iteration No: 89 ended. Search finished for the next optimal point.\n",
      "Time taken: 6.0735\n",
      "Function value obtained: -0.0034\n",
      "Current minimum: -0.6945\n",
      "Iteration No: 90 started. Searching for the next optimal point.\n"
     ]
    },
    {
     "name": "stderr",
     "output_type": "stream",
     "text": [
      "c:\\Users\\vitil\\AppData\\Local\\Programs\\Python\\Python310\\lib\\site-packages\\skopt\\optimizer\\optimizer.py:517: UserWarning: The objective has been evaluated at point [1, 1] before, using random point [2, -6]\n",
      "  warnings.warn(\n"
     ]
    },
    {
     "name": "stdout",
     "output_type": "stream",
     "text": [
      "Epoch 0, Loss: 0.6654\n",
      "Epoch 1, Loss: 0.5900\n",
      "Epoch 2, Loss: 0.4901\n",
      "Epoch 3, Loss: 0.3810\n",
      "Epoch 4, Loss: 0.2864\n",
      "Epoch 5, Loss: 0.2199\n",
      "Test objective (-CE) for theta=[2, -6]: -0.1701\n",
      "Iteration No: 90 ended. Search finished for the next optimal point.\n",
      "Time taken: 6.7334\n",
      "Function value obtained: -0.1701\n",
      "Current minimum: -0.6945\n",
      "Iteration No: 91 started. Searching for the next optimal point.\n"
     ]
    },
    {
     "name": "stderr",
     "output_type": "stream",
     "text": [
      "c:\\Users\\vitil\\AppData\\Local\\Programs\\Python\\Python310\\lib\\site-packages\\skopt\\optimizer\\optimizer.py:517: UserWarning: The objective has been evaluated at point [1, 1] before, using random point [1, -8]\n",
      "  warnings.warn(\n"
     ]
    },
    {
     "name": "stdout",
     "output_type": "stream",
     "text": [
      "Epoch 0, Loss: 0.6780\n",
      "Epoch 1, Loss: 0.6224\n",
      "Epoch 2, Loss: 0.5380\n",
      "Epoch 3, Loss: 0.4410\n",
      "Epoch 4, Loss: 0.3442\n",
      "Epoch 5, Loss: 0.2671\n",
      "Test objective (-CE) for theta=[1, -8]: -0.2421\n",
      "Iteration No: 91 ended. Search finished for the next optimal point.\n",
      "Time taken: 6.5945\n",
      "Function value obtained: -0.2421\n",
      "Current minimum: -0.6945\n",
      "Iteration No: 92 started. Searching for the next optimal point.\n"
     ]
    },
    {
     "name": "stderr",
     "output_type": "stream",
     "text": [
      "c:\\Users\\vitil\\AppData\\Local\\Programs\\Python\\Python310\\lib\\site-packages\\skopt\\optimizer\\optimizer.py:517: UserWarning: The objective has been evaluated at point [1, 1] before, using random point [-1, 3]\n",
      "  warnings.warn(\n"
     ]
    },
    {
     "name": "stdout",
     "output_type": "stream",
     "text": [
      "Epoch 0, Loss: 0.4963\n",
      "Epoch 1, Loss: 0.2296\n",
      "Epoch 2, Loss: 0.0711\n",
      "Epoch 3, Loss: 0.0218\n",
      "Epoch 4, Loss: 0.0094\n",
      "Epoch 5, Loss: 0.0055\n",
      "Test objective (-CE) for theta=[-1, 3]: -0.0043\n",
      "Iteration No: 92 ended. Search finished for the next optimal point.\n",
      "Time taken: 6.1505\n",
      "Function value obtained: -0.0043\n",
      "Current minimum: -0.6945\n",
      "Iteration No: 93 started. Searching for the next optimal point.\n"
     ]
    },
    {
     "name": "stderr",
     "output_type": "stream",
     "text": [
      "c:\\Users\\vitil\\AppData\\Local\\Programs\\Python\\Python310\\lib\\site-packages\\skopt\\optimizer\\optimizer.py:517: UserWarning: The objective has been evaluated at point [1, 1] before, using random point [-2, -1]\n",
      "  warnings.warn(\n"
     ]
    },
    {
     "name": "stdout",
     "output_type": "stream",
     "text": [
      "Epoch 0, Loss: 0.5703\n",
      "Epoch 1, Loss: 0.2826\n",
      "Epoch 2, Loss: 0.1320\n",
      "Epoch 3, Loss: 0.0544\n",
      "Epoch 4, Loss: 0.0236\n",
      "Epoch 5, Loss: 0.0125\n",
      "Test objective (-CE) for theta=[-2, -1]: -0.0097\n",
      "Iteration No: 93 ended. Search finished for the next optimal point.\n",
      "Time taken: 6.4529\n",
      "Function value obtained: -0.0097\n",
      "Current minimum: -0.6945\n",
      "Iteration No: 94 started. Searching for the next optimal point.\n"
     ]
    },
    {
     "name": "stderr",
     "output_type": "stream",
     "text": [
      "c:\\Users\\vitil\\AppData\\Local\\Programs\\Python\\Python310\\lib\\site-packages\\skopt\\optimizer\\optimizer.py:517: UserWarning: The objective has been evaluated at point [1, 1] before, using random point [2, -5]\n",
      "  warnings.warn(\n"
     ]
    },
    {
     "name": "stdout",
     "output_type": "stream",
     "text": [
      "Epoch 0, Loss: 0.6442\n",
      "Epoch 1, Loss: 0.5704\n",
      "Epoch 2, Loss: 0.4669\n",
      "Epoch 3, Loss: 0.3512\n",
      "Epoch 4, Loss: 0.2581\n",
      "Epoch 5, Loss: 0.1932\n",
      "Test objective (-CE) for theta=[2, -5]: -0.1691\n",
      "Iteration No: 94 ended. Search finished for the next optimal point.\n",
      "Time taken: 6.1302\n",
      "Function value obtained: -0.1691\n",
      "Current minimum: -0.6945\n",
      "Iteration No: 95 started. Searching for the next optimal point.\n"
     ]
    },
    {
     "name": "stderr",
     "output_type": "stream",
     "text": [
      "c:\\Users\\vitil\\AppData\\Local\\Programs\\Python\\Python310\\lib\\site-packages\\skopt\\optimizer\\optimizer.py:517: UserWarning: The objective has been evaluated at point [1, 1] before, using random point [9, 7]\n",
      "  warnings.warn(\n"
     ]
    },
    {
     "name": "stdout",
     "output_type": "stream",
     "text": [
      "Epoch 0, Loss: 0.4876\n",
      "Epoch 1, Loss: 0.3028\n",
      "Epoch 2, Loss: 0.1338\n",
      "Epoch 3, Loss: 0.0437\n",
      "Epoch 4, Loss: 0.0164\n",
      "Epoch 5, Loss: 0.0079\n",
      "Test objective (-CE) for theta=[9, 7]: -0.0058\n",
      "Iteration No: 95 ended. Search finished for the next optimal point.\n",
      "Time taken: 6.0862\n",
      "Function value obtained: -0.0058\n",
      "Current minimum: -0.6945\n",
      "Iteration No: 96 started. Searching for the next optimal point.\n"
     ]
    },
    {
     "name": "stderr",
     "output_type": "stream",
     "text": [
      "c:\\Users\\vitil\\AppData\\Local\\Programs\\Python\\Python310\\lib\\site-packages\\skopt\\optimizer\\optimizer.py:517: UserWarning: The objective has been evaluated at point [1, 1] before, using random point [-7, -1]\n",
      "  warnings.warn(\n"
     ]
    },
    {
     "name": "stdout",
     "output_type": "stream",
     "text": [
      "Epoch 0, Loss: 0.3644\n",
      "Epoch 1, Loss: 0.1097\n",
      "Epoch 2, Loss: 0.0280\n",
      "Epoch 3, Loss: 0.0086\n",
      "Epoch 4, Loss: 0.0042\n",
      "Epoch 5, Loss: 0.0027\n",
      "Test objective (-CE) for theta=[-7, -1]: -0.0023\n",
      "Iteration No: 96 ended. Search finished for the next optimal point.\n",
      "Time taken: 6.0768\n",
      "Function value obtained: -0.0023\n",
      "Current minimum: -0.6945\n",
      "Iteration No: 97 started. Searching for the next optimal point.\n"
     ]
    },
    {
     "name": "stderr",
     "output_type": "stream",
     "text": [
      "c:\\Users\\vitil\\AppData\\Local\\Programs\\Python\\Python310\\lib\\site-packages\\skopt\\optimizer\\optimizer.py:517: UserWarning: The objective has been evaluated at point [1, 1] before, using random point [-10, 1]\n",
      "  warnings.warn(\n"
     ]
    },
    {
     "name": "stdout",
     "output_type": "stream",
     "text": [
      "Epoch 0, Loss: 0.5084\n",
      "Epoch 1, Loss: 0.1355\n",
      "Epoch 2, Loss: 0.0315\n",
      "Epoch 3, Loss: 0.0093\n",
      "Epoch 4, Loss: 0.0043\n",
      "Epoch 5, Loss: 0.0027\n",
      "Test objective (-CE) for theta=[-10, 1]: -0.0023\n",
      "Iteration No: 97 ended. Search finished for the next optimal point.\n",
      "Time taken: 6.1196\n",
      "Function value obtained: -0.0023\n",
      "Current minimum: -0.6945\n",
      "Iteration No: 98 started. Searching for the next optimal point.\n"
     ]
    },
    {
     "name": "stderr",
     "output_type": "stream",
     "text": [
      "c:\\Users\\vitil\\AppData\\Local\\Programs\\Python\\Python310\\lib\\site-packages\\skopt\\optimizer\\optimizer.py:517: UserWarning: The objective has been evaluated at point [1, 1] before, using random point [-5, -8]\n",
      "  warnings.warn(\n"
     ]
    },
    {
     "name": "stdout",
     "output_type": "stream",
     "text": [
      "Epoch 0, Loss: 0.5219\n",
      "Epoch 1, Loss: 0.1809\n",
      "Epoch 2, Loss: 0.0685\n",
      "Epoch 3, Loss: 0.0230\n",
      "Epoch 4, Loss: 0.0098\n",
      "Epoch 5, Loss: 0.0056\n",
      "Test objective (-CE) for theta=[-5, -8]: -0.0046\n",
      "Iteration No: 98 ended. Search finished for the next optimal point.\n",
      "Time taken: 6.1376\n",
      "Function value obtained: -0.0046\n",
      "Current minimum: -0.6945\n",
      "Iteration No: 99 started. Searching for the next optimal point.\n"
     ]
    },
    {
     "name": "stderr",
     "output_type": "stream",
     "text": [
      "c:\\Users\\vitil\\AppData\\Local\\Programs\\Python\\Python310\\lib\\site-packages\\skopt\\optimizer\\optimizer.py:517: UserWarning: The objective has been evaluated at point [1, 1] before, using random point [9, -8]\n",
      "  warnings.warn(\n"
     ]
    },
    {
     "name": "stdout",
     "output_type": "stream",
     "text": [
      "Epoch 0, Loss: 0.4926\n",
      "Epoch 1, Loss: 0.3137\n",
      "Epoch 2, Loss: 0.1508\n",
      "Epoch 3, Loss: 0.0552\n",
      "Epoch 4, Loss: 0.0203\n",
      "Epoch 5, Loss: 0.0093\n",
      "Test objective (-CE) for theta=[9, -8]: -0.0068\n",
      "Iteration No: 99 ended. Search finished for the next optimal point.\n",
      "Time taken: 6.1999\n",
      "Function value obtained: -0.0068\n",
      "Current minimum: -0.6945\n",
      "Iteration No: 100 started. Searching for the next optimal point.\n"
     ]
    },
    {
     "name": "stderr",
     "output_type": "stream",
     "text": [
      "c:\\Users\\vitil\\AppData\\Local\\Programs\\Python\\Python310\\lib\\site-packages\\skopt\\optimizer\\optimizer.py:517: UserWarning: The objective has been evaluated at point [1, 1] before, using random point [9, 6]\n",
      "  warnings.warn(\n"
     ]
    },
    {
     "name": "stdout",
     "output_type": "stream",
     "text": [
      "Epoch 0, Loss: 0.5319\n",
      "Epoch 1, Loss: 0.2841\n",
      "Epoch 2, Loss: 0.1215\n",
      "Epoch 3, Loss: 0.0380\n",
      "Epoch 4, Loss: 0.0140\n",
      "Epoch 5, Loss: 0.0060\n",
      "Test objective (-CE) for theta=[9, 6]: -0.0041\n",
      "Iteration No: 100 ended. Search finished for the next optimal point.\n",
      "Time taken: 6.1480\n",
      "Function value obtained: -0.0041\n",
      "Current minimum: -0.6945\n",
      "Iteration No: 101 started. Searching for the next optimal point.\n"
     ]
    },
    {
     "name": "stderr",
     "output_type": "stream",
     "text": [
      "c:\\Users\\vitil\\AppData\\Local\\Programs\\Python\\Python310\\lib\\site-packages\\skopt\\optimizer\\optimizer.py:517: UserWarning: The objective has been evaluated at point [1, 1] before, using random point [-10, -10]\n",
      "  warnings.warn(\n"
     ]
    },
    {
     "name": "stdout",
     "output_type": "stream",
     "text": [
      "Epoch 0, Loss: 1.3748\n",
      "Epoch 1, Loss: 0.4284\n",
      "Epoch 2, Loss: 0.0869\n",
      "Epoch 3, Loss: 0.0128\n",
      "Epoch 4, Loss: 0.0039\n",
      "Epoch 5, Loss: 0.0022\n",
      "Test objective (-CE) for theta=[-10, -10]: -0.0017\n",
      "Iteration No: 101 ended. Search finished for the next optimal point.\n",
      "Time taken: 6.1355\n",
      "Function value obtained: -0.0017\n",
      "Current minimum: -0.6945\n",
      "Iteration No: 102 started. Searching for the next optimal point.\n"
     ]
    },
    {
     "name": "stderr",
     "output_type": "stream",
     "text": [
      "c:\\Users\\vitil\\AppData\\Local\\Programs\\Python\\Python310\\lib\\site-packages\\skopt\\optimizer\\optimizer.py:517: UserWarning: The objective has been evaluated at point [1, 1] before, using random point [4, -3]\n",
      "  warnings.warn(\n"
     ]
    },
    {
     "name": "stdout",
     "output_type": "stream",
     "text": [
      "Epoch 0, Loss: 0.5931\n",
      "Epoch 1, Loss: 0.4196\n",
      "Epoch 2, Loss: 0.2451\n",
      "Epoch 3, Loss: 0.1075\n",
      "Epoch 4, Loss: 0.0449\n",
      "Epoch 5, Loss: 0.0219\n",
      "Test objective (-CE) for theta=[4, -3]: -0.0154\n",
      "Iteration No: 102 ended. Search finished for the next optimal point.\n",
      "Time taken: 6.1840\n",
      "Function value obtained: -0.0154\n",
      "Current minimum: -0.6945\n",
      "Iteration No: 103 started. Searching for the next optimal point.\n"
     ]
    },
    {
     "name": "stderr",
     "output_type": "stream",
     "text": [
      "c:\\Users\\vitil\\AppData\\Local\\Programs\\Python\\Python310\\lib\\site-packages\\skopt\\optimizer\\optimizer.py:517: UserWarning: The objective has been evaluated at point [1, 1] before, using random point [-8, 9]\n",
      "  warnings.warn(\n"
     ]
    },
    {
     "name": "stdout",
     "output_type": "stream",
     "text": [
      "Epoch 0, Loss: 0.2415\n",
      "Epoch 1, Loss: 0.0591\n",
      "Epoch 2, Loss: 0.0136\n",
      "Epoch 3, Loss: 0.0047\n",
      "Epoch 4, Loss: 0.0025\n",
      "Epoch 5, Loss: 0.0018\n",
      "Test objective (-CE) for theta=[-8, 9]: -0.0016\n",
      "Iteration No: 103 ended. Search finished for the next optimal point.\n",
      "Time taken: 6.1240\n",
      "Function value obtained: -0.0016\n",
      "Current minimum: -0.6945\n",
      "Iteration No: 104 started. Searching for the next optimal point.\n"
     ]
    },
    {
     "name": "stderr",
     "output_type": "stream",
     "text": [
      "c:\\Users\\vitil\\AppData\\Local\\Programs\\Python\\Python310\\lib\\site-packages\\skopt\\optimizer\\optimizer.py:517: UserWarning: The objective has been evaluated at point [1, 1] before, using random point [-6, 8]\n",
      "  warnings.warn(\n"
     ]
    },
    {
     "name": "stdout",
     "output_type": "stream",
     "text": [
      "Epoch 0, Loss: 0.3397\n",
      "Epoch 1, Loss: 0.0777\n",
      "Epoch 2, Loss: 0.0169\n",
      "Epoch 3, Loss: 0.0057\n",
      "Epoch 4, Loss: 0.0031\n",
      "Epoch 5, Loss: 0.0022\n",
      "Test objective (-CE) for theta=[-6, 8]: -0.0018\n",
      "Iteration No: 104 ended. Search finished for the next optimal point.\n",
      "Time taken: 6.2645\n",
      "Function value obtained: -0.0018\n",
      "Current minimum: -0.6945\n",
      "Iteration No: 105 started. Searching for the next optimal point.\n"
     ]
    },
    {
     "name": "stderr",
     "output_type": "stream",
     "text": [
      "c:\\Users\\vitil\\AppData\\Local\\Programs\\Python\\Python310\\lib\\site-packages\\skopt\\optimizer\\optimizer.py:517: UserWarning: The objective has been evaluated at point [1, 1] before, using random point [-2, 2]\n",
      "  warnings.warn(\n"
     ]
    },
    {
     "name": "stdout",
     "output_type": "stream",
     "text": [
      "Epoch 0, Loss: 0.4736\n",
      "Epoch 1, Loss: 0.1905\n",
      "Epoch 2, Loss: 0.0570\n",
      "Epoch 3, Loss: 0.0172\n",
      "Epoch 4, Loss: 0.0071\n",
      "Epoch 5, Loss: 0.0042\n",
      "Test objective (-CE) for theta=[-2, 2]: -0.0032\n",
      "Iteration No: 105 ended. Search finished for the next optimal point.\n",
      "Time taken: 6.5842\n",
      "Function value obtained: -0.0032\n",
      "Current minimum: -0.6945\n",
      "Iteration No: 106 started. Searching for the next optimal point.\n"
     ]
    },
    {
     "name": "stderr",
     "output_type": "stream",
     "text": [
      "c:\\Users\\vitil\\AppData\\Local\\Programs\\Python\\Python310\\lib\\site-packages\\skopt\\optimizer\\optimizer.py:517: UserWarning: The objective has been evaluated at point [1, 1] before, using random point [7, -8]\n",
      "  warnings.warn(\n"
     ]
    },
    {
     "name": "stdout",
     "output_type": "stream",
     "text": [
      "Epoch 0, Loss: 0.4496\n",
      "Epoch 1, Loss: 0.2819\n",
      "Epoch 2, Loss: 0.1364\n",
      "Epoch 3, Loss: 0.0493\n",
      "Epoch 4, Loss: 0.0196\n",
      "Epoch 5, Loss: 0.0099\n",
      "Test objective (-CE) for theta=[7, -8]: -0.0073\n",
      "Iteration No: 106 ended. Search finished for the next optimal point.\n",
      "Time taken: 6.1912\n",
      "Function value obtained: -0.0073\n",
      "Current minimum: -0.6945\n",
      "Iteration No: 107 started. Searching for the next optimal point.\n"
     ]
    },
    {
     "name": "stderr",
     "output_type": "stream",
     "text": [
      "c:\\Users\\vitil\\AppData\\Local\\Programs\\Python\\Python310\\lib\\site-packages\\skopt\\optimizer\\optimizer.py:517: UserWarning: The objective has been evaluated at point [1, 1] before, using random point [-3, -7]\n",
      "  warnings.warn(\n"
     ]
    },
    {
     "name": "stdout",
     "output_type": "stream",
     "text": [
      "Epoch 0, Loss: 0.5240\n",
      "Epoch 1, Loss: 0.2551\n",
      "Epoch 2, Loss: 0.0853\n",
      "Epoch 3, Loss: 0.0252\n",
      "Epoch 4, Loss: 0.0094\n",
      "Epoch 5, Loss: 0.0050\n",
      "Test objective (-CE) for theta=[-3, -7]: -0.0036\n",
      "Iteration No: 107 ended. Search finished for the next optimal point.\n",
      "Time taken: 6.3676\n",
      "Function value obtained: -0.0036\n",
      "Current minimum: -0.6945\n",
      "Iteration No: 108 started. Searching for the next optimal point.\n"
     ]
    },
    {
     "name": "stderr",
     "output_type": "stream",
     "text": [
      "c:\\Users\\vitil\\AppData\\Local\\Programs\\Python\\Python310\\lib\\site-packages\\skopt\\optimizer\\optimizer.py:517: UserWarning: The objective has been evaluated at point [1, 1] before, using random point [9, 1]\n",
      "  warnings.warn(\n"
     ]
    },
    {
     "name": "stdout",
     "output_type": "stream",
     "text": [
      "Epoch 0, Loss: 0.5467\n",
      "Epoch 1, Loss: 0.3541\n",
      "Epoch 2, Loss: 0.2126\n",
      "Epoch 3, Loss: 0.1057\n",
      "Epoch 4, Loss: 0.0469\n",
      "Epoch 5, Loss: 0.0216\n",
      "Test objective (-CE) for theta=[9, 1]: -0.0142\n",
      "Iteration No: 108 ended. Search finished for the next optimal point.\n",
      "Time taken: 6.3027\n",
      "Function value obtained: -0.0142\n",
      "Current minimum: -0.6945\n",
      "Iteration No: 109 started. Searching for the next optimal point.\n"
     ]
    },
    {
     "name": "stderr",
     "output_type": "stream",
     "text": [
      "c:\\Users\\vitil\\AppData\\Local\\Programs\\Python\\Python310\\lib\\site-packages\\skopt\\optimizer\\optimizer.py:517: UserWarning: The objective has been evaluated at point [1, 2] before, using random point [-1, 2]\n",
      "  warnings.warn(\n"
     ]
    },
    {
     "name": "stdout",
     "output_type": "stream",
     "text": [
      "Epoch 0, Loss: 0.5268\n",
      "Epoch 1, Loss: 0.2470\n",
      "Epoch 2, Loss: 0.0785\n",
      "Epoch 3, Loss: 0.0241\n",
      "Epoch 4, Loss: 0.0102\n",
      "Epoch 5, Loss: 0.0060\n",
      "Test objective (-CE) for theta=[-1, 2]: -0.0045\n",
      "Iteration No: 109 ended. Search finished for the next optimal point.\n",
      "Time taken: 6.2200\n",
      "Function value obtained: -0.0045\n",
      "Current minimum: -0.6945\n",
      "Iteration No: 110 started. Searching for the next optimal point.\n"
     ]
    },
    {
     "name": "stderr",
     "output_type": "stream",
     "text": [
      "c:\\Users\\vitil\\AppData\\Local\\Programs\\Python\\Python310\\lib\\site-packages\\skopt\\optimizer\\optimizer.py:517: UserWarning: The objective has been evaluated at point [1, 2] before, using random point [-9, -7]\n",
      "  warnings.warn(\n"
     ]
    },
    {
     "name": "stdout",
     "output_type": "stream",
     "text": [
      "Epoch 0, Loss: 0.2485\n",
      "Epoch 1, Loss: 0.0922\n",
      "Epoch 2, Loss: 0.0283\n",
      "Epoch 3, Loss: 0.0091\n",
      "Epoch 4, Loss: 0.0040\n",
      "Epoch 5, Loss: 0.0024\n",
      "Test objective (-CE) for theta=[-9, -7]: -0.0020\n",
      "Iteration No: 110 ended. Search finished for the next optimal point.\n",
      "Time taken: 6.1904\n",
      "Function value obtained: -0.0020\n",
      "Current minimum: -0.6945\n",
      "Iteration No: 111 started. Searching for the next optimal point.\n"
     ]
    },
    {
     "name": "stderr",
     "output_type": "stream",
     "text": [
      "c:\\Users\\vitil\\AppData\\Local\\Programs\\Python\\Python310\\lib\\site-packages\\skopt\\optimizer\\optimizer.py:517: UserWarning: The objective has been evaluated at point [1, 2] before, using random point [8, 9]\n",
      "  warnings.warn(\n"
     ]
    },
    {
     "name": "stdout",
     "output_type": "stream",
     "text": [
      "Epoch 0, Loss: 0.4761\n",
      "Epoch 1, Loss: 0.3319\n",
      "Epoch 2, Loss: 0.1675\n",
      "Epoch 3, Loss: 0.0610\n",
      "Epoch 4, Loss: 0.0209\n",
      "Epoch 5, Loss: 0.0096\n",
      "Test objective (-CE) for theta=[8, 9]: -0.0068\n",
      "Iteration No: 111 ended. Search finished for the next optimal point.\n",
      "Time taken: 6.1342\n",
      "Function value obtained: -0.0068\n",
      "Current minimum: -0.6945\n",
      "Iteration No: 112 started. Searching for the next optimal point.\n"
     ]
    },
    {
     "name": "stderr",
     "output_type": "stream",
     "text": [
      "c:\\Users\\vitil\\AppData\\Local\\Programs\\Python\\Python310\\lib\\site-packages\\skopt\\optimizer\\optimizer.py:517: UserWarning: The objective has been evaluated at point [1, 1] before, using random point [4, 9]\n",
      "  warnings.warn(\n"
     ]
    },
    {
     "name": "stdout",
     "output_type": "stream",
     "text": [
      "Epoch 0, Loss: 0.5356\n",
      "Epoch 1, Loss: 0.3896\n",
      "Epoch 2, Loss: 0.2609\n",
      "Epoch 3, Loss: 0.1489\n",
      "Epoch 4, Loss: 0.0791\n",
      "Epoch 5, Loss: 0.0396\n",
      "Test objective (-CE) for theta=[4, 9]: -0.0260\n",
      "Iteration No: 112 ended. Search finished for the next optimal point.\n",
      "Time taken: 6.1709\n",
      "Function value obtained: -0.0260\n",
      "Current minimum: -0.6945\n",
      "Iteration No: 113 started. Searching for the next optimal point.\n"
     ]
    },
    {
     "name": "stderr",
     "output_type": "stream",
     "text": [
      "c:\\Users\\vitil\\AppData\\Local\\Programs\\Python\\Python310\\lib\\site-packages\\skopt\\optimizer\\optimizer.py:517: UserWarning: The objective has been evaluated at point [1, 1] before, using random point [-2, 7]\n",
      "  warnings.warn(\n"
     ]
    },
    {
     "name": "stdout",
     "output_type": "stream",
     "text": [
      "Epoch 0, Loss: 0.5669\n",
      "Epoch 1, Loss: 0.2875\n",
      "Epoch 2, Loss: 0.1064\n",
      "Epoch 3, Loss: 0.0345\n",
      "Epoch 4, Loss: 0.0143\n",
      "Epoch 5, Loss: 0.0080\n",
      "Test objective (-CE) for theta=[-2, 7]: -0.0063\n",
      "Iteration No: 113 ended. Search finished for the next optimal point.\n",
      "Time taken: 6.3947\n",
      "Function value obtained: -0.0063\n",
      "Current minimum: -0.6945\n",
      "Iteration No: 114 started. Searching for the next optimal point.\n"
     ]
    },
    {
     "name": "stderr",
     "output_type": "stream",
     "text": [
      "c:\\Users\\vitil\\AppData\\Local\\Programs\\Python\\Python310\\lib\\site-packages\\skopt\\optimizer\\optimizer.py:517: UserWarning: The objective has been evaluated at point [1, 1] before, using random point [-5, -5]\n",
      "  warnings.warn(\n"
     ]
    },
    {
     "name": "stdout",
     "output_type": "stream",
     "text": [
      "Epoch 0, Loss: 0.5276\n",
      "Epoch 1, Loss: 0.1989\n",
      "Epoch 2, Loss: 0.0580\n",
      "Epoch 3, Loss: 0.0172\n",
      "Epoch 4, Loss: 0.0069\n",
      "Epoch 5, Loss: 0.0040\n",
      "Test objective (-CE) for theta=[-5, -5]: -0.0032\n",
      "Iteration No: 114 ended. Search finished for the next optimal point.\n",
      "Time taken: 6.3183\n",
      "Function value obtained: -0.0032\n",
      "Current minimum: -0.6945\n",
      "Iteration No: 115 started. Searching for the next optimal point.\n"
     ]
    },
    {
     "name": "stderr",
     "output_type": "stream",
     "text": [
      "c:\\Users\\vitil\\AppData\\Local\\Programs\\Python\\Python310\\lib\\site-packages\\skopt\\optimizer\\optimizer.py:517: UserWarning: The objective has been evaluated at point [1, 1] before, using random point [2, -9]\n",
      "  warnings.warn(\n"
     ]
    },
    {
     "name": "stdout",
     "output_type": "stream",
     "text": [
      "Epoch 0, Loss: 0.6495\n",
      "Epoch 1, Loss: 0.5895\n",
      "Epoch 2, Loss: 0.5097\n",
      "Epoch 3, Loss: 0.3983\n",
      "Epoch 4, Loss: 0.2890\n",
      "Epoch 5, Loss: 0.2026\n",
      "Test objective (-CE) for theta=[2, -9]: -0.1594\n",
      "Iteration No: 115 ended. Search finished for the next optimal point.\n",
      "Time taken: 6.1336\n",
      "Function value obtained: -0.1594\n",
      "Current minimum: -0.6945\n",
      "Iteration No: 116 started. Searching for the next optimal point.\n"
     ]
    },
    {
     "name": "stderr",
     "output_type": "stream",
     "text": [
      "c:\\Users\\vitil\\AppData\\Local\\Programs\\Python\\Python310\\lib\\site-packages\\skopt\\optimizer\\optimizer.py:517: UserWarning: The objective has been evaluated at point [1, 2] before, using random point [7, 2]\n",
      "  warnings.warn(\n"
     ]
    },
    {
     "name": "stdout",
     "output_type": "stream",
     "text": [
      "Epoch 0, Loss: 0.9128\n",
      "Epoch 1, Loss: 0.5679\n",
      "Epoch 2, Loss: 0.3707\n",
      "Epoch 3, Loss: 0.1933\n",
      "Epoch 4, Loss: 0.0783\n",
      "Epoch 5, Loss: 0.0276\n",
      "Test objective (-CE) for theta=[7, 2]: -0.0150\n",
      "Iteration No: 116 ended. Search finished for the next optimal point.\n",
      "Time taken: 6.1481\n",
      "Function value obtained: -0.0150\n",
      "Current minimum: -0.6945\n",
      "Iteration No: 117 started. Searching for the next optimal point.\n"
     ]
    },
    {
     "name": "stderr",
     "output_type": "stream",
     "text": [
      "c:\\Users\\vitil\\AppData\\Local\\Programs\\Python\\Python310\\lib\\site-packages\\skopt\\optimizer\\optimizer.py:517: UserWarning: The objective has been evaluated at point [1, 2] before, using random point [-9, 8]\n",
      "  warnings.warn(\n"
     ]
    },
    {
     "name": "stdout",
     "output_type": "stream",
     "text": [
      "Epoch 0, Loss: 0.4533\n",
      "Epoch 1, Loss: 0.1301\n",
      "Epoch 2, Loss: 0.0444\n",
      "Epoch 3, Loss: 0.0173\n",
      "Epoch 4, Loss: 0.0090\n",
      "Epoch 5, Loss: 0.0058\n",
      "Test objective (-CE) for theta=[-9, 8]: -0.0046\n",
      "Iteration No: 117 ended. Search finished for the next optimal point.\n",
      "Time taken: 6.1830\n",
      "Function value obtained: -0.0046\n",
      "Current minimum: -0.6945\n",
      "Iteration No: 118 started. Searching for the next optimal point.\n"
     ]
    },
    {
     "name": "stderr",
     "output_type": "stream",
     "text": [
      "c:\\Users\\vitil\\AppData\\Local\\Programs\\Python\\Python310\\lib\\site-packages\\skopt\\optimizer\\optimizer.py:517: UserWarning: The objective has been evaluated at point [1, 2] before, using random point [-8, -3]\n",
      "  warnings.warn(\n"
     ]
    },
    {
     "name": "stdout",
     "output_type": "stream",
     "text": [
      "Epoch 0, Loss: 0.3478\n",
      "Epoch 1, Loss: 0.1025\n",
      "Epoch 2, Loss: 0.0308\n",
      "Epoch 3, Loss: 0.0107\n",
      "Epoch 4, Loss: 0.0052\n",
      "Epoch 5, Loss: 0.0033\n",
      "Test objective (-CE) for theta=[-8, -3]: -0.0027\n",
      "Iteration No: 118 ended. Search finished for the next optimal point.\n",
      "Time taken: 7.6731\n",
      "Function value obtained: -0.0027\n",
      "Current minimum: -0.6945\n",
      "Iteration No: 119 started. Searching for the next optimal point.\n"
     ]
    },
    {
     "name": "stderr",
     "output_type": "stream",
     "text": [
      "c:\\Users\\vitil\\AppData\\Local\\Programs\\Python\\Python310\\lib\\site-packages\\skopt\\optimizer\\optimizer.py:517: UserWarning: The objective has been evaluated at point [1, 2] before, using random point [6, 0]\n",
      "  warnings.warn(\n"
     ]
    },
    {
     "name": "stdout",
     "output_type": "stream",
     "text": [
      "Epoch 0, Loss: 0.6392\n",
      "Epoch 1, Loss: 0.3792\n",
      "Epoch 2, Loss: 0.2088\n",
      "Epoch 3, Loss: 0.0970\n",
      "Epoch 4, Loss: 0.0428\n",
      "Epoch 5, Loss: 0.0205\n",
      "Test objective (-CE) for theta=[6, 0]: -0.0149\n",
      "Iteration No: 119 ended. Search finished for the next optimal point.\n",
      "Time taken: 7.2085\n",
      "Function value obtained: -0.0149\n",
      "Current minimum: -0.6945\n",
      "Iteration No: 120 started. Searching for the next optimal point.\n"
     ]
    },
    {
     "name": "stderr",
     "output_type": "stream",
     "text": [
      "c:\\Users\\vitil\\AppData\\Local\\Programs\\Python\\Python310\\lib\\site-packages\\skopt\\optimizer\\optimizer.py:517: UserWarning: The objective has been evaluated at point [1, 2] before, using random point [-7, -7]\n",
      "  warnings.warn(\n"
     ]
    },
    {
     "name": "stdout",
     "output_type": "stream",
     "text": [
      "Epoch 0, Loss: 0.4107\n",
      "Epoch 1, Loss: 0.1467\n",
      "Epoch 2, Loss: 0.0460\n",
      "Epoch 3, Loss: 0.0142\n",
      "Epoch 4, Loss: 0.0059\n",
      "Epoch 5, Loss: 0.0035\n",
      "Test objective (-CE) for theta=[-7, -7]: -0.0029\n",
      "Iteration No: 120 ended. Search finished for the next optimal point.\n",
      "Time taken: 8.2336\n",
      "Function value obtained: -0.0029\n",
      "Current minimum: -0.6945\n",
      "Iteration No: 121 started. Searching for the next optimal point.\n"
     ]
    },
    {
     "name": "stderr",
     "output_type": "stream",
     "text": [
      "c:\\Users\\vitil\\AppData\\Local\\Programs\\Python\\Python310\\lib\\site-packages\\skopt\\optimizer\\optimizer.py:517: UserWarning: The objective has been evaluated at point [1, 2] before, using random point [-2, -10]\n",
      "  warnings.warn(\n"
     ]
    },
    {
     "name": "stdout",
     "output_type": "stream",
     "text": [
      "Epoch 0, Loss: 0.3946\n",
      "Epoch 1, Loss: 0.1184\n",
      "Epoch 2, Loss: 0.0312\n",
      "Epoch 3, Loss: 0.0120\n",
      "Epoch 4, Loss: 0.0065\n",
      "Epoch 5, Loss: 0.0046\n",
      "Test objective (-CE) for theta=[-2, -10]: -0.0043\n",
      "Iteration No: 121 ended. Search finished for the next optimal point.\n",
      "Time taken: 9.1381\n",
      "Function value obtained: -0.0043\n",
      "Current minimum: -0.6945\n",
      "Iteration No: 122 started. Searching for the next optimal point.\n"
     ]
    },
    {
     "name": "stderr",
     "output_type": "stream",
     "text": [
      "c:\\Users\\vitil\\AppData\\Local\\Programs\\Python\\Python310\\lib\\site-packages\\skopt\\optimizer\\optimizer.py:517: UserWarning: The objective has been evaluated at point [1, 2] before, using random point [-2, -7]\n",
      "  warnings.warn(\n"
     ]
    },
    {
     "name": "stdout",
     "output_type": "stream",
     "text": [
      "Epoch 0, Loss: 0.4904\n",
      "Epoch 1, Loss: 0.1935\n",
      "Epoch 2, Loss: 0.0530\n",
      "Epoch 3, Loss: 0.0158\n",
      "Epoch 4, Loss: 0.0071\n",
      "Epoch 5, Loss: 0.0044\n",
      "Test objective (-CE) for theta=[-2, -7]: -0.0035\n",
      "Iteration No: 122 ended. Search finished for the next optimal point.\n",
      "Time taken: 8.3946\n",
      "Function value obtained: -0.0035\n",
      "Current minimum: -0.6945\n",
      "Iteration No: 123 started. Searching for the next optimal point.\n"
     ]
    },
    {
     "name": "stderr",
     "output_type": "stream",
     "text": [
      "c:\\Users\\vitil\\AppData\\Local\\Programs\\Python\\Python310\\lib\\site-packages\\skopt\\optimizer\\optimizer.py:517: UserWarning: The objective has been evaluated at point [1, 2] before, using random point [-2, -4]\n",
      "  warnings.warn(\n"
     ]
    },
    {
     "name": "stdout",
     "output_type": "stream",
     "text": [
      "Epoch 0, Loss: 0.3655\n",
      "Epoch 1, Loss: 0.1230\n",
      "Epoch 2, Loss: 0.0284\n",
      "Epoch 3, Loss: 0.0081\n",
      "Epoch 4, Loss: 0.0037\n",
      "Epoch 5, Loss: 0.0024\n",
      "Test objective (-CE) for theta=[-2, -4]: -0.0019\n",
      "Iteration No: 123 ended. Search finished for the next optimal point.\n",
      "Time taken: 8.0950\n",
      "Function value obtained: -0.0019\n",
      "Current minimum: -0.6945\n",
      "Iteration No: 124 started. Searching for the next optimal point.\n"
     ]
    },
    {
     "name": "stderr",
     "output_type": "stream",
     "text": [
      "c:\\Users\\vitil\\AppData\\Local\\Programs\\Python\\Python310\\lib\\site-packages\\skopt\\optimizer\\optimizer.py:517: UserWarning: The objective has been evaluated at point [1, 2] before, using random point [3, 9]\n",
      "  warnings.warn(\n"
     ]
    },
    {
     "name": "stdout",
     "output_type": "stream",
     "text": [
      "Epoch 0, Loss: 0.5570\n",
      "Epoch 1, Loss: 0.3862\n",
      "Epoch 2, Loss: 0.2199\n",
      "Epoch 3, Loss: 0.1051\n",
      "Epoch 4, Loss: 0.0510\n",
      "Epoch 5, Loss: 0.0277\n",
      "Test objective (-CE) for theta=[3, 9]: -0.0232\n",
      "Iteration No: 124 ended. Search finished for the next optimal point.\n",
      "Time taken: 7.5889\n",
      "Function value obtained: -0.0232\n",
      "Current minimum: -0.6945\n",
      "Iteration No: 125 started. Searching for the next optimal point.\n"
     ]
    },
    {
     "name": "stderr",
     "output_type": "stream",
     "text": [
      "c:\\Users\\vitil\\AppData\\Local\\Programs\\Python\\Python310\\lib\\site-packages\\skopt\\optimizer\\optimizer.py:517: UserWarning: The objective has been evaluated at point [1, 2] before, using random point [1, 10]\n",
      "  warnings.warn(\n"
     ]
    },
    {
     "name": "stdout",
     "output_type": "stream",
     "text": [
      "Epoch 0, Loss: 0.6828\n",
      "Epoch 1, Loss: 0.6250\n",
      "Epoch 2, Loss: 0.5307\n",
      "Epoch 3, Loss: 0.4027\n",
      "Epoch 4, Loss: 0.2778\n",
      "Epoch 5, Loss: 0.1832\n",
      "Test objective (-CE) for theta=[1, 10]: -0.1418\n",
      "Iteration No: 125 ended. Search finished for the next optimal point.\n",
      "Time taken: 8.6239\n",
      "Function value obtained: -0.1418\n",
      "Current minimum: -0.6945\n",
      "Iteration No: 126 started. Searching for the next optimal point.\n"
     ]
    },
    {
     "name": "stderr",
     "output_type": "stream",
     "text": [
      "c:\\Users\\vitil\\AppData\\Local\\Programs\\Python\\Python310\\lib\\site-packages\\skopt\\optimizer\\optimizer.py:517: UserWarning: The objective has been evaluated at point [1, 1] before, using random point [-1, -3]\n",
      "  warnings.warn(\n"
     ]
    },
    {
     "name": "stdout",
     "output_type": "stream",
     "text": [
      "Epoch 0, Loss: 0.5796\n",
      "Epoch 1, Loss: 0.2924\n",
      "Epoch 2, Loss: 0.1031\n",
      "Epoch 3, Loss: 0.0316\n",
      "Epoch 4, Loss: 0.0128\n",
      "Epoch 5, Loss: 0.0072\n",
      "Test objective (-CE) for theta=[-1, -3]: -0.0058\n",
      "Iteration No: 126 ended. Search finished for the next optimal point.\n",
      "Time taken: 7.8599\n",
      "Function value obtained: -0.0058\n",
      "Current minimum: -0.6945\n",
      "Iteration No: 127 started. Searching for the next optimal point.\n"
     ]
    },
    {
     "name": "stderr",
     "output_type": "stream",
     "text": [
      "c:\\Users\\vitil\\AppData\\Local\\Programs\\Python\\Python310\\lib\\site-packages\\skopt\\optimizer\\optimizer.py:517: UserWarning: The objective has been evaluated at point [1, 1] before, using random point [-7, 0]\n",
      "  warnings.warn(\n"
     ]
    },
    {
     "name": "stdout",
     "output_type": "stream",
     "text": [
      "Epoch 0, Loss: 0.3926\n",
      "Epoch 1, Loss: 0.1429\n",
      "Epoch 2, Loss: 0.0457\n",
      "Epoch 3, Loss: 0.0141\n",
      "Epoch 4, Loss: 0.0059\n",
      "Epoch 5, Loss: 0.0034\n",
      "Test objective (-CE) for theta=[-7, 0]: -0.0027\n",
      "Iteration No: 127 ended. Search finished for the next optimal point.\n",
      "Time taken: 8.5852\n",
      "Function value obtained: -0.0027\n",
      "Current minimum: -0.6945\n",
      "Iteration No: 128 started. Searching for the next optimal point.\n"
     ]
    },
    {
     "name": "stderr",
     "output_type": "stream",
     "text": [
      "c:\\Users\\vitil\\AppData\\Local\\Programs\\Python\\Python310\\lib\\site-packages\\skopt\\optimizer\\optimizer.py:517: UserWarning: The objective has been evaluated at point [1, 1] before, using random point [-4, 5]\n",
      "  warnings.warn(\n"
     ]
    },
    {
     "name": "stdout",
     "output_type": "stream",
     "text": [
      "Epoch 0, Loss: 0.5010\n",
      "Epoch 1, Loss: 0.1445\n",
      "Epoch 2, Loss: 0.0375\n",
      "Epoch 3, Loss: 0.0123\n",
      "Epoch 4, Loss: 0.0061\n",
      "Epoch 5, Loss: 0.0040\n",
      "Test objective (-CE) for theta=[-4, 5]: -0.0034\n",
      "Iteration No: 128 ended. Search finished for the next optimal point.\n",
      "Time taken: 6.4494\n",
      "Function value obtained: -0.0034\n",
      "Current minimum: -0.6945\n",
      "Iteration No: 129 started. Searching for the next optimal point.\n"
     ]
    },
    {
     "name": "stderr",
     "output_type": "stream",
     "text": [
      "c:\\Users\\vitil\\AppData\\Local\\Programs\\Python\\Python310\\lib\\site-packages\\skopt\\optimizer\\optimizer.py:517: UserWarning: The objective has been evaluated at point [1, 1] before, using random point [5, 9]\n",
      "  warnings.warn(\n"
     ]
    },
    {
     "name": "stdout",
     "output_type": "stream",
     "text": [
      "Epoch 0, Loss: 0.5937\n",
      "Epoch 1, Loss: 0.4380\n",
      "Epoch 2, Loss: 0.2908\n",
      "Epoch 3, Loss: 0.1490\n",
      "Epoch 4, Loss: 0.0691\n",
      "Epoch 5, Loss: 0.0335\n",
      "Test objective (-CE) for theta=[5, 9]: -0.0239\n",
      "Iteration No: 129 ended. Search finished for the next optimal point.\n",
      "Time taken: 6.2673\n",
      "Function value obtained: -0.0239\n",
      "Current minimum: -0.6945\n",
      "Iteration No: 130 started. Searching for the next optimal point.\n"
     ]
    },
    {
     "name": "stderr",
     "output_type": "stream",
     "text": [
      "c:\\Users\\vitil\\AppData\\Local\\Programs\\Python\\Python310\\lib\\site-packages\\skopt\\optimizer\\optimizer.py:517: UserWarning: The objective has been evaluated at point [1, 1] before, using random point [9, -9]\n",
      "  warnings.warn(\n"
     ]
    },
    {
     "name": "stdout",
     "output_type": "stream",
     "text": [
      "Epoch 0, Loss: 0.4506\n",
      "Epoch 1, Loss: 0.2876\n",
      "Epoch 2, Loss: 0.1223\n",
      "Epoch 3, Loss: 0.0331\n",
      "Epoch 4, Loss: 0.0098\n",
      "Epoch 5, Loss: 0.0042\n",
      "Test objective (-CE) for theta=[9, -9]: -0.0029\n",
      "Iteration No: 130 ended. Search finished for the next optimal point.\n",
      "Time taken: 6.7270\n",
      "Function value obtained: -0.0029\n",
      "Current minimum: -0.6945\n",
      "Iteration No: 131 started. Searching for the next optimal point.\n"
     ]
    },
    {
     "name": "stderr",
     "output_type": "stream",
     "text": [
      "c:\\Users\\vitil\\AppData\\Local\\Programs\\Python\\Python310\\lib\\site-packages\\skopt\\optimizer\\optimizer.py:517: UserWarning: The objective has been evaluated at point [1, 1] before, using random point [5, 8]\n",
      "  warnings.warn(\n"
     ]
    },
    {
     "name": "stdout",
     "output_type": "stream",
     "text": [
      "Epoch 0, Loss: 0.5060\n",
      "Epoch 1, Loss: 0.3339\n",
      "Epoch 2, Loss: 0.1594\n",
      "Epoch 3, Loss: 0.0525\n",
      "Epoch 4, Loss: 0.0190\n",
      "Epoch 5, Loss: 0.0092\n",
      "Test objective (-CE) for theta=[5, 8]: -0.0067\n",
      "Iteration No: 131 ended. Search finished for the next optimal point.\n",
      "Time taken: 6.4037\n",
      "Function value obtained: -0.0067\n",
      "Current minimum: -0.6945\n",
      "Iteration No: 132 started. Searching for the next optimal point.\n"
     ]
    },
    {
     "name": "stderr",
     "output_type": "stream",
     "text": [
      "c:\\Users\\vitil\\AppData\\Local\\Programs\\Python\\Python310\\lib\\site-packages\\skopt\\optimizer\\optimizer.py:517: UserWarning: The objective has been evaluated at point [1, 1] before, using random point [0, -4]\n",
      "  warnings.warn(\n"
     ]
    },
    {
     "name": "stdout",
     "output_type": "stream",
     "text": [
      "Epoch 0, Loss: 0.5747\n",
      "Epoch 1, Loss: 0.3698\n",
      "Epoch 2, Loss: 0.1920\n",
      "Epoch 3, Loss: 0.0878\n",
      "Epoch 4, Loss: 0.0443\n",
      "Epoch 5, Loss: 0.0268\n",
      "Test objective (-CE) for theta=[0, -4]: -0.0205\n",
      "Iteration No: 132 ended. Search finished for the next optimal point.\n",
      "Time taken: 6.4585\n",
      "Function value obtained: -0.0205\n",
      "Current minimum: -0.6945\n",
      "Iteration No: 133 started. Searching for the next optimal point.\n"
     ]
    },
    {
     "name": "stderr",
     "output_type": "stream",
     "text": [
      "c:\\Users\\vitil\\AppData\\Local\\Programs\\Python\\Python310\\lib\\site-packages\\skopt\\optimizer\\optimizer.py:517: UserWarning: The objective has been evaluated at point [1, 1] before, using random point [2, 1]\n",
      "  warnings.warn(\n"
     ]
    },
    {
     "name": "stdout",
     "output_type": "stream",
     "text": [
      "Epoch 0, Loss: 0.6463\n",
      "Epoch 1, Loss: 0.5638\n",
      "Epoch 2, Loss: 0.4671\n",
      "Epoch 3, Loss: 0.3370\n",
      "Epoch 4, Loss: 0.2085\n",
      "Epoch 5, Loss: 0.1156\n",
      "Test objective (-CE) for theta=[2, 1]: -0.0778\n",
      "Iteration No: 133 ended. Search finished for the next optimal point.\n",
      "Time taken: 6.4795\n",
      "Function value obtained: -0.0778\n",
      "Current minimum: -0.6945\n",
      "Iteration No: 134 started. Searching for the next optimal point.\n"
     ]
    },
    {
     "name": "stderr",
     "output_type": "stream",
     "text": [
      "c:\\Users\\vitil\\AppData\\Local\\Programs\\Python\\Python310\\lib\\site-packages\\skopt\\optimizer\\optimizer.py:517: UserWarning: The objective has been evaluated at point [1, 1] before, using random point [7, 7]\n",
      "  warnings.warn(\n"
     ]
    },
    {
     "name": "stdout",
     "output_type": "stream",
     "text": [
      "Epoch 0, Loss: 0.4585\n",
      "Epoch 1, Loss: 0.2817\n",
      "Epoch 2, Loss: 0.1232\n",
      "Epoch 3, Loss: 0.0393\n",
      "Epoch 4, Loss: 0.0149\n",
      "Epoch 5, Loss: 0.0076\n",
      "Test objective (-CE) for theta=[7, 7]: -0.0058\n",
      "Iteration No: 134 ended. Search finished for the next optimal point.\n",
      "Time taken: 6.6591\n",
      "Function value obtained: -0.0058\n",
      "Current minimum: -0.6945\n",
      "Iteration No: 135 started. Searching for the next optimal point.\n"
     ]
    },
    {
     "name": "stderr",
     "output_type": "stream",
     "text": [
      "c:\\Users\\vitil\\AppData\\Local\\Programs\\Python\\Python310\\lib\\site-packages\\skopt\\optimizer\\optimizer.py:517: UserWarning: The objective has been evaluated at point [1, 1] before, using random point [5, 3]\n",
      "  warnings.warn(\n"
     ]
    },
    {
     "name": "stdout",
     "output_type": "stream",
     "text": [
      "Epoch 0, Loss: 0.4941\n",
      "Epoch 1, Loss: 0.3419\n",
      "Epoch 2, Loss: 0.2029\n",
      "Epoch 3, Loss: 0.0933\n",
      "Epoch 4, Loss: 0.0391\n",
      "Epoch 5, Loss: 0.0171\n",
      "Test objective (-CE) for theta=[5, 3]: -0.0115\n",
      "Iteration No: 135 ended. Search finished for the next optimal point.\n",
      "Time taken: 6.5698\n",
      "Function value obtained: -0.0115\n",
      "Current minimum: -0.6945\n",
      "Iteration No: 136 started. Searching for the next optimal point.\n"
     ]
    },
    {
     "name": "stderr",
     "output_type": "stream",
     "text": [
      "c:\\Users\\vitil\\AppData\\Local\\Programs\\Python\\Python310\\lib\\site-packages\\skopt\\optimizer\\optimizer.py:517: UserWarning: The objective has been evaluated at point [1, 1] before, using random point [4, -9]\n",
      "  warnings.warn(\n"
     ]
    },
    {
     "name": "stdout",
     "output_type": "stream",
     "text": [
      "Epoch 0, Loss: 0.6199\n",
      "Epoch 1, Loss: 0.4606\n",
      "Epoch 2, Loss: 0.2977\n",
      "Epoch 3, Loss: 0.1565\n",
      "Epoch 4, Loss: 0.0733\n",
      "Epoch 5, Loss: 0.0380\n",
      "Test objective (-CE) for theta=[4, -9]: -0.0251\n",
      "Iteration No: 136 ended. Search finished for the next optimal point.\n",
      "Time taken: 6.5398\n",
      "Function value obtained: -0.0251\n",
      "Current minimum: -0.6945\n",
      "Iteration No: 137 started. Searching for the next optimal point.\n"
     ]
    },
    {
     "name": "stderr",
     "output_type": "stream",
     "text": [
      "c:\\Users\\vitil\\AppData\\Local\\Programs\\Python\\Python310\\lib\\site-packages\\skopt\\optimizer\\optimizer.py:517: UserWarning: The objective has been evaluated at point [1, 1] before, using random point [6, 9]\n",
      "  warnings.warn(\n"
     ]
    },
    {
     "name": "stdout",
     "output_type": "stream",
     "text": [
      "Epoch 0, Loss: 0.6743\n",
      "Epoch 1, Loss: 0.4088\n",
      "Epoch 2, Loss: 0.2530\n",
      "Epoch 3, Loss: 0.1449\n",
      "Epoch 4, Loss: 0.0758\n",
      "Epoch 5, Loss: 0.0412\n",
      "Test objective (-CE) for theta=[6, 9]: -0.0302\n",
      "Iteration No: 137 ended. Search finished for the next optimal point.\n",
      "Time taken: 6.5393\n",
      "Function value obtained: -0.0302\n",
      "Current minimum: -0.6945\n",
      "Iteration No: 138 started. Searching for the next optimal point.\n"
     ]
    },
    {
     "name": "stderr",
     "output_type": "stream",
     "text": [
      "c:\\Users\\vitil\\AppData\\Local\\Programs\\Python\\Python310\\lib\\site-packages\\skopt\\optimizer\\optimizer.py:517: UserWarning: The objective has been evaluated at point [1, 1] before, using random point [7, 2]\n",
      "  warnings.warn(\n"
     ]
    },
    {
     "name": "stdout",
     "output_type": "stream",
     "text": [
      "Epoch 0, Loss: 0.6394\n",
      "Epoch 1, Loss: 0.4060\n",
      "Epoch 2, Loss: 0.2294\n",
      "Epoch 3, Loss: 0.0993\n",
      "Epoch 4, Loss: 0.0373\n",
      "Epoch 5, Loss: 0.0163\n",
      "Test objective (-CE) for theta=[7, 2]: -0.0110\n",
      "Iteration No: 138 ended. Search finished for the next optimal point.\n",
      "Time taken: 6.5213\n",
      "Function value obtained: -0.0110\n",
      "Current minimum: -0.6945\n",
      "Iteration No: 139 started. Searching for the next optimal point.\n"
     ]
    },
    {
     "name": "stderr",
     "output_type": "stream",
     "text": [
      "c:\\Users\\vitil\\AppData\\Local\\Programs\\Python\\Python310\\lib\\site-packages\\skopt\\optimizer\\optimizer.py:517: UserWarning: The objective has been evaluated at point [1, 1] before, using random point [-8, 9]\n",
      "  warnings.warn(\n"
     ]
    },
    {
     "name": "stdout",
     "output_type": "stream",
     "text": [
      "Epoch 0, Loss: 0.3689\n",
      "Epoch 1, Loss: 0.1203\n",
      "Epoch 2, Loss: 0.0307\n",
      "Epoch 3, Loss: 0.0086\n",
      "Epoch 4, Loss: 0.0039\n",
      "Epoch 5, Loss: 0.0025\n",
      "Test objective (-CE) for theta=[-8, 9]: -0.0021\n",
      "Iteration No: 139 ended. Search finished for the next optimal point.\n",
      "Time taken: 6.5295\n",
      "Function value obtained: -0.0021\n",
      "Current minimum: -0.6945\n",
      "Iteration No: 140 started. Searching for the next optimal point.\n"
     ]
    },
    {
     "name": "stderr",
     "output_type": "stream",
     "text": [
      "c:\\Users\\vitil\\AppData\\Local\\Programs\\Python\\Python310\\lib\\site-packages\\skopt\\optimizer\\optimizer.py:517: UserWarning: The objective has been evaluated at point [1, 1] before, using random point [-9, 5]\n",
      "  warnings.warn(\n"
     ]
    },
    {
     "name": "stdout",
     "output_type": "stream",
     "text": [
      "Epoch 0, Loss: 0.2869\n",
      "Epoch 1, Loss: 0.1100\n",
      "Epoch 2, Loss: 0.0285\n",
      "Epoch 3, Loss: 0.0080\n",
      "Epoch 4, Loss: 0.0034\n",
      "Epoch 5, Loss: 0.0021\n",
      "Test objective (-CE) for theta=[-9, 5]: -0.0017\n",
      "Iteration No: 140 ended. Search finished for the next optimal point.\n",
      "Time taken: 6.6168\n",
      "Function value obtained: -0.0017\n",
      "Current minimum: -0.6945\n",
      "Iteration No: 141 started. Searching for the next optimal point.\n"
     ]
    },
    {
     "name": "stderr",
     "output_type": "stream",
     "text": [
      "c:\\Users\\vitil\\AppData\\Local\\Programs\\Python\\Python310\\lib\\site-packages\\skopt\\optimizer\\optimizer.py:517: UserWarning: The objective has been evaluated at point [1, 1] before, using random point [1, -3]\n",
      "  warnings.warn(\n"
     ]
    },
    {
     "name": "stdout",
     "output_type": "stream",
     "text": [
      "Epoch 0, Loss: 0.6949\n",
      "Epoch 1, Loss: 0.6802\n",
      "Epoch 2, Loss: 0.6617\n",
      "Epoch 3, Loss: 0.6381\n",
      "Epoch 4, Loss: 0.6051\n",
      "Epoch 5, Loss: 0.5682\n",
      "Test objective (-CE) for theta=[1, -3]: -0.5488\n",
      "Iteration No: 141 ended. Search finished for the next optimal point.\n",
      "Time taken: 6.4683\n",
      "Function value obtained: -0.5488\n",
      "Current minimum: -0.6945\n",
      "Iteration No: 142 started. Searching for the next optimal point.\n"
     ]
    },
    {
     "name": "stderr",
     "output_type": "stream",
     "text": [
      "c:\\Users\\vitil\\AppData\\Local\\Programs\\Python\\Python310\\lib\\site-packages\\skopt\\optimizer\\optimizer.py:517: UserWarning: The objective has been evaluated at point [1, 1] before, using random point [-8, -10]\n",
      "  warnings.warn(\n"
     ]
    },
    {
     "name": "stdout",
     "output_type": "stream",
     "text": [
      "Epoch 0, Loss: 0.5429\n",
      "Epoch 1, Loss: 0.2082\n",
      "Epoch 2, Loss: 0.0829\n",
      "Epoch 3, Loss: 0.0302\n",
      "Epoch 4, Loss: 0.0131\n",
      "Epoch 5, Loss: 0.0073\n",
      "Test objective (-CE) for theta=[-8, -10]: -0.0058\n",
      "Iteration No: 142 ended. Search finished for the next optimal point.\n",
      "Time taken: 6.5290\n",
      "Function value obtained: -0.0058\n",
      "Current minimum: -0.6945\n",
      "Iteration No: 143 started. Searching for the next optimal point.\n"
     ]
    },
    {
     "name": "stderr",
     "output_type": "stream",
     "text": [
      "c:\\Users\\vitil\\AppData\\Local\\Programs\\Python\\Python310\\lib\\site-packages\\skopt\\optimizer\\optimizer.py:517: UserWarning: The objective has been evaluated at point [1, 1] before, using random point [-5, 9]\n",
      "  warnings.warn(\n"
     ]
    },
    {
     "name": "stdout",
     "output_type": "stream",
     "text": [
      "Epoch 0, Loss: 0.3622\n",
      "Epoch 1, Loss: 0.0941\n",
      "Epoch 2, Loss: 0.0253\n",
      "Epoch 3, Loss: 0.0085\n",
      "Epoch 4, Loss: 0.0043\n",
      "Epoch 5, Loss: 0.0029\n",
      "Test objective (-CE) for theta=[-5, 9]: -0.0024\n",
      "Iteration No: 143 ended. Search finished for the next optimal point.\n",
      "Time taken: 6.7660\n",
      "Function value obtained: -0.0024\n",
      "Current minimum: -0.6945\n",
      "Iteration No: 144 started. Searching for the next optimal point.\n"
     ]
    },
    {
     "name": "stderr",
     "output_type": "stream",
     "text": [
      "c:\\Users\\vitil\\AppData\\Local\\Programs\\Python\\Python310\\lib\\site-packages\\skopt\\optimizer\\optimizer.py:517: UserWarning: The objective has been evaluated at point [1, 1] before, using random point [0, 2]\n",
      "  warnings.warn(\n"
     ]
    },
    {
     "name": "stdout",
     "output_type": "stream",
     "text": [
      "Epoch 0, Loss: 0.6354\n",
      "Epoch 1, Loss: 0.4842\n",
      "Epoch 2, Loss: 0.2835\n",
      "Epoch 3, Loss: 0.1282\n",
      "Epoch 4, Loss: 0.0531\n",
      "Epoch 5, Loss: 0.0259\n",
      "Test objective (-CE) for theta=[0, 2]: -0.0177\n",
      "Iteration No: 144 ended. Search finished for the next optimal point.\n",
      "Time taken: 6.4956\n",
      "Function value obtained: -0.0177\n",
      "Current minimum: -0.6945\n",
      "Iteration No: 145 started. Searching for the next optimal point.\n"
     ]
    },
    {
     "name": "stderr",
     "output_type": "stream",
     "text": [
      "c:\\Users\\vitil\\AppData\\Local\\Programs\\Python\\Python310\\lib\\site-packages\\skopt\\optimizer\\optimizer.py:517: UserWarning: The objective has been evaluated at point [1, 1] before, using random point [-7, -1]\n",
      "  warnings.warn(\n"
     ]
    },
    {
     "name": "stdout",
     "output_type": "stream",
     "text": [
      "Epoch 0, Loss: 0.3569\n",
      "Epoch 1, Loss: 0.0835\n",
      "Epoch 2, Loss: 0.0175\n",
      "Epoch 3, Loss: 0.0055\n",
      "Epoch 4, Loss: 0.0029\n",
      "Epoch 5, Loss: 0.0020\n",
      "Test objective (-CE) for theta=[-7, -1]: -0.0018\n",
      "Iteration No: 145 ended. Search finished for the next optimal point.\n",
      "Time taken: 6.6031\n",
      "Function value obtained: -0.0018\n",
      "Current minimum: -0.6945\n",
      "Iteration No: 146 started. Searching for the next optimal point.\n"
     ]
    },
    {
     "name": "stderr",
     "output_type": "stream",
     "text": [
      "c:\\Users\\vitil\\AppData\\Local\\Programs\\Python\\Python310\\lib\\site-packages\\skopt\\optimizer\\optimizer.py:517: UserWarning: The objective has been evaluated at point [1, 1] before, using random point [-10, -5]\n",
      "  warnings.warn(\n"
     ]
    },
    {
     "name": "stdout",
     "output_type": "stream",
     "text": [
      "Epoch 0, Loss: 0.4619\n",
      "Epoch 1, Loss: 0.1973\n",
      "Epoch 2, Loss: 0.0845\n",
      "Epoch 3, Loss: 0.0320\n",
      "Epoch 4, Loss: 0.0137\n",
      "Epoch 5, Loss: 0.0074\n",
      "Test objective (-CE) for theta=[-10, -5]: -0.0058\n",
      "Iteration No: 146 ended. Search finished for the next optimal point.\n",
      "Time taken: 6.5105\n",
      "Function value obtained: -0.0058\n",
      "Current minimum: -0.6945\n",
      "Iteration No: 147 started. Searching for the next optimal point.\n"
     ]
    },
    {
     "name": "stderr",
     "output_type": "stream",
     "text": [
      "c:\\Users\\vitil\\AppData\\Local\\Programs\\Python\\Python310\\lib\\site-packages\\skopt\\optimizer\\optimizer.py:517: UserWarning: The objective has been evaluated at point [1, 1] before, using random point [9, 8]\n",
      "  warnings.warn(\n"
     ]
    },
    {
     "name": "stdout",
     "output_type": "stream",
     "text": [
      "Epoch 0, Loss: 0.4396\n",
      "Epoch 1, Loss: 0.2413\n",
      "Epoch 2, Loss: 0.1046\n",
      "Epoch 3, Loss: 0.0358\n",
      "Epoch 4, Loss: 0.0139\n",
      "Epoch 5, Loss: 0.0072\n",
      "Test objective (-CE) for theta=[9, 8]: -0.0053\n",
      "Iteration No: 147 ended. Search finished for the next optimal point.\n",
      "Time taken: 6.6136\n",
      "Function value obtained: -0.0053\n",
      "Current minimum: -0.6945\n",
      "Iteration No: 148 started. Searching for the next optimal point.\n"
     ]
    },
    {
     "name": "stderr",
     "output_type": "stream",
     "text": [
      "c:\\Users\\vitil\\AppData\\Local\\Programs\\Python\\Python310\\lib\\site-packages\\skopt\\optimizer\\optimizer.py:517: UserWarning: The objective has been evaluated at point [1, 1] before, using random point [-8, -4]\n",
      "  warnings.warn(\n"
     ]
    },
    {
     "name": "stdout",
     "output_type": "stream",
     "text": [
      "Epoch 0, Loss: 0.5209\n",
      "Epoch 1, Loss: 0.3449\n",
      "Epoch 2, Loss: 0.2251\n",
      "Epoch 3, Loss: 0.1054\n",
      "Epoch 4, Loss: 0.0347\n",
      "Epoch 5, Loss: 0.0117\n",
      "Test objective (-CE) for theta=[-8, -4]: -0.0073\n",
      "Iteration No: 148 ended. Search finished for the next optimal point.\n",
      "Time taken: 6.5235\n",
      "Function value obtained: -0.0073\n",
      "Current minimum: -0.6945\n",
      "Iteration No: 149 started. Searching for the next optimal point.\n"
     ]
    },
    {
     "name": "stderr",
     "output_type": "stream",
     "text": [
      "c:\\Users\\vitil\\AppData\\Local\\Programs\\Python\\Python310\\lib\\site-packages\\skopt\\optimizer\\optimizer.py:517: UserWarning: The objective has been evaluated at point [1, 1] before, using random point [6, -1]\n",
      "  warnings.warn(\n"
     ]
    },
    {
     "name": "stdout",
     "output_type": "stream",
     "text": [
      "Epoch 0, Loss: 0.4193\n",
      "Epoch 1, Loss: 0.2889\n",
      "Epoch 2, Loss: 0.1564\n",
      "Epoch 3, Loss: 0.0658\n",
      "Epoch 4, Loss: 0.0273\n",
      "Epoch 5, Loss: 0.0134\n",
      "Test objective (-CE) for theta=[6, -1]: -0.0098\n",
      "Iteration No: 149 ended. Search finished for the next optimal point.\n",
      "Time taken: 6.5804\n",
      "Function value obtained: -0.0098\n",
      "Current minimum: -0.6945\n",
      "Iteration No: 150 started. Searching for the next optimal point.\n"
     ]
    },
    {
     "name": "stderr",
     "output_type": "stream",
     "text": [
      "c:\\Users\\vitil\\AppData\\Local\\Programs\\Python\\Python310\\lib\\site-packages\\skopt\\optimizer\\optimizer.py:517: UserWarning: The objective has been evaluated at point [1, 1] before, using random point [3, 9]\n",
      "  warnings.warn(\n"
     ]
    },
    {
     "name": "stdout",
     "output_type": "stream",
     "text": [
      "Epoch 0, Loss: 0.5016\n",
      "Epoch 1, Loss: 0.3758\n",
      "Epoch 2, Loss: 0.2585\n",
      "Epoch 3, Loss: 0.1527\n",
      "Epoch 4, Loss: 0.0796\n",
      "Epoch 5, Loss: 0.0412\n",
      "Test objective (-CE) for theta=[3, 9]: -0.0297\n",
      "Iteration No: 150 ended. Search finished for the next optimal point.\n",
      "Time taken: 6.5864\n",
      "Function value obtained: -0.0297\n",
      "Current minimum: -0.6945\n",
      "\n",
      "5. Results:\n",
      "   - True parameters: a=1.0, b=2.0\n",
      "   - Estimated parameters: a=1.0000, b=2.0000\n",
      "   - Estimation error: a_error=0.0000, b_error=0.0000\n"
     ]
    },
    {
     "data": {
      "text/plain": [
       "<Figure size 640x480 with 0 Axes>"
      ]
     },
     "metadata": {},
     "output_type": "display_data"
    }
   ],
   "source": [
    "if __name__ == \"__main__\":\n",
    "    \n",
    "    print(\"Testing Adversarial Estimation for Linear-in-Means Model\")\n",
    "    print(\"=\" * 60)\n",
    "    true_params = [1.0, 2.0]\n",
    "    print(\"\\n1. Generating test dataset...\")\n",
    "    test_data = create_test_graph_dataset(num_nodes=N_NODES, true_a=true_params[0], true_b=true_params[1], p=P)\n",
    "\n",
    "    print(\"\\n2. Creating adversarial estimator...\")\n",
    "    estimator = AdversarialEstimator(\n",
    "        ground_truth_data=test_data,\n",
    "        structural_model=linear_in_means_model,\n",
    "        initial_params=[0.0, 0.0],\n",
    "        bounds=[(-10, 10), (-10, 10)],\n",
    "        discriminator_factory=discriminator_factory\n",
    "    )\n",
    "\n",
    "    print(\"\\n3. Visualizing objective function surface...\")\n",
    "\n",
    "    visualize_objective_surface(\n",
    "        estimator,\n",
    "        m=N_SAMPLES,\n",
    "        resolution=RESOLUTION,\n",
    "        num_epochs=N_EPOCHS,\n",
    "        verbose=True,\n",
    "    )\n",
    "\n",
    "\n",
    "    print(\"\\n4. Running adversarial estimation...\")\n",
    "    result = estimator.estimate(m=N_SAMPLES, num_epochs=N_EPOCHS, verbose=True)\n",
    "    estimated_params = result['x'] if isinstance(result, dict) else result.x\n",
    "    estimator.estimated_params = estimated_params\n",
    "\n",
    "    print(\"\\n5. Results:\")\n",
    "    print(f\"   - True parameters: a={true_params[0]}, b={true_params[1]}\")\n",
    "    print(f\"   - Estimated parameters: a={estimated_params[0]:.4f}, b={estimated_params[1]:.4f}\")\n",
    "    print(\n",
    "        f\"   - Estimation error: a_error={abs(estimated_params[0] - true_params[0]):.4f}, \"\n",
    "        f\"b_error={abs(estimated_params[1] - true_params[1]):.4f}\"\n",
    "    )\n",
    "\n",
    "    plt.tight_layout()\n",
    "    plt.show()"
   ]
  }
 ],
 "metadata": {
  "kernelspec": {
   "display_name": "Python 3",
   "language": "python",
   "name": "python3"
  },
  "language_info": {
   "codemirror_mode": {
    "name": "ipython",
    "version": 3
   },
   "file_extension": ".py",
   "mimetype": "text/x-python",
   "name": "python",
   "nbconvert_exporter": "python",
   "pygments_lexer": "ipython3",
   "version": "3.10.0"
  }
 },
 "nbformat": 4,
 "nbformat_minor": 5
}