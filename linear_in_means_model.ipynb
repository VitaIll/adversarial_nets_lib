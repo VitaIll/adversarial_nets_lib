{
 "cells": [
  {
   "cell_type": "markdown",
   "metadata": {},
   "source": [
    "# Linear in means model test\n",
    "\n",
    "This notebook demonstrates usage of the redesigned adversarial estimator for the linear-in-means model."
   ]
  },
  {
   "cell_type": "code",
   "execution_count": null,
   "metadata": {},
   "outputs": [],
   "source": [
    "import numpy as np\n",
    "from structural_gnn_lib import GraphDataset, AdversarialEstimator, linear_in_means_model\n",
    "from structural_gnn_lib.discriminator.discriminator import GraphDiscriminator"
   ]
  },
  {
   "cell_type": "code",
   "execution_count": null,
   "metadata": {},
   "outputs": [],
   "source": [
    "# 1. Wrangle data\n",
    "N = 50\n",
    "p = 0.1\n",
    "rng = np.random.default_rng(0)\n",
    "A = (rng.random((N, N)) < p).astype(float)\n",
    "A = np.triu(A, 1)\n",
    "A += A.T\n",
    "X = rng.standard_normal((N, 1))\n",
    "Y = np.zeros((N, 1))\n",
    "data = GraphDataset(X=X, Y=Y, A=A, N=list(range(N)))"
   ]
  },
  {
   "cell_type": "code",
   "execution_count": null,
   "metadata": {},
   "outputs": [],
   "source": [
    "# 2. Define discriminator factory\n",
    "def make_discriminator(input_dim):\n",
    "    return GraphDiscriminator(input_dim)"
   ]
  },
  {
   "cell_type": "code",
   "execution_count": null,
   "metadata": {},
   "outputs": [],
   "source": [
    "# 3. Structural model mapping is `linear_in_means_model`\n"
   ]
  },
  {
   "cell_type": "code",
   "execution_count": null,
   "metadata": {},
   "outputs": [],
   "source": [
    "# 4. Hyperparameters for GP minimizer\n",
    "gp_params = dict(n_calls=10, n_initial_points=5, random_state=0)"
   ]
  },
  {
   "cell_type": "code",
   "execution_count": null,
   "metadata": {},
   "outputs": [],
   "source": [
    "# 5. Use adversarial estimator\n",
    "estimator = AdversarialEstimator(\n",
    "    ground_truth_data=data,\n",
    "    structural_model=linear_in_means_model,\n",
    "    initial_params=[0.1, 0.1],\n",
    "    bounds=[(0.0, 1.0), (0.0, 1.0)],\n",
    "    discriminator_factory=make_discriminator,\n",
    "    gp_params=gp_params,\n",
    ")\n",
    "# result = estimator.estimate(m=20, num_epochs=2)"
   ]
  }
 ],
 "metadata": {
  "kernelspec": {
   "display_name": "Python 3",
   "language": "python",
   "name": "python3"
  },
  "language_info": {
   "name": "python",
   "pygments_lexer": "ipython3",
   "version": "3.10"
  }
 },
 "nbformat": 4,
 "nbformat_minor": 5
}
