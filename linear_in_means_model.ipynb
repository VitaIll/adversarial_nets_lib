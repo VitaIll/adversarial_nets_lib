{
 "cells": [
  {
   "cell_type": "markdown",
   "id": "5ee07ed7",
   "metadata": {},
   "source": [
    "# Linear in means model\n",
    "\n",
    "Following notebook runs a test of structural adversarial estimation of linear in means peer effect model of a form:\n",
    "$$ y_i = a + b \\cdot  1/|\\mathcal{N(i)}| \\sum_{j \\in \\mathcal{N(i)}} x_j + \\varepsilon_i$$\n",
    "\n",
    "Where $y_i$ is a scalar outcome of node $i$, $\\mathcal{N(i)}$ is set of $i$'s neighbours and $x_j$ is some characteristic of $j$ exogenous to the structural model.\n",
    "Ultimately, such model can be easily estimated with cross-sectional OLS but this experiment shows that our method works for trivial case, and for 2 parameter model we are able to visualize objective and optimization path. The discriminator is simple GNN with a single convolutional layer and linear classifier and we use ego sampling of depth 1 to create the training sample. Outside minimization problem of the adversarial objective is solved with surrogate optimization using GP as model of expected improvement."
   ]
  },
  {
   "cell_type": "markdown",
   "id": "fb9ffc08",
   "metadata": {},
   "source": [
    "## Imports"
   ]
  },
  {
   "cell_type": "code",
   "execution_count": 1,
   "id": "3048c351",
   "metadata": {},
   "outputs": [
    {
     "name": "stderr",
     "output_type": "stream",
     "text": [
      "c:\\Users\\vitil\\AppData\\Local\\Programs\\Python\\Python310\\lib\\site-packages\\torch_geometric\\typing.py:86: UserWarning: An issue occurred while importing 'torch-scatter'. Disabling its usage. Stacktrace: [WinError 127] The specified procedure could not be found\n",
      "  warnings.warn(f\"An issue occurred while importing 'torch-scatter'. \"\n"
     ]
    }
   ],
   "source": [
    "import warnings\n",
    "warnings.filterwarnings(\"ignore\", message=\"An issue occurred while importing 'torch-sparse'\")\n",
    "warnings.filterwarnings(\"ignore\", message=\"An issue occurred while importing 'torch-cluster'\")\n",
    "\n",
    "import torch\n",
    "import torch.nn as nn\n",
    "import torch.nn.functional as F\n",
    "from torch_geometric.nn import GCNConv, global_mean_pool\n",
    "import numpy as np\n",
    "import networkx as nx\n",
    "import matplotlib.pyplot as plt\n",
    "from tqdm import tqdm\n",
    "import random\n",
    "\n",
    "import sys\n",
    "sys.path.append('/path/to/parent/directory/of/structural_gnn_lib')\n",
    "\n",
    "from structural_gnn_lib import (\n",
    "    AdversarialEstimator,\n",
    "    GraphDataset,\n",
    "    objective_function\n",
    ")"
   ]
  },
  {
   "cell_type": "markdown",
   "id": "1ceb1a3f",
   "metadata": {},
   "source": [
    "## Test dataset "
   ]
  },
  {
   "cell_type": "code",
   "execution_count": 2,
   "id": "520dd77a",
   "metadata": {},
   "outputs": [],
   "source": [
    "N_NODES = 2500\n",
    "N_SAMPLES = 2000\n",
    "N_EPOCHS = 6\n",
    "RESOLUTION = 10\n",
    "P = 0.01\n",
    "\n",
    "def create_test_graph_dataset(\n",
    "    num_nodes: int = 100,\n",
    "    true_a: float = 1.0,\n",
    "    true_b: float = 2.0,\n",
    "    p: float = 0.01,\n",
    "    seed: int = 42\n",
    ") -> GraphDataset:\n",
    "    \"\"\"Generate a test graph dataset for a linear-in-means model.\"\"\"\n",
    "    \n",
    "    np.random.seed(seed)\n",
    "    random.seed(seed)\n",
    "    torch.manual_seed(seed)\n",
    "\n",
    "    G = nx.erdos_renyi_graph(n=num_nodes, p=p, seed=seed)\n",
    "    A = nx.adjacency_matrix(G).todense()  \n",
    "    X = np.random.randn(num_nodes, 1)\n",
    "\n",
    "    Y = np.zeros((num_nodes, 1))\n",
    "    for i in range(num_nodes):\n",
    "        neighbors = list(G.neighbors(i))\n",
    "        if neighbors:\n",
    "            mean_neighbor_x = np.mean(X[neighbors], axis=0)\n",
    "        else:\n",
    "            mean_neighbor_x = 0.0\n",
    "        Y[i] = true_a + true_b * mean_neighbor_x + np.random.normal(0.0, 0.1)\n",
    "\n",
    "    N = list(range(num_nodes))\n",
    "\n",
    "    return GraphDataset(X=X, Y=Y, A=A, N=N)"
   ]
  },
  {
   "cell_type": "markdown",
   "id": "2fab0653",
   "metadata": {},
   "source": [
    "## Structural model mapping"
   ]
  },
  {
   "cell_type": "code",
   "execution_count": 3,
   "id": "a1b701ed",
   "metadata": {},
   "outputs": [],
   "source": [
    "from numba import njit, prange\n",
    "\n",
    "@njit(parallel=True)\n",
    "def linear_in_means_model(x, adjacency, theta):\n",
    "    \"\"\"\n",
    "    Numba-optimized linear-in-means model with automatic parallelization.\n",
    "    \n",
    "    Parameters:\n",
    "    -----------\n",
    "    x : numpy.ndarray\n",
    "        Node features (n × k) - must be C-contiguous\n",
    "    adjacency : numpy.ndarray\n",
    "        Adjacency matrix (n × n) - must be C-contiguous\n",
    "    theta : tuple or list\n",
    "        Parameters (a, b) - pass as tuple for better Numba performance\n",
    "    \n",
    "    Returns:\n",
    "    --------\n",
    "    numpy.ndarray\n",
    "        Generated outcomes (n × 1)\n",
    "    \"\"\"\n",
    "    a, b = theta[0], theta[1]\n",
    "    n = x.shape[0]\n",
    "    y = np.zeros((n, 1), dtype=x.dtype)\n",
    "    \n",
    "    for i in prange(n):\n",
    "        neighbor_sum = 0.0\n",
    "        neighbor_count = 0\n",
    "        \n",
    "        for j in range(n):\n",
    "            if adjacency[i, j] > 0:\n",
    "                neighbor_sum += x[j, 0]\n",
    "                neighbor_count += 1\n",
    "        \n",
    "        if neighbor_count > 0:\n",
    "            mean_neighbor_x = neighbor_sum / neighbor_count\n",
    "        else:\n",
    "            mean_neighbor_x = 0.0\n",
    "            \n",
    "        y[i, 0] = a + b * mean_neighbor_x\n",
    "    \n",
    "    return y"
   ]
  },
  {
   "cell_type": "code",
   "execution_count": 4,
   "id": "ca52ff9b",
   "metadata": {},
   "outputs": [],
   "source": [
    "def discriminator_factory(input_dim, hidden_dim=16, num_classes=2):\n",
    "    class SimpleGNN(nn.Module):\n",
    "        def __init__(self, in_dim, hid_dim, num_cls):\n",
    "            super().__init__()\n",
    "            self.conv = GCNConv(in_dim, hid_dim)\n",
    "            self.classifier = nn.Linear(hid_dim, num_cls)\n",
    "\n",
    "        def forward(self, data):\n",
    "            x, edge_index, batch = data.x, data.edge_index, data.batch\n",
    "            x = F.relu(self.conv(x, edge_index))\n",
    "            x = F.dropout(x, p=0.2, training=self.training)\n",
    "            x = global_mean_pool(x, batch)\n",
    "            return self.classifier(x)\n",
    "\n",
    "    return SimpleGNN(input_dim, hidden_dim, num_classes)"
   ]
  },
  {
   "cell_type": "markdown",
   "id": "03b07c8d",
   "metadata": {},
   "source": [
    "## Visualization utils "
   ]
  },
  {
   "cell_type": "code",
   "execution_count": 5,
   "id": "be941878",
   "metadata": {},
   "outputs": [],
   "source": [
    "def visualize_objective_surface(estimator, m, resolution, num_epochs, verbose=False):\n",
    "    a_range = np.linspace(-3, 5, resolution)\n",
    "    b_range = np.linspace(-1, 5, resolution)\n",
    "    A, B = np.meshgrid(a_range, b_range)\n",
    "\n",
    "    Z = np.zeros_like(A)\n",
    "\n",
    "    total_evals = resolution * resolution\n",
    "    with tqdm(total=total_evals, desc=\"Evaluating objective surface\") as pbar:\n",
    "        for i in range(resolution):\n",
    "            for j in range(resolution):\n",
    "                theta = [A[i, j], B[i, j]]\n",
    "                Z[i, j] = objective_function(\n",
    "                    theta,\n",
    "                    estimator.ground_truth_generator,\n",
    "                    estimator.synthetic_generator,\n",
    "                    discriminator_factory=estimator.discriminator_factory,\n",
    "                    num_epochs=num_epochs,\n",
    "                    m=m,\n",
    "                    verbose=verbose,\n",
    "                )\n",
    "                pbar.update(1)\n",
    "\n",
    "    fig = plt.figure(figsize=(12, 5))\n",
    "\n",
    "    ax1 = fig.add_subplot(121, projection='3d')\n",
    "    surf = ax1.plot_surface(A, B, Z, cmap='viridis', alpha=0.8)\n",
    "    ax1.set_xlabel('Parameter a')\n",
    "    ax1.set_ylabel('Parameter b')\n",
    "    ax1.set_zlabel('Discriminator Accuracy')\n",
    "    ax1.set_title('Objective Function Surface')\n",
    "\n",
    "    true_a, true_b = 1.0, 2.0\n",
    "    ax1.scatter([true_a], [true_b], [Z.min()], color='red', s=100, marker='*', label='True params')\n",
    "\n",
    "    ax2 = fig.add_subplot(122)\n",
    "    contour = ax2.contour(A, B, Z, levels=20, cmap='viridis')\n",
    "    ax2.clabel(contour, inline=True, fontsize=8)\n",
    "    ax2.scatter([true_a], [true_b], color='red', s=100, marker='*', label='True params')\n",
    "\n",
    "    if hasattr(estimator, 'estimated_params') and estimator.estimated_params is not None:\n",
    "        est_a, est_b = estimator.estimated_params\n",
    "        ax1.scatter([est_a], [est_b], [Z.min()], color='orange', s=100, marker='^', label='Estimated params')\n",
    "        ax2.scatter([est_a], [est_b], color='orange', s=100, marker='^', label='Estimated params')\n",
    "\n",
    "    ax2.set_xlabel('Parameter a')\n",
    "    ax2.set_ylabel('Parameter b')\n",
    "    ax2.set_title('Objective Function Contours')\n",
    "    ax2.legend()\n",
    "\n",
    "    plt.colorbar(surf, ax=ax1, shrink=0.5)\n",
    "    plt.tight_layout()\n",
    "    plt.show()\n",
    "\n",
    "    return Z, (A, B)"
   ]
  },
  {
   "cell_type": "markdown",
   "id": "91ae2a4f",
   "metadata": {},
   "source": [
    "## Execution"
   ]
  },
  {
   "cell_type": "code",
   "execution_count": null,
   "id": "8f4057f9",
   "metadata": {},
   "outputs": [
    {
     "name": "stdout",
     "output_type": "stream",
     "text": [
      "Testing Adversarial Estimation for Linear-in-Means Model\n",
      "============================================================\n",
      "\n",
      "1. Generating test dataset...\n",
      "\n",
      "2. Creating adversarial estimator...\n",
      "\n",
      "3. Visualizing objective function surface...\n"
     ]
    },
    {
     "name": "stderr",
     "output_type": "stream",
     "text": [
      "Evaluating objective surface:   0%|          | 0/100 [00:00<?, ?it/s]"
     ]
    },
    {
     "name": "stdout",
     "output_type": "stream",
     "text": [
      "Epoch 0, Loss: 0.5689\n",
      "Epoch 1, Loss: 0.1922\n",
      "Epoch 2, Loss: 0.0559\n",
      "Epoch 3, Loss: 0.0178\n",
      "Epoch 4, Loss: 0.0082\n",
      "Epoch 5, Loss: 0.0050\n"
     ]
    },
    {
     "name": "stderr",
     "output_type": "stream",
     "text": [
      "Evaluating objective surface:   1%|          | 1/100 [00:05<09:25,  5.71s/it]"
     ]
    },
    {
     "name": "stdout",
     "output_type": "stream",
     "text": [
      "Test accuracy for theta=[-3.0, -1.0]: 1.0000\n",
      "Epoch 0, Loss: 0.4607\n",
      "Epoch 1, Loss: 0.1630\n",
      "Epoch 2, Loss: 0.0413\n",
      "Epoch 3, Loss: 0.0124\n",
      "Epoch 4, Loss: 0.0058\n",
      "Epoch 5, Loss: 0.0037\n"
     ]
    },
    {
     "name": "stderr",
     "output_type": "stream",
     "text": [
      "Evaluating objective surface:   2%|▏         | 2/100 [00:09<07:15,  4.44s/it]"
     ]
    },
    {
     "name": "stdout",
     "output_type": "stream",
     "text": [
      "Test accuracy for theta=[-2.111111111111111, -1.0]: 1.0000\n",
      "Epoch 0, Loss: 0.5948\n",
      "Epoch 1, Loss: 0.3089\n",
      "Epoch 2, Loss: 0.1079\n",
      "Epoch 3, Loss: 0.0324\n",
      "Epoch 4, Loss: 0.0127\n",
      "Epoch 5, Loss: 0.0070\n"
     ]
    },
    {
     "name": "stderr",
     "output_type": "stream",
     "text": [
      "Evaluating objective surface:   3%|▎         | 3/100 [00:12<06:33,  4.05s/it]"
     ]
    },
    {
     "name": "stdout",
     "output_type": "stream",
     "text": [
      "Test accuracy for theta=[-1.2222222222222223, -1.0]: 1.0000\n",
      "Epoch 0, Loss: 0.5623\n",
      "Epoch 1, Loss: 0.3170\n",
      "Epoch 2, Loss: 0.1266\n",
      "Epoch 3, Loss: 0.0420\n",
      "Epoch 4, Loss: 0.0171\n",
      "Epoch 5, Loss: 0.0094\n"
     ]
    },
    {
     "name": "stderr",
     "output_type": "stream",
     "text": [
      "Evaluating objective surface:   4%|▍         | 4/100 [00:16<06:07,  3.83s/it]"
     ]
    },
    {
     "name": "stdout",
     "output_type": "stream",
     "text": [
      "Test accuracy for theta=[-0.3333333333333335, -1.0]: 1.0000\n",
      "Epoch 0, Loss: 0.6452\n",
      "Epoch 1, Loss: 0.5440\n",
      "Epoch 2, Loss: 0.4236\n",
      "Epoch 3, Loss: 0.2998\n",
      "Epoch 4, Loss: 0.1976\n",
      "Epoch 5, Loss: 0.1280\n"
     ]
    },
    {
     "name": "stderr",
     "output_type": "stream",
     "text": [
      "Evaluating objective surface:   5%|▌         | 5/100 [00:19<05:52,  3.71s/it]"
     ]
    },
    {
     "name": "stdout",
     "output_type": "stream",
     "text": [
      "Test accuracy for theta=[0.5555555555555554, -1.0]: 0.9967\n",
      "Epoch 0, Loss: 0.6847\n",
      "Epoch 1, Loss: 0.6601\n",
      "Epoch 2, Loss: 0.6214\n",
      "Epoch 3, Loss: 0.5646\n",
      "Epoch 4, Loss: 0.4980\n"
     ]
    },
    {
     "name": "stderr",
     "output_type": "stream",
     "text": [
      "Evaluating objective surface:   6%|▌         | 6/100 [00:23<05:46,  3.68s/it]"
     ]
    },
    {
     "name": "stdout",
     "output_type": "stream",
     "text": [
      "Epoch 5, Loss: 0.4257\n",
      "Test accuracy for theta=[1.4444444444444446, -1.0]: 0.9250\n",
      "Epoch 0, Loss: 0.6772\n",
      "Epoch 1, Loss: 0.5585\n",
      "Epoch 2, Loss: 0.4128\n",
      "Epoch 3, Loss: 0.2572\n",
      "Epoch 4, Loss: 0.1407\n",
      "Epoch 5, Loss: 0.0736\n"
     ]
    },
    {
     "name": "stderr",
     "output_type": "stream",
     "text": [
      "Evaluating objective surface:   7%|▋         | 7/100 [00:26<05:36,  3.62s/it]"
     ]
    },
    {
     "name": "stdout",
     "output_type": "stream",
     "text": [
      "Test accuracy for theta=[2.333333333333333, -1.0]: 1.0000\n",
      "Epoch 0, Loss: 0.6203\n",
      "Epoch 1, Loss: 0.4824\n",
      "Epoch 2, Loss: 0.3252\n",
      "Epoch 3, Loss: 0.1666\n",
      "Epoch 4, Loss: 0.0684\n",
      "Epoch 5, Loss: 0.0288\n"
     ]
    },
    {
     "name": "stderr",
     "output_type": "stream",
     "text": [
      "Evaluating objective surface:   8%|▊         | 8/100 [00:30<05:27,  3.56s/it]"
     ]
    },
    {
     "name": "stdout",
     "output_type": "stream",
     "text": [
      "Test accuracy for theta=[3.2222222222222214, -1.0]: 1.0000\n",
      "Epoch 0, Loss: 0.6402\n",
      "Epoch 1, Loss: 0.4588\n",
      "Epoch 2, Loss: 0.2588\n",
      "Epoch 3, Loss: 0.1141\n",
      "Epoch 4, Loss: 0.0471\n",
      "Epoch 5, Loss: 0.0221\n"
     ]
    },
    {
     "name": "stderr",
     "output_type": "stream",
     "text": [
      "Evaluating objective surface:   9%|▉         | 9/100 [00:33<05:20,  3.53s/it]"
     ]
    },
    {
     "name": "stdout",
     "output_type": "stream",
     "text": [
      "Test accuracy for theta=[4.111111111111111, -1.0]: 1.0000\n",
      "Epoch 0, Loss: 0.5060\n",
      "Epoch 1, Loss: 0.3272\n",
      "Epoch 2, Loss: 0.1693\n",
      "Epoch 3, Loss: 0.0727\n",
      "Epoch 4, Loss: 0.0314\n",
      "Epoch 5, Loss: 0.0162\n"
     ]
    },
    {
     "name": "stderr",
     "output_type": "stream",
     "text": [
      "Evaluating objective surface:  10%|█         | 10/100 [00:37<05:20,  3.56s/it]"
     ]
    },
    {
     "name": "stdout",
     "output_type": "stream",
     "text": [
      "Test accuracy for theta=[5.0, -1.0]: 1.0000\n",
      "Epoch 0, Loss: 0.4020\n",
      "Epoch 1, Loss: 0.1415\n",
      "Epoch 2, Loss: 0.0368\n",
      "Epoch 3, Loss: 0.0109\n",
      "Epoch 4, Loss: 0.0051\n",
      "Epoch 5, Loss: 0.0032\n"
     ]
    },
    {
     "name": "stderr",
     "output_type": "stream",
     "text": [
      "Evaluating objective surface:  11%|█         | 11/100 [00:41<05:20,  3.60s/it]"
     ]
    },
    {
     "name": "stdout",
     "output_type": "stream",
     "text": [
      "Test accuracy for theta=[-3.0, -0.33333333333333337]: 1.0000\n",
      "Epoch 0, Loss: 0.4873\n",
      "Epoch 1, Loss: 0.1660\n",
      "Epoch 2, Loss: 0.0430\n",
      "Epoch 3, Loss: 0.0136\n",
      "Epoch 4, Loss: 0.0064\n",
      "Epoch 5, Loss: 0.0041\n"
     ]
    },
    {
     "name": "stderr",
     "output_type": "stream",
     "text": [
      "Evaluating objective surface:  12%|█▏        | 12/100 [00:44<05:20,  3.64s/it]"
     ]
    },
    {
     "name": "stdout",
     "output_type": "stream",
     "text": [
      "Test accuracy for theta=[-2.111111111111111, -0.33333333333333337]: 1.0000\n",
      "Epoch 0, Loss: 0.6520\n",
      "Epoch 1, Loss: 0.3765\n",
      "Epoch 2, Loss: 0.1546\n",
      "Epoch 3, Loss: 0.0498\n",
      "Epoch 4, Loss: 0.0179\n"
     ]
    },
    {
     "name": "stderr",
     "output_type": "stream",
     "text": [
      "Evaluating objective surface:  13%|█▎        | 13/100 [00:48<05:19,  3.67s/it]"
     ]
    },
    {
     "name": "stdout",
     "output_type": "stream",
     "text": [
      "Epoch 5, Loss: 0.0089\n",
      "Test accuracy for theta=[-1.2222222222222223, -0.33333333333333337]: 1.0000\n",
      "Epoch 0, Loss: 0.6066\n",
      "Epoch 1, Loss: 0.3727\n",
      "Epoch 2, Loss: 0.1681\n",
      "Epoch 3, Loss: 0.0600\n",
      "Epoch 4, Loss: 0.0237\n"
     ]
    },
    {
     "name": "stderr",
     "output_type": "stream",
     "text": [
      "Evaluating objective surface:  14%|█▍        | 14/100 [00:52<05:25,  3.78s/it]"
     ]
    },
    {
     "name": "stdout",
     "output_type": "stream",
     "text": [
      "Epoch 5, Loss: 0.0123\n",
      "Test accuracy for theta=[-0.3333333333333335, -0.33333333333333337]: 1.0000\n",
      "Epoch 0, Loss: 0.6767\n",
      "Epoch 1, Loss: 0.5952\n",
      "Epoch 2, Loss: 0.4821\n",
      "Epoch 3, Loss: 0.3441\n",
      "Epoch 4, Loss: 0.2174\n"
     ]
    },
    {
     "name": "stderr",
     "output_type": "stream",
     "text": [
      "Evaluating objective surface:  15%|█▌        | 15/100 [00:56<05:31,  3.90s/it]"
     ]
    },
    {
     "name": "stdout",
     "output_type": "stream",
     "text": [
      "Epoch 5, Loss: 0.1294\n",
      "Test accuracy for theta=[0.5555555555555554, -0.33333333333333337]: 0.9983\n",
      "Epoch 0, Loss: 0.6862\n",
      "Epoch 1, Loss: 0.6520\n",
      "Epoch 2, Loss: 0.5944\n",
      "Epoch 3, Loss: 0.5135\n",
      "Epoch 4, Loss: 0.4163\n"
     ]
    },
    {
     "name": "stderr",
     "output_type": "stream",
     "text": [
      "Evaluating objective surface:  16%|█▌        | 16/100 [01:00<05:22,  3.84s/it]"
     ]
    },
    {
     "name": "stdout",
     "output_type": "stream",
     "text": [
      "Epoch 5, Loss: 0.3251\n",
      "Test accuracy for theta=[1.4444444444444446, -0.33333333333333337]: 0.9842\n"
     ]
    }
   ],
   "source": [
    "if __name__ == \"__main__\":\n",
    "    print(\"Testing Adversarial Estimation for Linear-in-Means Model\")\n",
    "    print(\"=\" * 60)\n",
    "    true_params = [1.0, 2.0]\n",
    "    print(\"\\n1. Generating test dataset...\")\n",
    "    test_data = create_test_graph_dataset(num_nodes=N_NODES, true_a=true_params[0], true_b=true_params[1], p=P)\n",
    "\n",
    "    print(\"\\n2. Creating adversarial estimator...\")\n",
    "    estimator = AdversarialEstimator(\n",
    "        ground_truth_data=test_data,\n",
    "        structural_model=linear_in_means_model,\n",
    "        initial_params=[0.0, 0.0],\n",
    "        bounds=[(-100, 100), (-100, 100)],\n",
    "        discriminator_factory=discriminator_factory,\n",
    "    )\n",
    "\n",
    "    print(\"\\n3. Visualizing objective function surface...\")\n",
    "    visualize_objective_surface(\n",
    "        estimator,\n",
    "        m=N_SAMPLES,\n",
    "        resolution=RESOLUTION,\n",
    "        num_epochs=N_EPOCHS,\n",
    "        verbose=True,\n",
    "    )\n",
    "\n",
    "    print(\"\\n4. Running adversarial estimation...\")\n",
    "    result = estimator.estimate(m=N_SAMPLES, num_epochs=N_EPOCHS, verbose=True)\n",
    "    estimated_params = result['x'] if isinstance(result, dict) else result.x\n",
    "    estimator.estimated_params = estimated_params\n",
    "\n",
    "    print(\"\\n5. Results:\")\n",
    "    print(f\"   - True parameters: a={true_params[0]}, b={true_params[1]}\")\n",
    "    print(f\"   - Estimated parameters: a={estimated_params[0]:.4f}, b={estimated_params[1]:.4f}\")\n",
    "    print(\n",
    "        f\"   - Estimation error: a_error={abs(estimated_params[0] - true_params[0]):.4f}, \"\n",
    "        f\"b_error={abs(estimated_params[1] - true_params[1]):.4f}\"\n",
    "    )\n",
    "\n",
    "    plt.tight_layout()\n",
    "    plt.show()"
   ]
  }
 ],
 "metadata": {
  "kernelspec": {
   "display_name": "Python 3",
   "language": "python",
   "name": "python3"
  },
  "language_info": {
   "codemirror_mode": {
    "name": "ipython",
    "version": 3
   },
   "file_extension": ".py",
   "mimetype": "text/x-python",
   "name": "python",
   "nbconvert_exporter": "python",
   "pygments_lexer": "ipython3",
   "version": "3.10.0"
  }
 },
 "nbformat": 4,
 "nbformat_minor": 5
}
